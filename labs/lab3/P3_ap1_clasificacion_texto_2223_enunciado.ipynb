<html><head>
<meta http-equiv="content-type" content="text/html; charset=UTF-8"></head><body>{"cells":[{"cell_type":"markdown","metadata":{"id":"OUBRwgEu3yu1"},"source":["#
 Práctica 2: Procesamiento del Lenguaje Natural\n","\n","__Fecha de 
entrega: 8 de mayo de 2023__\n","\n","El objetivo de esta práctica es 
aplicar los conceptos teóricos vistos en clase en el módulo de PLN. La 
práctica consta de 2 notebooks que se entregarán simultáneamente en la 
tarea de entrega habilitada en el Campus  Virtual.\n","\n","Lo más 
importante en esta práctica no es el código Python, sino el análisis de 
los datos y modelos que construyas y las explicaciones razonadas de cada
 una de las decisiones que tomes. __No se valorarán trozos de código o 
gráficas sin ningún tipo de contexto o 
explicación__.\n","\n","Finalmente, recuerda establecer el parámetro 
`random_state` en todas las funciones que tomen decisiones aleatorias 
para que los resultados sean reproducibles (los resultados no varíen 
entre 
ejecuciones)."]},{"cell_type":"code","execution_count":null,"metadata":{"id":"V3YxCTUW3yu9"},"outputs":[],"source":["RANDOM_STATE
 = 
1234"]},{"cell_type":"markdown","metadata":{"id":"pn_YQLVL3yvA"},"source":["#
 Apartado 1: Análisis de 
sentimientos\n"]},{"cell_type":"markdown","metadata":{"id":"de-i8w0s3yvC"},"source":["__Número
 de grupo: XX__\n","\n","__Nombres de los estudiantes: XXX y 
XXX__"]},{"cell_type":"markdown","metadata":{"id":"yeVD_g2D3yvC"},"source":["##
 1) Carga del conjunto de datos\n","\n","El fichero `IMBD_Dataset.csv` 
contiene opiniones de películas clasificadas en 2 categorías diferentes 
(positiva/negativa).\n","\n","Este set de datos se creó utilizando el 
\"IMDB Dataset of 50K Movie Reviews\", el cual contiene 50,000 reseñas 
de películas con un sentimiento positivo o negativo adjunto a 
ellas.\n","\n","Muestra un ejemplo de cada clase.\n","\n","Haz un 
estudio del conjunto de datos. ¿qué palabras aparecen más veces?, 
¿tendría sentido normalizar de alguna manera el corpus?\n","\n","Crea 
una partición de los datos dejando el 80% para entrenamiento y el 20% 
restante para test usando la función `train_test_split` de sklearn. 
Comprueba que la distribución de los ejemplos en las clases es la misma 
en entrenamiento y test. "]},{"cell_type":"code","source":["# acceso a 
google drive\n","\n","from google.colab import 
drive\n","drive.mount('/content/drive')"],"metadata":{"colab":{"base_uri":"https://localhost:8080/"},"id":"5YyPy4BDfzGQ","executionInfo":{"status":"ok","timestamp":1681627835928,"user_tz":-120,"elapsed":1487,"user":{"displayName":"ALBERTO
 DIAZ 
ESTEBAN","userId":"09370147929418307454"}},"outputId":"d3637bed-fd90-4b68-9372-ed77292ae301"},"execution_count":null,"outputs":[{"output_type":"stream","name":"stdout","text":["Drive
 already mounted at /content/drive; to attempt to forcibly remount, call
 drive.mount(\"/content/drive\", 
force_remount=True).\n"]}]},{"cell_type":"code","execution_count":null,"metadata":{"id":"0csu2B8N3yvE"},"outputs":[],"source":["import
 pandas as pd\n","import numpy as 
np\n"]},{"cell_type":"code","source":["imbd_file = 
'/content/drive/MyDrive/IA2/p3/IMDB_Dataset.csv'\n","\n","df=pd.read_csv(imbd_file)\n","df.head()"],"metadata":{"colab":{"base_uri":"https://localhost:8080/","height":206},"id":"kmcEfPgYf1Fk","executionInfo":{"status":"ok","timestamp":1681627836845,"user_tz":-120,"elapsed":920,"user":{"displayName":"ALBERTO
 DIAZ 
ESTEBAN","userId":"09370147929418307454"}},"outputId":"e7aed290-7b25-478a-8bed-3872fd756c12"},"execution_count":null,"outputs":[{"output_type":"execute_result","data":{"text/plain":["
                                              review sentiment\n","0  
One of the other reviewers has mentioned that ...  positive\n","1  A 
wonderful little production. <br><br>The...  positive\n","2  I thought 
this was a wonderful way to spend ti...  positive\n","3  Basically 
there's a family where a little boy ...  negative\n","4  Petter Mattei's
 \"Love in the Time of Money\" is...  positive"],"text/html":["\n","  <div id="\&quot;df-ddc33f3a-9697-4f31-aaf1-94353c5e4277\&quot;">\n","    <div class="\&quot;colab-df-container\&quot;">\n","      <div>\n","<style scoped="">\n","    .dataframe tbody tr th:only-of-type {\n","        vertical-align: middle;\n","    }\n","\n","    .dataframe tbody tr th {\n","        vertical-align: top;\n","    }\n","\n","    .dataframe thead th {\n","        text-align: right;\n","    }\n","</style>\n","\n","
  \n","    \n","      \n","      \n","      \n","    \n","  \n","  \n","
    \n","      \n","      \n","      \n","    \n","    \n","      \n"," 
     \n","      \n","    \n","    \n","      \n","      \n","      \n","
    \n","    \n","      \n","      \n","      \n","    \n","    \n","   
   \n","      \n","      \n","    \n","  \n","<table class="\&quot;dataframe\&quot;" border="\&quot;1\&quot;"><thead><tr style="\&quot;text-align:" right;\"=""><th></th><th>review</th><th>sentiment</th></tr></thead><tbody><tr><th>0</th><td>One of the other reviewers has mentioned that ...</td><td>positive</td></tr><tr><th>1</th><td>A wonderful little production. &lt;br /&gt;&lt;br /&gt;The...</td><td>positive</td></tr><tr><th>2</th><td>I thought this was a wonderful way to spend ti...</td><td>positive</td></tr><tr><th>3</th><td>Basically there's a family where a little boy ...</td><td>negative</td></tr><tr><th>4</th><td>Petter Mattei's \"Love in the Time of Money\" is...</td><td>positive</td></tr></tbody></table>\n","</div>\n","      <button class="\&quot;colab-df-convert\&quot;" onclick="\&quot;convertToInteractive('df-ddc33f3a-9697-4f31-aaf1-94353c5e4277')\&quot;\n&quot;,&quot;" title="\&quot;Convert" this="" dataframe="" to="" an="" interactive="" table.\"\n","="" style="\&quot;display:none;\&quot;">\n","        \n","  <svg xmlns="\&quot;http://www.w3.org/2000/svg\&quot;" height="\&quot;24px\&quot;viewBox=\&quot;0" 0="" 24="" 24\"\n","="" width="\&quot;24px\&quot;">\n","    <path d="\&quot;M0" 0h24v24h0v0z\"="" fill="\&quot;none\&quot;/">\n","    <path d="\&quot;M18.56" 5.44l.94="" 2.06.94-2.06="" 2.06-.94-2.06-.94-.94-2.06-.94="" 2.06-2.06.94zm-11="" 1l8.5="" 8.5l.94-2.06="" 2.06-.94-2.06-.94l8.5="" 2.5l-.94="" 2.06-2.06.94zm10="" 10l.94="" 2.06-2.06.94z\"=""></path><path d="\&quot;M17.41" 7.96l-1.37-1.37c-.4-.4-.92-.59-1.43-.59-.52="" 0-1.04.2-1.43.59l10.3="" 9.45l-7.72="" 7.72c-.78.78-.78="" 2.05="" 0="" 2.83l4="" 21.41c.39.39.9.59="" 1.41.59.51="" 1.02-.2="" 1.41-.59l7.78-7.78="" 2.81-2.81c.8-.78.8-2.07="" 0-2.86zm5.41="" 20l4="" 18.59l7.72-7.72="" 1.47="" 1.35l5.41="" 20z\"=""></path>\n","  </path></svg>\n","      </button>\n","      \n","  <style>\n","    .colab-df-container {\n","      display:flex;\n","      flex-wrap:wrap;\n","      gap: 12px;\n","    }\n","\n","    .colab-df-convert {\n","      background-color: #E8F0FE;\n","      border: none;\n","      border-radius: 50%;\n","      cursor: pointer;\n","      display: none;\n","      fill: #1967D2;\n","      height: 32px;\n","      padding: 0 0 0 0;\n","      width: 32px;\n","    }\n","\n","    .colab-df-convert:hover {\n","      background-color: #E2EBFA;\n","      box-shadow: 0px 1px 2px rgba(60, 64, 67, 0.3), 0px 1px 3px 1px rgba(60, 64, 67, 0.15);\n","      fill: #174EA6;\n","    }\n","\n","    [theme=dark] .colab-df-convert {\n","      background-color: #3B4455;\n","      fill: #D2E3FC;\n","    }\n","\n","    [theme=dark] .colab-df-convert:hover {\n","      background-color: #434B5C;\n","      box-shadow: 0px 1px 3px 1px rgba(0, 0, 0, 0.15);\n","      filter: drop-shadow(0px 1px 2px rgba(0, 0, 0, 0.3));\n","      fill: #FFFFFF;\n","    }\n","  </style>\n","\n","      <script>\n","        const buttonEl =\n","          document.querySelector('#df-ddc33f3a-9697-4f31-aaf1-94353c5e4277 button.colab-df-convert');\n","        buttonEl.style.display =\n","          google.colab.kernel.accessAllowed ? 'block' : 'none';\n","\n","        async function convertToInteractive(key) {\n","          const element = document.querySelector('#df-ddc33f3a-9697-4f31-aaf1-94353c5e4277');\n","          const dataTable =\n","            await google.colab.kernel.invokeFunction('convertToInteractive',\n","                                                     [key], {});\n","          if (!dataTable) return;\n","\n","          const docLinkHtml = 'Like what you see? Visit the ' +\n","            '<a target=\"_blank\" href=https://colab.research.google.com/notebooks/data_table.ipynb>data table notebook</a>'\n","            + ' to learn more about interactive tables.';\n","          element.innerHTML = '';\n","          dataTable['output_type'] = 'display_data';\n","          await google.colab.output.renderOutput(dataTable, element);\n","          const docLink = document.createElement('div');\n","          docLink.innerHTML = docLinkHtml;\n","          element.appendChild(docLink);\n","        }\n","      </script>\n","    </div>\n","  </div>\n","
  
"]},"metadata":{},"execution_count":16}]},{"cell_type":"markdown","metadata":{"id":"r4rXv3xX3yvG"},"source":["##
 2) Estudio del efecto de distintas representaciones y distintos 
algoritmos para resolver la tarea\n","\n","Construye distintas 
representaciones vectoriales basadas en lo contado en las clases de 
teoría (bolsas de palabras con 2 configuraciones distintas 
significativas) y utilízalas con 2 de los algoritmos estudiados (árboles
 de decisión y naive bayes)\n","\n","Para una única configuración, 
muestra algún mensaje tanto en su formato de texto original como en la 
versión vectorizada. ¿Qué palabras se han eliminado y por 
qué?\n"]},{"cell_type":"code","source":[],"metadata":{"id":"6WLFEg9B6Uu9"},"execution_count":null,"outputs":[]},{"cell_type":"markdown","metadata":{"id":"XmM1ftJe3yvK"},"source":["##
 3) Análisis comparativo final\n","\n","Se han entrenado varios 
clasificadores usando vectorizaciones diferentes de los datos. Compara 
las diferencias entre representaciones para un mismo algoritmo y entre 
algoritmos. Explica a qué crees que se deben las 
diferencias.\n","\n","Analiza con detalle el mejor clasificador de cada 
tipo. Indica las palabras más relevantes. Busca un ejemplo mal 
clasificado de cada clase, justifica el error ¿se te ocurre alguna forma
 de 
solucionarlo?\n"]},{"cell_type":"code","source":[],"metadata":{"id":"qU0UFbSm9NQm"},"execution_count":null,"outputs":[]}],"metadata":{"kernelspec":{"display_name":"Python
 
3","language":"python","name":"python3"},"language_info":{"codemirror_mode":{"name":"ipython","version":3},"file_extension":".py","mimetype":"text/x-python","name":"python","nbconvert_exporter":"python","pygments_lexer":"ipython3","version":"3.8.12"},"colab":{"provenance":[]}},"nbformat":4,"nbformat_minor":0}</body></html>