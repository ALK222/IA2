{
  "cells": [
    {
      "cell_type": "markdown",
      "metadata": {
        "id": "71I5krFqJpcc"
      },
      "source": [
        "# Práctica 3: Representación del conocimiento\n",
        "\n",
        "__Fecha de entrega: 20 de febrero de 2023__\n",
        "\n",
        "El objetivo de esta práctica es aplicar los conceptos teóricos vistos en clase en el módulo de Representación de conocimiento. La práctica consta de un único notebook que se entregará en la tarea de entrega habilitada en el Campus  Virtual.\n",
        "\n",
        "Cada consulta debe contener breves comentarios que expliquen cada tripleta. __No se valorarán consultas sin explicaciones__."
      ]
    },
    {
      "attachments": {},
      "cell_type": "markdown",
      "metadata": {
        "id": "cRisD8zH640r"
      },
      "source": [
        "__Número de grupo: 20__\n",
        "\n",
        "__Nombres de los estudiantes: Alejandro Barrachina Argudo y Juan Pablo Corella Martín__"
      ]
    },
    {
      "cell_type": "markdown",
      "metadata": {
        "id": "cdP69_AXJpcg"
      },
      "source": [
        "## Consultas SPARQL sobre Wikidata.\n",
        "\n",
        "En esta práctica vamos a usar el [punto de acceso SPARQL](https://query.wikidata.org/) de Wikidata para contestar las preguntas que se formulan a continuación. Cada pregunta debe ser respondida realizando una única consulta SPARQL. Para cada una de las entidades recuperadas se mostrará __tanto su identificador como su etiqueta__ (nombre de la entidad en lenguaje natural). \n",
        "\n",
        "Para cada una de las preguntas debes mostrar tanto la consulta como la respuesta obtenida. Si lo consideras necesario, puedes añadir celdas adicionales en formato _Markdown_ para explicar decisiones que hayas tomado al crear la consulta o cualquier otro dato que consideres interesante.\n",
        " \n",
        "Para resolver estas consultas puedes usar __dos recursos que te recomendamos consultar__ son:\n",
        "\n",
        "- [Este tutorial de SPARQL](https://www.wikidata.org/wiki/Wikidata:SPARQL_tutorial).\n",
        "- [Esta recopilación de ejemplos](https://www.wikidata.org/wiki/Wikidata:SPARQL_query_service/queries/examples)"
      ]
    },
    {
      "cell_type": "code",
      "execution_count": 2,
      "metadata": {
        "colab": {
          "base_uri": "https://localhost:8080/"
        },
        "id": "2d-o4QLKiBpq",
        "outputId": "ba84737c-10ea-4db3-897b-bb3940e840a1"
      },
      "outputs": [],
      "source": [
        "## Lo primero sería instalar en tu entorno de Python wdsparql\n",
        "## Si no lo tienes instalado, puedes hacerlo desde el notebook\n",
        "import sys\n",
        "\n",
        "#!{sys.executable} -m pip install wdsparql\n",
        "\n",
        "# Asumismos instalado wdsparql\n",
        "%load_ext autoreload\n",
        "%load_ext wdsparql\n",
        "%autoreload 2"
      ]
    },
    {
      "cell_type": "markdown",
      "metadata": {
        "id": "-BaEde9j6405"
      },
      "source": [
        "### Ejemplo\n",
        "\n",
        "Recuperar todas las instancias directas de la clase [Cabra (Q2934)](https://www.wikidata.org/wiki/Q2934) que aparecen en la base de conocimiento."
      ]
    },
    {
      "cell_type": "code",
      "execution_count": 9,
      "metadata": {
        "colab": {
          "base_uri": "https://localhost:8080/",
          "height": 300
        },
        "id": "Oo7OLo3I6409",
        "outputId": "c2ce7de9-7935-4bf3-cca2-04ed301316c6"
      },
      "outputs": [
        {
          "data": {
            "text/html": [
              "<div>\n",
              "<style scoped>\n",
              "    .dataframe tbody tr th:only-of-type {\n",
              "        vertical-align: middle;\n",
              "    }\n",
              "\n",
              "    .dataframe tbody tr th {\n",
              "        vertical-align: top;\n",
              "    }\n",
              "\n",
              "    .dataframe thead th {\n",
              "        text-align: right;\n",
              "    }\n",
              "</style>\n",
              "<table border=\"1\" class=\"dataframe\">\n",
              "  <thead>\n",
              "    <tr style=\"text-align: right;\">\n",
              "      <th></th>\n",
              "      <th>item</th>\n",
              "      <th>itemLabel</th>\n",
              "    </tr>\n",
              "  </thead>\n",
              "  <tbody>\n",
              "    <tr>\n",
              "      <th>0</th>\n",
              "      <td><a href=\"http://www.wikidata.org/entity/Q151345\" target=\"_blank\">http://www.wikidata.org/entity/Q151345</a></td>\n",
              "      <td>Billygoat Hennes</td>\n",
              "    </tr>\n",
              "    <tr>\n",
              "      <th>1</th>\n",
              "      <td><a href=\"http://www.wikidata.org/entity/Q3569037\" target=\"_blank\">http://www.wikidata.org/entity/Q3569037</a></td>\n",
              "      <td>William Windsor</td>\n",
              "    </tr>\n",
              "    <tr>\n",
              "      <th>2</th>\n",
              "      <td><a href=\"http://www.wikidata.org/entity/Q13050139\" target=\"_blank\">http://www.wikidata.org/entity/Q13050139</a></td>\n",
              "      <td>Q13050139</td>\n",
              "    </tr>\n",
              "    <tr>\n",
              "      <th>3</th>\n",
              "      <td><a href=\"http://www.wikidata.org/entity/Q23003932\" target=\"_blank\">http://www.wikidata.org/entity/Q23003932</a></td>\n",
              "      <td>His Whiskers</td>\n",
              "    </tr>\n",
              "    <tr>\n",
              "      <th>4</th>\n",
              "      <td><a href=\"http://www.wikidata.org/entity/Q24287064\" target=\"_blank\">http://www.wikidata.org/entity/Q24287064</a></td>\n",
              "      <td>Taffy</td>\n",
              "    </tr>\n",
              "    <tr>\n",
              "      <th>5</th>\n",
              "      <td><a href=\"http://www.wikidata.org/entity/Q41239734\" target=\"_blank\">http://www.wikidata.org/entity/Q41239734</a></td>\n",
              "      <td>Lance Corporal Shenkin III</td>\n",
              "    </tr>\n",
              "    <tr>\n",
              "      <th>6</th>\n",
              "      <td><a href=\"http://www.wikidata.org/entity/Q41240892\" target=\"_blank\">http://www.wikidata.org/entity/Q41240892</a></td>\n",
              "      <td>Lance Corporal Shenkin II</td>\n",
              "    </tr>\n",
              "    <tr>\n",
              "      <th>7</th>\n",
              "      <td><a href=\"http://www.wikidata.org/entity/Q41241416\" target=\"_blank\">http://www.wikidata.org/entity/Q41241416</a></td>\n",
              "      <td>Lance Corporal Shenkin I</td>\n",
              "    </tr>\n",
              "  </tbody>\n",
              "</table>\n",
              "</div>"
            ],
            "text/plain": [
              "<IPython.core.display.HTML object>"
            ]
          },
          "execution_count": 9,
          "metadata": {},
          "output_type": "execute_result"
        }
      ],
      "source": [
        "%%wdsparql\n",
        "SELECT ?item ?itemLabel \n",
        "WHERE \n",
        "{\n",
        "  ?item wdt:P31 wd:Q2934.  # instancias directas de la clase Cabra\n",
        "  SERVICE wikibase:label { bd:serviceParam wikibase:language \"en\". }\n",
        "}"
      ]
    },
    {
      "cell_type": "markdown",
      "metadata": {
        "id": "RUIC5ukV641D"
      },
      "source": [
        "### Consulta 1\n",
        "\n",
        "[U2 (Q396)](https://www.wikidata.org/wiki/Q396) es una banda de rock con una larga trayectoria y numerosos éxitos. \n",
        "\n",
        "Vamos a comenzar por averiguar su fecha y lugar de formación (localidad y país)."
      ]
    },
    {
      "cell_type": "code",
      "execution_count": 22,
      "metadata": {
        "id": "ZzK-3l-5641G"
      },
      "outputs": [
        {
          "data": {
            "text/html": [
              "<div>\n",
              "<style scoped>\n",
              "    .dataframe tbody tr th:only-of-type {\n",
              "        vertical-align: middle;\n",
              "    }\n",
              "\n",
              "    .dataframe tbody tr th {\n",
              "        vertical-align: top;\n",
              "    }\n",
              "\n",
              "    .dataframe thead th {\n",
              "        text-align: right;\n",
              "    }\n",
              "</style>\n",
              "<table border=\"1\" class=\"dataframe\">\n",
              "  <thead>\n",
              "    <tr style=\"text-align: right;\">\n",
              "      <th></th>\n",
              "      <th>inception</th>\n",
              "      <th>inceptionLabel</th>\n",
              "      <th>city</th>\n",
              "      <th>cityLabel</th>\n",
              "      <th>country</th>\n",
              "      <th>countryLabel</th>\n",
              "    </tr>\n",
              "  </thead>\n",
              "  <tbody>\n",
              "    <tr>\n",
              "      <th>0</th>\n",
              "      <td>1976-01-01T00:00:00Z</td>\n",
              "      <td>1976-01-01T00:00:00Z</td>\n",
              "      <td><a href=\"http://www.wikidata.org/entity/Q1761\" target=\"_blank\">http://www.wikidata.org/entity/Q1761</a></td>\n",
              "      <td>Dublin</td>\n",
              "      <td><a href=\"http://www.wikidata.org/entity/Q27\" target=\"_blank\">http://www.wikidata.org/entity/Q27</a></td>\n",
              "      <td>Republic of Ireland</td>\n",
              "    </tr>\n",
              "  </tbody>\n",
              "</table>\n",
              "</div>"
            ],
            "text/plain": [
              "<IPython.core.display.HTML object>"
            ]
          },
          "execution_count": 22,
          "metadata": {},
          "output_type": "execute_result"
        }
      ],
      "source": [
        "%%wdsparql\n",
        "SELECT ?inception ?inceptionLabel ?city ?cityLabel ?country ?countryLabel\n",
        "WHERE \n",
        "{\n",
        "# U2      Fundación fecha\n",
        "  wd:Q396 wdt:P571 ?inception.\n",
        "# U2      Ciudad    ?Ciudad\n",
        "  wd:Q396 wdt:P740 ?city;\n",
        "#       Pais    ?Pais\n",
        "        wdt:P17 ?country.\n",
        "  SERVICE wikibase:label { bd:serviceParam wikibase:language \"en\". }\n",
        "}\n"
      ]
    },
    {
      "cell_type": "markdown",
      "metadata": {
        "id": "ABNbLcIn641N"
      },
      "source": [
        "### Consulta 2\n",
        "\n",
        "A continuación vamos a averiguar todos los miembros que se le conocen en la base de conocimiento. Queremos obtener los resultados ordenados alfabéticamente por su apellido e incluir su nombre completo y el artístico.\n",
        "\n",
        "Puede que la siguiente información sobre el uso de [OPTIONAL](https://www.wikidata.org/wiki/Wikidata:SPARQL_tutorial#OPTIONAL) te resulte útil."
      ]
    },
    {
      "cell_type": "code",
      "execution_count": 33,
      "metadata": {
        "id": "LQpYTbyC641R"
      },
      "outputs": [
        {
          "data": {
            "text/html": [
              "<div>\n",
              "<style scoped>\n",
              "    .dataframe tbody tr th:only-of-type {\n",
              "        vertical-align: middle;\n",
              "    }\n",
              "\n",
              "    .dataframe tbody tr th {\n",
              "        vertical-align: top;\n",
              "    }\n",
              "\n",
              "    .dataframe thead th {\n",
              "        text-align: right;\n",
              "    }\n",
              "</style>\n",
              "<table border=\"1\" class=\"dataframe\">\n",
              "  <thead>\n",
              "    <tr style=\"text-align: right;\">\n",
              "      <th></th>\n",
              "      <th>memberLabel</th>\n",
              "      <th>artnameLabel</th>\n",
              "      <th>nameLabel</th>\n",
              "    </tr>\n",
              "  </thead>\n",
              "  <tbody>\n",
              "    <tr>\n",
              "      <th>0</th>\n",
              "      <td>Adam Clayton</td>\n",
              "      <td>None</td>\n",
              "      <td>Adam Charles Clayton</td>\n",
              "    </tr>\n",
              "    <tr>\n",
              "      <th>1</th>\n",
              "      <td>The Edge</td>\n",
              "      <td>The Edge</td>\n",
              "      <td>David Howell Evans</td>\n",
              "    </tr>\n",
              "    <tr>\n",
              "      <th>2</th>\n",
              "      <td>Larry Mullen Jr.</td>\n",
              "      <td>None</td>\n",
              "      <td>None</td>\n",
              "    </tr>\n",
              "    <tr>\n",
              "      <th>3</th>\n",
              "      <td>Bono</td>\n",
              "      <td>Bono</td>\n",
              "      <td>Paul David Hewson</td>\n",
              "    </tr>\n",
              "    <tr>\n",
              "      <th>4</th>\n",
              "      <td>Dik Evans</td>\n",
              "      <td>None</td>\n",
              "      <td>None</td>\n",
              "    </tr>\n",
              "  </tbody>\n",
              "</table>\n",
              "</div>"
            ],
            "text/plain": [
              "<IPython.core.display.HTML object>"
            ]
          },
          "execution_count": 33,
          "metadata": {},
          "output_type": "execute_result"
        }
      ],
      "source": [
        "%%wdsparql\n",
        "SELECT ?memberLabel ?artnameLabel ?nameLabel\n",
        "WHERE \n",
        "{\n",
        "# U2      Miembros ?Miembros\n",
        "  wd:Q396 wdt:P527 ?member.\n",
        "#            miembro nombre    ?nombre de nacimiento\n",
        "  OPTIONAL { ?member wdt:P1477 ?name. }\n",
        "#            miembro nombre artistico ?nombre Artistico \n",
        "  OPTIONAL { ?member wdt:P742 ?artname. }\n",
        "#            miembro apellido ?apellido\n",
        "  OPTIONAL { ?member wdt:P734 ?fname. }\n",
        "  SERVICE wikibase:label { bd:serviceParam wikibase:language \"en\". }\n",
        "}\n",
        "# ordenado por apellido\n",
        "ORDER BY ?fnameLabel"
      ]
    },
    {
      "cell_type": "markdown",
      "metadata": {
        "id": "t7N7FGPs641n"
      },
      "source": [
        "Es importante usar dos OPTIONAL distintos para que se muestren todos los miembros, tengan o no pseudónimo y nombre completo asociados."
      ]
    },
    {
      "cell_type": "markdown",
      "metadata": {
        "id": "2aXlt0c0641U"
      },
      "source": [
        "### Consulta 3\n",
        "\n",
        "[Bono (Q834621)](http://www.wikidata.org/entity/Q834621) es el cantante de la banda. Además de cantante, ha tenido muchas otras ocupaciones. ¿Cuáles de ellas están relacionadas directamente con el mundo del [arte (Q483501](https://www.wikidata.org/wiki/Q483501)? Ten en cuenta que la jerarquía de ocupaciones puede ser muy sofisticada.\n",
        "\n",
        "Puede que [esto](https://www.wikidata.org/wiki/Wikidata:SPARQL_tutorial#Property_paths) te resulte útil."
      ]
    },
    {
      "cell_type": "code",
      "execution_count": 34,
      "metadata": {
        "id": "YmkL2A97641X"
      },
      "outputs": [
        {
          "data": {
            "text/html": [
              "<div>\n",
              "<style scoped>\n",
              "    .dataframe tbody tr th:only-of-type {\n",
              "        vertical-align: middle;\n",
              "    }\n",
              "\n",
              "    .dataframe tbody tr th {\n",
              "        vertical-align: top;\n",
              "    }\n",
              "\n",
              "    .dataframe thead th {\n",
              "        text-align: right;\n",
              "    }\n",
              "</style>\n",
              "<table border=\"1\" class=\"dataframe\">\n",
              "  <thead>\n",
              "    <tr style=\"text-align: right;\">\n",
              "      <th></th>\n",
              "      <th>prof</th>\n",
              "      <th>profLabel</th>\n",
              "    </tr>\n",
              "  </thead>\n",
              "  <tbody>\n",
              "    <tr>\n",
              "      <th>0</th>\n",
              "      <td><a href=\"http://www.wikidata.org/entity/Q28389\" target=\"_blank\">http://www.wikidata.org/entity/Q28389</a></td>\n",
              "      <td>screenwriter</td>\n",
              "    </tr>\n",
              "    <tr>\n",
              "      <th>1</th>\n",
              "      <td><a href=\"http://www.wikidata.org/entity/Q33999\" target=\"_blank\">http://www.wikidata.org/entity/Q33999</a></td>\n",
              "      <td>actor</td>\n",
              "    </tr>\n",
              "    <tr>\n",
              "      <th>2</th>\n",
              "      <td><a href=\"http://www.wikidata.org/entity/Q488205\" target=\"_blank\">http://www.wikidata.org/entity/Q488205</a></td>\n",
              "      <td>singer-songwriter</td>\n",
              "    </tr>\n",
              "    <tr>\n",
              "      <th>3</th>\n",
              "      <td><a href=\"http://www.wikidata.org/entity/Q855091\" target=\"_blank\">http://www.wikidata.org/entity/Q855091</a></td>\n",
              "      <td>guitarist</td>\n",
              "    </tr>\n",
              "  </tbody>\n",
              "</table>\n",
              "</div>"
            ],
            "text/plain": [
              "<IPython.core.display.HTML object>"
            ]
          },
          "execution_count": 34,
          "metadata": {},
          "output_type": "execute_result"
        }
      ],
      "source": [
        "%%wdsparql\n",
        "SELECT ?prof ?profLabel\n",
        "WHERE\n",
        "{\n",
        "#   Bono       'Trabajo' ?profesion\n",
        "    wd:Q834621 wdt:P106 ?prof.\n",
        "#    Profesion Propiedad Arte\n",
        "    ?prof wdt:P279+ wd:Q483501.\n",
        "    SERVICE wikibase:label { bd:serviceParam wikibase:language \"en\". }\n",
        "}"
      ]
    },
    {
      "cell_type": "markdown",
      "metadata": {
        "id": "SwZlh2ht641a"
      },
      "source": [
        "Si no añadimos el `+` a la relación `wdt:P279` muchas de las profesiones no se recuperan."
      ]
    },
    {
      "cell_type": "markdown",
      "metadata": {
        "id": "9ncKC-pD641d"
      },
      "source": [
        "### Consulta 4\n",
        "\n",
        "Bono se ha casado una vez, con Ali Hewson, con la que tiene varios hijos. Queremos conocer los nombres de esos hijos y sus fechas de nacimiento. Los resultados deben aparecer ordenados cronológicamente."
      ]
    },
    {
      "cell_type": "code",
      "execution_count": 37,
      "metadata": {
        "id": "-plinTNQ641f"
      },
      "outputs": [
        {
          "data": {
            "text/html": [
              "<div>\n",
              "<style scoped>\n",
              "    .dataframe tbody tr th:only-of-type {\n",
              "        vertical-align: middle;\n",
              "    }\n",
              "\n",
              "    .dataframe tbody tr th {\n",
              "        vertical-align: top;\n",
              "    }\n",
              "\n",
              "    .dataframe thead th {\n",
              "        text-align: right;\n",
              "    }\n",
              "</style>\n",
              "<table border=\"1\" class=\"dataframe\">\n",
              "  <thead>\n",
              "    <tr style=\"text-align: right;\">\n",
              "      <th></th>\n",
              "      <th>nombreLabel</th>\n",
              "      <th>fecha</th>\n",
              "    </tr>\n",
              "  </thead>\n",
              "  <tbody>\n",
              "    <tr>\n",
              "      <th>0</th>\n",
              "      <td>Eve Hewson</td>\n",
              "      <td>1991-07-07T00:00:00Z</td>\n",
              "    </tr>\n",
              "    <tr>\n",
              "      <th>1</th>\n",
              "      <td>Elijah Hewson</td>\n",
              "      <td>1999-08-18T00:00:00Z</td>\n",
              "    </tr>\n",
              "  </tbody>\n",
              "</table>\n",
              "</div>"
            ],
            "text/plain": [
              "<IPython.core.display.HTML object>"
            ]
          },
          "execution_count": 37,
          "metadata": {},
          "output_type": "execute_result"
        }
      ],
      "source": [
        "%%wdsparql\n",
        "SELECT ?nombreLabel ?fecha\n",
        "WHERE\n",
        "{\n",
        "#   ?nombre padre   Bono\n",
        "    ?nombre wdt:P22 wd:Q834621;\n",
        "#           madre   Ali Hewson\n",
        "            wdt:P25 wd:Q777287;\n",
        "#           Fecha nacimiento ?fecha\n",
        "            wdt:P569 ?fecha.\n",
        "    SERVICE wikibase:label { bd:serviceParam wikibase:language \"en\". }\n",
        "}\n",
        "ORDER BY ?fecha"
      ]
    },
    {
      "cell_type": "markdown",
      "metadata": {
        "id": "H4hEfr0q641j"
      },
      "source": [
        "### Consulta 5\n",
        "\n",
        "Bono ha recibido muchos premios a lo largo de su carrera. Queremos obtener la lista de premios y, para cada uno de ellos, la fecha en la que fue premiado (si está disponible). Los resultados se deben mostrar ordenado por fecha.\n",
        "\n",
        "Para resolver esta consulta necesitarás acceder a los cualificadores de nodos sentencia y necesitarás entender los prefijos que usa Wikidata. Puede que [esto](https://www.wikidata.org/wiki/Wikidata:SPARQL_tutorial#Qualifiers) te resulte útil."
      ]
    },
    {
      "cell_type": "code",
      "execution_count": 38,
      "metadata": {
        "id": "E1dLYOhw641k"
      },
      "outputs": [
        {
          "data": {
            "text/html": [
              "<div>\n",
              "<style scoped>\n",
              "    .dataframe tbody tr th:only-of-type {\n",
              "        vertical-align: middle;\n",
              "    }\n",
              "\n",
              "    .dataframe tbody tr th {\n",
              "        vertical-align: top;\n",
              "    }\n",
              "\n",
              "    .dataframe thead th {\n",
              "        text-align: right;\n",
              "    }\n",
              "</style>\n",
              "<table border=\"1\" class=\"dataframe\">\n",
              "  <thead>\n",
              "    <tr style=\"text-align: right;\">\n",
              "      <th></th>\n",
              "      <th>fecha</th>\n",
              "      <th>premioLabel</th>\n",
              "    </tr>\n",
              "  </thead>\n",
              "  <tbody>\n",
              "    <tr>\n",
              "      <th>0</th>\n",
              "      <td>None</td>\n",
              "      <td>Grammy Awards</td>\n",
              "    </tr>\n",
              "    <tr>\n",
              "      <th>1</th>\n",
              "      <td>None</td>\n",
              "      <td>Fellow of the American Academy of Arts and Sci...</td>\n",
              "    </tr>\n",
              "    <tr>\n",
              "      <th>2</th>\n",
              "      <td>2003-01-01T00:00:00Z</td>\n",
              "      <td>MusiCares Person of the Year</td>\n",
              "    </tr>\n",
              "    <tr>\n",
              "      <th>3</th>\n",
              "      <td>2003-01-01T00:00:00Z</td>\n",
              "      <td>Knight of the Legion of Honour</td>\n",
              "    </tr>\n",
              "    <tr>\n",
              "      <th>4</th>\n",
              "      <td>2005-01-01T00:00:00Z</td>\n",
              "      <td>TED Prize</td>\n",
              "    </tr>\n",
              "    <tr>\n",
              "      <th>5</th>\n",
              "      <td>2005-01-01T00:00:00Z</td>\n",
              "      <td>Rock and Roll Hall of Fame</td>\n",
              "    </tr>\n",
              "    <tr>\n",
              "      <th>6</th>\n",
              "      <td>2005-04-21T00:00:00Z</td>\n",
              "      <td>Officer of the Order of Liberty</td>\n",
              "    </tr>\n",
              "    <tr>\n",
              "      <th>7</th>\n",
              "      <td>2005-12-19T00:00:00Z</td>\n",
              "      <td>Time Person of the Year</td>\n",
              "    </tr>\n",
              "    <tr>\n",
              "      <th>8</th>\n",
              "      <td>2007-01-01T00:00:00Z</td>\n",
              "      <td>Philadelphia Liberty Medal</td>\n",
              "    </tr>\n",
              "    <tr>\n",
              "      <th>9</th>\n",
              "      <td>2007-01-01T00:00:00Z</td>\n",
              "      <td>NAACP Image Award – Chairman's Award</td>\n",
              "    </tr>\n",
              "    <tr>\n",
              "      <th>10</th>\n",
              "      <td>2007-01-01T00:00:00Z</td>\n",
              "      <td>Honorary Knight Commander of the Order of the ...</td>\n",
              "    </tr>\n",
              "    <tr>\n",
              "      <th>11</th>\n",
              "      <td>2008-05-27T00:00:00Z</td>\n",
              "      <td>doctor honoris causa of Keiō University</td>\n",
              "    </tr>\n",
              "    <tr>\n",
              "      <th>12</th>\n",
              "      <td>2008-12-13T00:00:00Z</td>\n",
              "      <td>Man of Peace</td>\n",
              "    </tr>\n",
              "    <tr>\n",
              "      <th>13</th>\n",
              "      <td>2013-07-16T00:00:00Z</td>\n",
              "      <td>Commandeur des Arts et des Lettres</td>\n",
              "    </tr>\n",
              "    <tr>\n",
              "      <th>14</th>\n",
              "      <td>2022-08-23T00:00:00Z</td>\n",
              "      <td>Order of Merit (Ukraine), 3rd class</td>\n",
              "    </tr>\n",
              "  </tbody>\n",
              "</table>\n",
              "</div>"
            ],
            "text/plain": [
              "<IPython.core.display.HTML object>"
            ]
          },
          "execution_count": 38,
          "metadata": {},
          "output_type": "execute_result"
        }
      ],
      "source": [
        "%%wdsparql\n",
        "SELECT ?fecha ?premioLabel\n",
        "WHERE\n",
        "{\n",
        "#   Bono       premios ?nodo\n",
        "    wd:Q834621 p:P166 ?nodo.\n",
        "#   nodo  premios  ?premio\n",
        "    ?nodo ps:P166 ?premio.\n",
        "    OPTIONAL { ?nodo pq:P585 ?fecha. }\n",
        "    SERVICE wikibase:label { bd:serviceParam wikibase:language \"en\". }\n",
        "}\n",
        "ORDER BY ?fecha"
      ]
    },
    {
      "cell_type": "markdown",
      "metadata": {
        "id": "L-dCbyzs641o"
      },
      "source": [
        "### Consulta 6\n",
        "\n",
        "Ahora queremos conocer todos los discos de U2 del tipo [albunes en directo (Q209939)](https://www.wikidata.org/wiki/Q209939) y cualquiera de sus subgéneros. Los resultados se deben mostrar ordenados por nombre e incluir el año de publicación."
      ]
    },
    {
      "cell_type": "code",
      "execution_count": 8,
      "metadata": {
        "id": "yqPvbQkm641p"
      },
      "outputs": [
        {
          "data": {
            "text/html": [
              "<div>\n",
              "<style scoped>\n",
              "    .dataframe tbody tr th:only-of-type {\n",
              "        vertical-align: middle;\n",
              "    }\n",
              "\n",
              "    .dataframe tbody tr th {\n",
              "        vertical-align: top;\n",
              "    }\n",
              "\n",
              "    .dataframe thead th {\n",
              "        text-align: right;\n",
              "    }\n",
              "</style>\n",
              "<table border=\"1\" class=\"dataframe\">\n",
              "  <thead>\n",
              "    <tr style=\"text-align: right;\">\n",
              "      <th></th>\n",
              "      <th>albumLabel</th>\n",
              "      <th>fecha</th>\n",
              "      <th>generoLabel</th>\n",
              "    </tr>\n",
              "  </thead>\n",
              "  <tbody>\n",
              "    <tr>\n",
              "      <th>0</th>\n",
              "      <td>Elevation 2001: Live from Boston</td>\n",
              "      <td>None</td>\n",
              "      <td>rock music</td>\n",
              "    </tr>\n",
              "    <tr>\n",
              "      <th>1</th>\n",
              "      <td>Hasta la Vista Baby!</td>\n",
              "      <td>None</td>\n",
              "      <td>rock music</td>\n",
              "    </tr>\n",
              "    <tr>\n",
              "      <th>2</th>\n",
              "      <td>Live from Paris</td>\n",
              "      <td>None</td>\n",
              "      <td>rock music</td>\n",
              "    </tr>\n",
              "    <tr>\n",
              "      <th>3</th>\n",
              "      <td>PopMart: Live from Mexico City</td>\n",
              "      <td>None</td>\n",
              "      <td>rock music</td>\n",
              "    </tr>\n",
              "    <tr>\n",
              "      <th>4</th>\n",
              "      <td>Under a Blood Red Sky</td>\n",
              "      <td>1983-11-21T00:00:00Z</td>\n",
              "      <td>rock music</td>\n",
              "    </tr>\n",
              "    <tr>\n",
              "      <th>5</th>\n",
              "      <td>Rattle and Hum</td>\n",
              "      <td>1988-10-10T00:00:00Z</td>\n",
              "      <td>blues rock</td>\n",
              "    </tr>\n",
              "    <tr>\n",
              "      <th>6</th>\n",
              "      <td>Rattle and Hum</td>\n",
              "      <td>1988-10-10T00:00:00Z</td>\n",
              "      <td>roots rock</td>\n",
              "    </tr>\n",
              "    <tr>\n",
              "      <th>7</th>\n",
              "      <td>Zoo TV: Live from Sydney</td>\n",
              "      <td>1994-01-01T00:00:00Z</td>\n",
              "      <td>alternative rock</td>\n",
              "    </tr>\n",
              "    <tr>\n",
              "      <th>8</th>\n",
              "      <td>U2 Go Home: Live from Slane Castle, Ireland</td>\n",
              "      <td>2003-11-17T00:00:00Z</td>\n",
              "      <td>rock music</td>\n",
              "    </tr>\n",
              "    <tr>\n",
              "      <th>9</th>\n",
              "      <td>Live from the Point Depot</td>\n",
              "      <td>2004-01-01T00:00:00Z</td>\n",
              "      <td>rock music</td>\n",
              "    </tr>\n",
              "    <tr>\n",
              "      <th>10</th>\n",
              "      <td>The Complete U2</td>\n",
              "      <td>2004-11-23T00:00:00Z</td>\n",
              "      <td>rock music</td>\n",
              "    </tr>\n",
              "    <tr>\n",
              "      <th>11</th>\n",
              "      <td>U2.COMmunication</td>\n",
              "      <td>2005-01-01T00:00:00Z</td>\n",
              "      <td>rock music</td>\n",
              "    </tr>\n",
              "    <tr>\n",
              "      <th>12</th>\n",
              "      <td>Vertigo 2005: Live from Chicago</td>\n",
              "      <td>2005-11-14T00:00:00Z</td>\n",
              "      <td>rock music</td>\n",
              "    </tr>\n",
              "    <tr>\n",
              "      <th>13</th>\n",
              "      <td>Zoo TV Live</td>\n",
              "      <td>2006-11-20T00:00:00Z</td>\n",
              "      <td>rock music</td>\n",
              "    </tr>\n",
              "    <tr>\n",
              "      <th>14</th>\n",
              "      <td>U22</td>\n",
              "      <td>2012-05-01T00:00:00Z</td>\n",
              "      <td>rock music</td>\n",
              "    </tr>\n",
              "    <tr>\n",
              "      <th>15</th>\n",
              "      <td>From the Ground Up: Edge's Picks from U2360°</td>\n",
              "      <td>2012-12-01T00:00:00Z</td>\n",
              "      <td>None</td>\n",
              "    </tr>\n",
              "  </tbody>\n",
              "</table>\n",
              "</div>"
            ],
            "text/plain": [
              "<IPython.core.display.HTML object>"
            ]
          },
          "execution_count": 8,
          "metadata": {},
          "output_type": "execute_result"
        }
      ],
      "source": [
        "%%wdsparql\n",
        "SELECT ?albumLabel ?fecha ?generoLabel\n",
        "WHERE\n",
        "{\n",
        "#   ?album performer U2\n",
        "    ?album wdt:P175 wd:Q396;\n",
        "#           tipo    Live Album\n",
        "            wdt:P7937 wd:Q209939.\n",
        "#   ?album  publicacion    ?fecha\n",
        "    OPTIONAL { ?album wdt:P577 ?fecha. }\n",
        "#   ?album  genero    ?genero\n",
        "    OPTIONAL { ?album wdt:P136 ?genero. }   #TODO: Coger solo uno\n",
        "    SERVICE wikibase:label { bd:serviceParam wikibase:language \"en\". }\n",
        "}\n",
        "ORDER BY ?fecha"
      ]
    },
    {
      "cell_type": "markdown",
      "metadata": {
        "id": "fGRoLkcY641q"
      },
      "source": [
        "### Consulta 7\n",
        "\n",
        "Queremos saber si hay obras de U2 publicadas varias veces (en diferentes años). Para ello vamos a recuperar las obras de tipo [lanzamiento de un grupo (group release)](https://www.wikidata.org/wiki/Q108346082) pero mostrando también la fecha de publicación más antigua de cada una y el número de apariciones. Los resultados deben aparecer en orden cronológico.\n",
        "\n",
        "Para calcular la fecha correcta tendrás que agrupar las respuestas por album y aplicar una función de agregación sobre las fechas de lanzamiento. Puede que [esto](https://www.wikidata.org/wiki/Wikidata:SPARQL_tutorial#Grouping) te resulte útil."
      ]
    },
    {
      "cell_type": "code",
      "execution_count": null,
      "metadata": {
        "id": "HdgBwld4641r"
      },
      "outputs": [],
      "source": []
    },
    {
      "cell_type": "markdown",
      "metadata": {
        "id": "Ns1O-tVx641t"
      },
      "source": [
        "### Consulta 8\n",
        "\n",
        "U2 es sin duda un grupo con una larga trayectoria. ¿Cuántas discos ha lanzado? Vamos a considerar sólo instancias directas de [album de estudio (Q208569)](https://www.wikidata.org/wiki/Q208569)."
      ]
    },
    {
      "cell_type": "code",
      "execution_count": null,
      "metadata": {
        "id": "HbzUgR0cVhIu"
      },
      "outputs": [],
      "source": []
    },
    {
      "cell_type": "markdown",
      "metadata": {
        "id": "1vZp0M0p641v"
      },
      "source": [
        "### Consulta 9\n",
        "\n",
        "Entre todos sus discos de estudio, queremos recuperar los títulos, fechas de lanzamiento y discográfica de los discos de la década de los 1990. Si alguna obra tiene varias fechas de publicación, se mostrará si alguna de ellas está dentro de ese periodo.\n",
        "\n",
        "Puede que [esto](https://www.wikidata.org/wiki/Wikidata:SPARQL_tutorial#FILTER) te resulte útil."
      ]
    },
    {
      "cell_type": "code",
      "execution_count": null,
      "metadata": {
        "id": "ER7OYiLIVkg2"
      },
      "outputs": [],
      "source": []
    },
    {
      "cell_type": "markdown",
      "metadata": {
        "id": "OEmfnG85641y"
      },
      "source": [
        "### Consulta 10\n",
        "\n",
        "¿Qué otros personajes famosos nacieron el mismo año que Bono y tiene su misma nacionalidad? Para cada uno de ellos muestra su nombre y ocupación. Muestra los resultados ordenados por nombre y fecha de nacimiento."
      ]
    },
    {
      "cell_type": "code",
      "execution_count": null,
      "metadata": {
        "id": "65s4lfzOVn4-"
      },
      "outputs": [],
      "source": []
    },
    {
      "cell_type": "markdown",
      "metadata": {
        "id": "cN4i-x3p6411"
      },
      "source": [
        "### Consulta 11\n",
        "\n",
        "¿Cuántos asertos hay sobre U2 en Wikidata? Ten en cuenta que puede aparece tanto como sujeto como objeto de cada tripleta."
      ]
    },
    {
      "cell_type": "code",
      "execution_count": null,
      "metadata": {
        "id": "zEvNQk9KVvfG"
      },
      "outputs": [],
      "source": []
    }
  ],
  "metadata": {
    "colab": {
      "provenance": []
    },
    "kernelspec": {
      "display_name": "Python 3",
      "language": "python",
      "name": "python3"
    },
    "language_info": {
      "codemirror_mode": {
        "name": "ipython",
        "version": 3
      },
      "file_extension": ".py",
      "mimetype": "text/x-python",
      "name": "python",
      "nbconvert_exporter": "python",
      "pygments_lexer": "ipython3",
      "version": "3.9.7"
    },
    "vscode": {
      "interpreter": {
        "hash": "11938c6bc6919ae2720b4d5011047913343b08a43b18698fd82dedb0d4417594"
      }
    }
  },
  "nbformat": 4,
  "nbformat_minor": 0
}
