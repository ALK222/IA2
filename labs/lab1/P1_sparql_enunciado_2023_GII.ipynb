{
  "cells": [
    {
      "cell_type": "markdown",
      "metadata": {
        "id": "71I5krFqJpcc"
      },
      "source": [
        "# Práctica 3: Representación del conocimiento\n",
        "\n",
        "__Fecha de entrega: 20 de febrero de 2023__\n",
        "\n",
        "El objetivo de esta práctica es aplicar los conceptos teóricos vistos en clase en el módulo de Representación de conocimiento. La práctica consta de un único notebook que se entregará en la tarea de entrega habilitada en el Campus  Virtual.\n",
        "\n",
        "Cada consulta debe contener breves comentarios que expliquen cada tripleta. __No se valorarán consultas sin explicaciones__."
      ]
    },
    {
      "cell_type": "markdown",
      "metadata": {
        "id": "cRisD8zH640r"
      },
      "source": [
        "__Número de grupo: XX__\n",
        "\n",
        "__Nombres de los estudiantes: XXX y XXX__"
      ]
    },
    {
      "cell_type": "markdown",
      "metadata": {
        "id": "cdP69_AXJpcg"
      },
      "source": [
        "## Consultas SPARQL sobre Wikidata.\n",
        "\n",
        "En esta práctica vamos a usar el [punto de acceso SPARQL](https://query.wikidata.org/) de Wikidata para contestar las preguntas que se formulan a continuación. Cada pregunta debe ser respondida realizando una única consulta SPARQL. Para cada una de las entidades recuperadas se mostrará __tanto su identificador como su etiqueta__ (nombre de la entidad en lenguaje natural). \n",
        "\n",
        "Para cada una de las preguntas debes mostrar tanto la consulta como la respuesta obtenida. Si lo consideras necesario, puedes añadir celdas adicionales en formato _Markdown_ para explicar decisiones que hayas tomado al crear la consulta o cualquier otro dato que consideres interesante.\n",
        " \n",
        "Para resolver estas consultas puedes usar __dos recursos que te recomendamos consultar__ son:\n",
        "\n",
        "- [Este tutorial de SPARQL](https://www.wikidata.org/wiki/Wikidata:SPARQL_tutorial).\n",
        "- [Esta recopilación de ejemplos](https://www.wikidata.org/wiki/Wikidata:SPARQL_query_service/queries/examples)"
      ]
    },
    {
      "cell_type": "code",
      "execution_count": null,
      "metadata": {
        "colab": {
          "base_uri": "https://localhost:8080/"
        },
        "id": "2d-o4QLKiBpq",
        "outputId": "ba84737c-10ea-4db3-897b-bb3940e840a1"
      },
      "outputs": [
        {
          "output_type": "stream",
          "name": "stdout",
          "text": [
            "Looking in indexes: https://pypi.org/simple, https://us-python.pkg.dev/colab-wheels/public/simple/\n",
            "Collecting wdsparql\n",
            "  Downloading wdsparql-0.0.3-py3-none-any.whl (5.0 kB)\n",
            "Requirement already satisfied: requests>=2.20 in /usr/local/lib/python3.8/dist-packages (from wdsparql) (2.25.1)\n",
            "Requirement already satisfied: ipython>=7.0.0 in /usr/local/lib/python3.8/dist-packages (from wdsparql) (7.9.0)\n",
            "Requirement already satisfied: pandas>=1.1 in /usr/local/lib/python3.8/dist-packages (from wdsparql) (1.3.5)\n",
            "Requirement already satisfied: pexpect in /usr/local/lib/python3.8/dist-packages (from ipython>=7.0.0->wdsparql) (4.8.0)\n",
            "Requirement already satisfied: pickleshare in /usr/local/lib/python3.8/dist-packages (from ipython>=7.0.0->wdsparql) (0.7.5)\n",
            "Collecting jedi>=0.10\n",
            "  Downloading jedi-0.18.2-py2.py3-none-any.whl (1.6 MB)\n",
            "\u001b[2K     \u001b[90m━━━━━━━━━━━━━━━━━━━━━━━━━━━━━━━━━━━━━━━━\u001b[0m \u001b[32m1.6/1.6 MB\u001b[0m \u001b[31m19.6 MB/s\u001b[0m eta \u001b[36m0:00:00\u001b[0m\n",
            "\u001b[?25hRequirement already satisfied: setuptools>=18.5 in /usr/local/lib/python3.8/dist-packages (from ipython>=7.0.0->wdsparql) (57.4.0)\n",
            "Requirement already satisfied: decorator in /usr/local/lib/python3.8/dist-packages (from ipython>=7.0.0->wdsparql) (4.4.2)\n",
            "Requirement already satisfied: backcall in /usr/local/lib/python3.8/dist-packages (from ipython>=7.0.0->wdsparql) (0.2.0)\n",
            "Requirement already satisfied: prompt-toolkit<2.1.0,>=2.0.0 in /usr/local/lib/python3.8/dist-packages (from ipython>=7.0.0->wdsparql) (2.0.10)\n",
            "Requirement already satisfied: pygments in /usr/local/lib/python3.8/dist-packages (from ipython>=7.0.0->wdsparql) (2.6.1)\n",
            "Requirement already satisfied: traitlets>=4.2 in /usr/local/lib/python3.8/dist-packages (from ipython>=7.0.0->wdsparql) (5.7.1)\n",
            "Requirement already satisfied: numpy>=1.17.3 in /usr/local/lib/python3.8/dist-packages (from pandas>=1.1->wdsparql) (1.21.6)\n",
            "Requirement already satisfied: pytz>=2017.3 in /usr/local/lib/python3.8/dist-packages (from pandas>=1.1->wdsparql) (2022.7.1)\n",
            "Requirement already satisfied: python-dateutil>=2.7.3 in /usr/local/lib/python3.8/dist-packages (from pandas>=1.1->wdsparql) (2.8.2)\n",
            "Requirement already satisfied: urllib3<1.27,>=1.21.1 in /usr/local/lib/python3.8/dist-packages (from requests>=2.20->wdsparql) (1.24.3)\n",
            "Requirement already satisfied: idna<3,>=2.5 in /usr/local/lib/python3.8/dist-packages (from requests>=2.20->wdsparql) (2.10)\n",
            "Requirement already satisfied: certifi>=2017.4.17 in /usr/local/lib/python3.8/dist-packages (from requests>=2.20->wdsparql) (2022.12.7)\n",
            "Requirement already satisfied: chardet<5,>=3.0.2 in /usr/local/lib/python3.8/dist-packages (from requests>=2.20->wdsparql) (4.0.0)\n",
            "Requirement already satisfied: parso<0.9.0,>=0.8.0 in /usr/local/lib/python3.8/dist-packages (from jedi>=0.10->ipython>=7.0.0->wdsparql) (0.8.3)\n",
            "Requirement already satisfied: wcwidth in /usr/local/lib/python3.8/dist-packages (from prompt-toolkit<2.1.0,>=2.0.0->ipython>=7.0.0->wdsparql) (0.2.6)\n",
            "Requirement already satisfied: six>=1.9.0 in /usr/local/lib/python3.8/dist-packages (from prompt-toolkit<2.1.0,>=2.0.0->ipython>=7.0.0->wdsparql) (1.15.0)\n",
            "Requirement already satisfied: ptyprocess>=0.5 in /usr/local/lib/python3.8/dist-packages (from pexpect->ipython>=7.0.0->wdsparql) (0.7.0)\n",
            "Installing collected packages: jedi, wdsparql\n",
            "Successfully installed jedi-0.18.2 wdsparql-0.0.3\n"
          ]
        }
      ],
      "source": [
        "## Lo primero sería instalar en tu entorno de Python wdsparql\n",
        "## Si no lo tienes instalado, puedes hacerlo desde el notebook\n",
        "import sys\n",
        "\n",
        "!{sys.executable} -m pip install wdsparql\n",
        "\n",
        "# Asumismos instalado wdsparql\n",
        "%load_ext autoreload\n",
        "%load_ext wdsparql\n",
        "%autoreload 2"
      ]
    },
    {
      "cell_type": "markdown",
      "metadata": {
        "id": "-BaEde9j6405"
      },
      "source": [
        "### Ejemplo\n",
        "\n",
        "Recuperar todas las instancias directas de la clase [Cabra (Q2934)](https://www.wikidata.org/wiki/Q2934) que aparecen en la base de conocimiento."
      ]
    },
    {
      "cell_type": "code",
      "execution_count": null,
      "metadata": {
        "id": "Oo7OLo3I6409",
        "outputId": "c2ce7de9-7935-4bf3-cca2-04ed301316c6",
        "colab": {
          "base_uri": "https://localhost:8080/",
          "height": 300
        }
      },
      "outputs": [
        {
          "output_type": "execute_result",
          "data": {
            "text/plain": [
              "<IPython.core.display.HTML object>"
            ],
            "text/html": [
              "<div>\n",
              "<style scoped>\n",
              "    .dataframe tbody tr th:only-of-type {\n",
              "        vertical-align: middle;\n",
              "    }\n",
              "\n",
              "    .dataframe tbody tr th {\n",
              "        vertical-align: top;\n",
              "    }\n",
              "\n",
              "    .dataframe thead th {\n",
              "        text-align: right;\n",
              "    }\n",
              "</style>\n",
              "<table border=\"1\" class=\"dataframe\">\n",
              "  <thead>\n",
              "    <tr style=\"text-align: right;\">\n",
              "      <th></th>\n",
              "      <th>item</th>\n",
              "      <th>itemLabel</th>\n",
              "    </tr>\n",
              "  </thead>\n",
              "  <tbody>\n",
              "    <tr>\n",
              "      <th>0</th>\n",
              "      <td><a href=\"http://www.wikidata.org/entity/Q151345\" target=\"_blank\">http://www.wikidata.org/entity/Q151345</a></td>\n",
              "      <td>Billygoat Hennes</td>\n",
              "    </tr>\n",
              "    <tr>\n",
              "      <th>1</th>\n",
              "      <td><a href=\"http://www.wikidata.org/entity/Q3569037\" target=\"_blank\">http://www.wikidata.org/entity/Q3569037</a></td>\n",
              "      <td>William Windsor</td>\n",
              "    </tr>\n",
              "    <tr>\n",
              "      <th>2</th>\n",
              "      <td><a href=\"http://www.wikidata.org/entity/Q13050139\" target=\"_blank\">http://www.wikidata.org/entity/Q13050139</a></td>\n",
              "      <td>Q13050139</td>\n",
              "    </tr>\n",
              "    <tr>\n",
              "      <th>3</th>\n",
              "      <td><a href=\"http://www.wikidata.org/entity/Q23003932\" target=\"_blank\">http://www.wikidata.org/entity/Q23003932</a></td>\n",
              "      <td>His Whiskers</td>\n",
              "    </tr>\n",
              "    <tr>\n",
              "      <th>4</th>\n",
              "      <td><a href=\"http://www.wikidata.org/entity/Q24287064\" target=\"_blank\">http://www.wikidata.org/entity/Q24287064</a></td>\n",
              "      <td>Taffy</td>\n",
              "    </tr>\n",
              "    <tr>\n",
              "      <th>5</th>\n",
              "      <td><a href=\"http://www.wikidata.org/entity/Q41239734\" target=\"_blank\">http://www.wikidata.org/entity/Q41239734</a></td>\n",
              "      <td>Lance Corporal Shenkin III</td>\n",
              "    </tr>\n",
              "    <tr>\n",
              "      <th>6</th>\n",
              "      <td><a href=\"http://www.wikidata.org/entity/Q41240892\" target=\"_blank\">http://www.wikidata.org/entity/Q41240892</a></td>\n",
              "      <td>Lance Corporal Shenkin II</td>\n",
              "    </tr>\n",
              "    <tr>\n",
              "      <th>7</th>\n",
              "      <td><a href=\"http://www.wikidata.org/entity/Q41241416\" target=\"_blank\">http://www.wikidata.org/entity/Q41241416</a></td>\n",
              "      <td>Lance Corporal Shenkin I</td>\n",
              "    </tr>\n",
              "  </tbody>\n",
              "</table>\n",
              "</div>"
            ]
          },
          "metadata": {},
          "execution_count": 2
        }
      ],
      "source": [
        "%%wdsparql\n",
        "SELECT ?item ?itemLabel \n",
        "WHERE \n",
        "{\n",
        "  ?item wdt:P31 wd:Q2934.  # instancias directas de la clase Cabra\n",
        "  SERVICE wikibase:label { bd:serviceParam wikibase:language \"en\". }\n",
        "}"
      ]
    },
    {
      "cell_type": "markdown",
      "metadata": {
        "id": "RUIC5ukV641D"
      },
      "source": [
        "### Consulta 1\n",
        "\n",
        "[U2 (Q396)](https://www.wikidata.org/wiki/Q396) es una banda de rock con una larga trayectoria y numerosos éxitos. \n",
        "\n",
        "Vamos a comenzar por averiguar su fecha y lugar de formación (localidad y país)."
      ]
    },
    {
      "cell_type": "code",
      "execution_count": null,
      "metadata": {
        "id": "ZzK-3l-5641G"
      },
      "outputs": [],
      "source": []
    },
    {
      "cell_type": "markdown",
      "metadata": {
        "id": "ABNbLcIn641N"
      },
      "source": [
        "### Consulta 2\n",
        "\n",
        "A continuación vamos a averiguar todos los miembros que se le conocen en la base de conocimiento. Queremos obtener los resultados ordenados alfabéticamente por su apellido e incluir su nombre completo y el artístico.\n",
        "\n",
        "Puede que la siguiente información sobre el uso de [OPTIONAL](https://www.wikidata.org/wiki/Wikidata:SPARQL_tutorial#OPTIONAL) te resulte útil."
      ]
    },
    {
      "cell_type": "code",
      "execution_count": null,
      "metadata": {
        "id": "LQpYTbyC641R"
      },
      "outputs": [],
      "source": []
    },
    {
      "cell_type": "markdown",
      "metadata": {
        "id": "t7N7FGPs641n"
      },
      "source": [
        "Es importante usar dos OPTIONAL distintos para que se muestren todos los miembros, tengan o no pseudónimo y nombre completo asociados."
      ]
    },
    {
      "cell_type": "markdown",
      "metadata": {
        "id": "2aXlt0c0641U"
      },
      "source": [
        "### Consulta 3\n",
        "\n",
        "[Bono (Q834621)](http://www.wikidata.org/entity/Q834621) es el cantante de la banda. Además de cantante, ha tenido muchas otras ocupaciones. ¿Cuáles de ellas están relacionadas directamente con el mundo del [arte (Q483501](https://www.wikidata.org/wiki/Q483501)? Ten en cuenta que la jerarquía de ocupaciones puede ser muy sofisticada.\n",
        "\n",
        "Puede que [esto](https://www.wikidata.org/wiki/Wikidata:SPARQL_tutorial#Property_paths) te resulte útil."
      ]
    },
    {
      "cell_type": "code",
      "execution_count": null,
      "metadata": {
        "id": "YmkL2A97641X"
      },
      "outputs": [],
      "source": []
    },
    {
      "cell_type": "markdown",
      "metadata": {
        "id": "SwZlh2ht641a"
      },
      "source": [
        "Si no añadimos el `+` a la relación `wdt:P279` muchas de las profesiones no se recuperan."
      ]
    },
    {
      "cell_type": "markdown",
      "metadata": {
        "id": "9ncKC-pD641d"
      },
      "source": [
        "### Consulta 4\n",
        "\n",
        "Bono se ha casado una vez, con Ali Hewson, con la que tiene varios hijos. Queremos conocer los nombres de esos hijos y sus fechas de nacimiento. Los resultados deben aparecer ordenados cronológicamente."
      ]
    },
    {
      "cell_type": "code",
      "execution_count": null,
      "metadata": {
        "id": "-plinTNQ641f"
      },
      "outputs": [],
      "source": []
    },
    {
      "cell_type": "markdown",
      "metadata": {
        "id": "H4hEfr0q641j"
      },
      "source": [
        "### Consulta 5\n",
        "\n",
        "Bono ha recibido muchos premios a lo largo de su carrera. Queremos obtener la lista de premios y, para cada uno de ellos, la fecha en la que fue premiado (si está disponible). Los resultados se deben mostrar ordenado por fecha.\n",
        "\n",
        "Para resolver esta consulta necesitarás acceder a los cualificadores de nodos sentencia y necesitarás entender los prefijos que usa Wikidata. Puede que [esto](https://www.wikidata.org/wiki/Wikidata:SPARQL_tutorial#Qualifiers) te resulte útil."
      ]
    },
    {
      "cell_type": "code",
      "execution_count": null,
      "metadata": {
        "id": "E1dLYOhw641k"
      },
      "outputs": [],
      "source": []
    },
    {
      "cell_type": "markdown",
      "metadata": {
        "id": "L-dCbyzs641o"
      },
      "source": [
        "### Consulta 6\n",
        "\n",
        "Ahora queremos conocer todos los discos de U2 del tipo [albunes en directo (Q209939)](https://www.wikidata.org/wiki/Q209939) y cualquiera de sus subgéneros. Los resultados se deben mostrar ordenados por nombre e incluir el año de publicación."
      ]
    },
    {
      "cell_type": "code",
      "execution_count": null,
      "metadata": {
        "id": "yqPvbQkm641p"
      },
      "outputs": [],
      "source": []
    },
    {
      "cell_type": "markdown",
      "metadata": {
        "id": "fGRoLkcY641q"
      },
      "source": [
        "### Consulta 7\n",
        "\n",
        "Queremos saber si hay obras de U2 publicadas varias veces (en diferentes años). Para ello vamos a recuperar las obras de tipo [lanzamiento de un grupo (group release)](https://www.wikidata.org/wiki/Q108346082) pero mostrando también la fecha de publicación más antigua de cada una y el número de apariciones. Los resultados deben aparecer en orden cronológico.\n",
        "\n",
        "Para calcular la fecha correcta tendrás que agrupar las respuestas por album y aplicar una función de agregación sobre las fechas de lanzamiento. Puede que [esto](https://www.wikidata.org/wiki/Wikidata:SPARQL_tutorial#Grouping) te resulte útil."
      ]
    },
    {
      "cell_type": "code",
      "execution_count": null,
      "metadata": {
        "id": "HdgBwld4641r"
      },
      "outputs": [],
      "source": []
    },
    {
      "cell_type": "markdown",
      "metadata": {
        "id": "Ns1O-tVx641t"
      },
      "source": [
        "### Consulta 8\n",
        "\n",
        "U2 es sin duda un grupo con una larga trayectoria. ¿Cuántas discos ha lanzado? Vamos a considerar sólo instancias directas de [album de estudio (Q208569)](https://www.wikidata.org/wiki/Q208569)."
      ]
    },
    {
      "cell_type": "code",
      "source": [],
      "metadata": {
        "id": "HbzUgR0cVhIu"
      },
      "execution_count": null,
      "outputs": []
    },
    {
      "cell_type": "markdown",
      "metadata": {
        "id": "1vZp0M0p641v"
      },
      "source": [
        "### Consulta 9\n",
        "\n",
        "Entre todos sus discos de estudio, queremos recuperar los títulos, fechas de lanzamiento y discográfica de los discos de la década de los 1990. Si alguna obra tiene varias fechas de publicación, se mostrará si alguna de ellas está dentro de ese periodo.\n",
        "\n",
        "Puede que [esto](https://www.wikidata.org/wiki/Wikidata:SPARQL_tutorial#FILTER) te resulte útil."
      ]
    },
    {
      "cell_type": "code",
      "source": [],
      "metadata": {
        "id": "ER7OYiLIVkg2"
      },
      "execution_count": null,
      "outputs": []
    },
    {
      "cell_type": "markdown",
      "metadata": {
        "id": "OEmfnG85641y"
      },
      "source": [
        "### Consulta 10\n",
        "\n",
        "¿Qué otros personajes famosos nacieron el mismo año que Bono y tiene su misma nacionalidad? Para cada uno de ellos muestra su nombre y ocupación. Muestra los resultados ordenados por nombre y fecha de nacimiento."
      ]
    },
    {
      "cell_type": "code",
      "source": [],
      "metadata": {
        "id": "65s4lfzOVn4-"
      },
      "execution_count": null,
      "outputs": []
    },
    {
      "cell_type": "markdown",
      "metadata": {
        "id": "cN4i-x3p6411"
      },
      "source": [
        "### Consulta 11\n",
        "\n",
        "¿Cuántos asertos hay sobre U2 en Wikidata? Ten en cuenta que puede aparece tanto como sujeto como objeto de cada tripleta."
      ]
    },
    {
      "cell_type": "code",
      "source": [],
      "metadata": {
        "id": "zEvNQk9KVvfG"
      },
      "execution_count": null,
      "outputs": []
    }
  ],
  "metadata": {
    "colab": {
      "provenance": []
    },
    "kernelspec": {
      "display_name": "Python 3",
      "language": "python",
      "name": "python3"
    },
    "language_info": {
      "codemirror_mode": {
        "name": "ipython",
        "version": 3
      },
      "file_extension": ".py",
      "mimetype": "text/x-python",
      "name": "python",
      "nbconvert_exporter": "python",
      "pygments_lexer": "ipython3",
      "version": "3.8.12"
    }
  },
  "nbformat": 4,
  "nbformat_minor": 0
}