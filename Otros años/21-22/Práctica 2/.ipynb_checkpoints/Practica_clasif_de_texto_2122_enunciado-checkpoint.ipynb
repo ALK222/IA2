{
 "cells": [
  {
   "cell_type": "markdown",
   "metadata": {},
   "source": [
    "# Práctica 2: Procesamiento del Lenguaje Natural\n",
    "\n",
    "__Fecha de entrega: 3 de abril de 2022__\n",
    "\n",
    "El objetivo de esta práctica es aplicar los conceptos teóricos vistos en clase en el módulo de PLN. La práctica consta de 2 notebooks que se entregarán simultáneamente en la tarea de entrega habilitada en el Campus  Virtual.\n",
    "\n",
    "Lo más importante en esta práctica no es el código Python, sino el análisis de los datos y modelos que construyas y las explicaciones razonadas de cada una de las decisiones que tomes. __No se valorarán trozos de código o gráficas sin ningún tipo de contexto o explicación__.\n",
    "\n",
    "Finalmente, recuerda establecer el parámetro `random_state` en todas las funciones que tomen decisiones aleatorias para que los resultados sean reproducibles (los resultados no varíen entre ejecuciones)."
   ]
  },
  {
   "cell_type": "code",
   "execution_count": 1,
   "metadata": {},
   "outputs": [],
   "source": [
    "RANDOM_STATE = 133"
   ]
  },
  {
   "cell_type": "markdown",
   "metadata": {},
   "source": [
    "# Apartado 1: Clasificador de noticias"
   ]
  },
  {
   "cell_type": "markdown",
   "metadata": {},
   "source": [
    "## 1) Carga del conjunto de datos\n",
    "\n",
    "El fichero `BBC News.csv` contiene noticias clasificadas en 5 categorías diferentes. \n",
    "\n",
    "Carga los datos en un dataframe teniendo en cuenta que la columna `ArticleId` es un identificador de la noticia y por lo tanto no debes usarlo para clasificar. \n",
    "\n",
    "Estudia el tamaño del conjunto de datos y la proporción de noticias que pertenecen a cada una de las categorías. Indica si debemos tenerlo en cuenta de alguna forma al analizar los modelos que construyamos.\n",
    "\n",
    "Muestra un mensaje cualquiera y explica si lo habrías clasificado en la clase correcta tras leerlo.\n",
    "\n",
    "Crea una partición de los datos dejando el 80% para entrenamiento y el 20% restante para test usando la función `train_test_split` de sklearn. "
   ]
  },
  {
   "cell_type": "code",
   "execution_count": 2,
   "metadata": {},
   "outputs": [],
   "source": [
    "import pandas as pd\n",
    "import numpy as np\n",
    "\n",
    "file = 'BBC News.csv'\n",
    "csv = pd.read_csv(file, sep=',')\n",
    "df = pd.DataFrame(csv) #importar csv"
   ]
  },
  {
   "cell_type": "code",
   "execution_count": 3,
   "metadata": {},
   "outputs": [
    {
     "data": {
      "text/plain": [
       "sport            346\n",
       "business         336\n",
       "politics         274\n",
       "entertainment    273\n",
       "tech             261\n",
       "Name: Category, dtype: int64"
      ]
     },
     "execution_count": 3,
     "metadata": {},
     "output_type": "execute_result"
    }
   ],
   "source": [
    "df['Category'].value_counts() #contar veces que aparece cada valor "
   ]
  },
  {
   "cell_type": "code",
   "execution_count": 4,
   "metadata": {},
   "outputs": [
    {
     "data": {
      "text/plain": [
       "Text        fockers keeps us box office lead film comedy m...\n",
       "Category                                        entertainment\n",
       "Name: 223, dtype: object"
      ]
     },
     "execution_count": 4,
     "metadata": {},
     "output_type": "execute_result"
    }
   ],
   "source": [
    "df.loc[223,['Text','Category']] #fila 223"
   ]
  },
  {
   "cell_type": "code",
   "execution_count": 5,
   "metadata": {},
   "outputs": [
    {
     "name": "stdout",
     "output_type": "stream",
     "text": [
      "      ArticleId                                               Text  Category\n",
      "580        1926  warning over us pensions deficit taxpayers may...  business\n",
      "150         449  collins calls for chambers return world 100m c...     sport\n",
      "393         123  safety alert as gm recalls cars the world s bi...  business\n",
      "1427        896  jp morgan admits us slavery links thousands of...  business\n",
      "83         1297  clarke to press on with id cards new home secr...  politics\n",
      "...         ...                                                ...       ...\n",
      "564         991  us in eu tariff chaos trade row the us has ask...  business\n",
      "1025       1702  benitez  to launch morientes bid  liverpool ma...     sport\n",
      "1080       2214  progress on new internet domains by early 2005...      tech\n",
      "904         102  mauresmo opens with victory in la amelie maure...     sport\n",
      "673        2178  henman decides to quit davis cup tim henman ha...     sport\n",
      "\n",
      "[1192 rows x 3 columns]\n",
      "      ArticleId                                               Text  \\\n",
      "86         2127  boris opposes mayor apology ken livingstone sh...   \n",
      "15         1588  wenger signs new deal arsenal manager arsene w...   \n",
      "50          904  telewest to challenge sky plus cable firm tele...   \n",
      "1279        993  concern over rfid tags consumers are very conc...   \n",
      "343        1733  mobiles  not media players yet  mobiles are no...   \n",
      "...         ...                                                ...   \n",
      "977         475  nintendo adds media playing to ds nintendo is ...   \n",
      "809         390  will tory tax cuts lift spirits  michael howar...   \n",
      "37          805  yachvili savours france comeback france scrum-...   \n",
      "1421       1687  police praise  courageous  ozzy rock star ozzy...   \n",
      "29         1503  iran budget seeks state sell-offs iran s presi...   \n",
      "\n",
      "           Category  \n",
      "86         politics  \n",
      "15            sport  \n",
      "50             tech  \n",
      "1279           tech  \n",
      "343            tech  \n",
      "...             ...  \n",
      "977            tech  \n",
      "809        politics  \n",
      "37            sport  \n",
      "1421  entertainment  \n",
      "29         business  \n",
      "\n",
      "[298 rows x 3 columns]\n"
     ]
    }
   ],
   "source": [
    "from sklearn.model_selection import train_test_split\n",
    "\n",
    "train_data, test_data = train_test_split(df, test_size=0.2,random_state=RANDOM_STATE) #mezclo y cojo el 20% para prueba\n",
    "\n",
    "print(train_data) #entrenamiento\n",
    "print(test_data) #prueba"
   ]
  },
  {
   "cell_type": "markdown",
   "metadata": {},
   "source": [
    "## 2) Representación basada en bolsa de palabras y frecuencia de aparición\n",
    "\n",
    "La primera vectorización que vamos a usar representará los mensajes usando el modelo de bolsa de palabras, monogramas y la frecuencia de aparición de cada palabra. Usa como _stop words_ las que vienen configuradas por defecto para el inglés.\n"
   ]
  },
  {
   "cell_type": "code",
   "execution_count": 6,
   "metadata": {},
   "outputs": [],
   "source": [
    "from sklearn.feature_extraction.text import CountVectorizer\n",
    "from sklearn.feature_extraction.text import TfidfTransformer\n",
    "\n",
    "vectorizer = CountVectorizer(stop_words='english', binary=False,ngram_range=(1,1), token_pattern=r'(?u)\\b[A-Za-z]+\\b')\n"
   ]
  },
  {
   "cell_type": "markdown",
   "metadata": {},
   "source": [
    "Aplica la vectorización a los conjuntos de mensajes de entrenamiento y test. Muestra algún mensaje tanto en su formato de texto original como en la versión vectorizada. ¿Qué palabras se han eliminado y por qué?\n"
   ]
  },
  {
   "cell_type": "code",
   "execution_count": 7,
   "metadata": {},
   "outputs": [],
   "source": [
    "# Tomamos los textos del conjunto de entrenamiento y los transformamos en \n",
    "# una matriz de datos (palabras) según el diccionario estándar\n",
    "\n",
    "train_vector_data=vectorizer.fit_transform(train_data.Text)\n",
    "#print(train_vector_data[10])"
   ]
  },
  {
   "cell_type": "code",
   "execution_count": 8,
   "metadata": {},
   "outputs": [],
   "source": [
    "# Tomamos los textos del conjunto de test y los transformamos en una matriz\n",
    "# de palabras. Al usar \"transform\" toma como referencia únicamente las palabras\n",
    "# encontradas en el conjunto de entrenamiento\n",
    "test_vector_data=vectorizer.transform(test_data.Text)"
   ]
  },
  {
   "cell_type": "code",
   "execution_count": 9,
   "metadata": {
    "scrolled": true
   },
   "outputs": [
    {
     "name": "stdout",
     "output_type": "stream",
     "text": [
      "21134\n",
      "['aa', 'aaa', 'aac', 'aaliyah', 'aaltra', 'aamir', 'aaron', 'abacus', 'abandon', 'abandoned', 'abandoning', 'abating', 'abba', 'abbas', 'abbasi', 'abbott', 'abc', 'abd', 'abdication', 'abdomen', 'abdominal', 'abducted', 'abduction', 'abdullah', 'abdullatif', 'abebe', 'aberdeen', 'aberystwyth', 'abeyance', 'abeyie', 'abhorrent', 'abide', 'abided', 'abiding', 'abigail', 'abilities', 'ability', 'abish', 'able', 'abn', 'abnormal', 'abnormality', 'abolish', 'abolishing', 'abolition', 'abortion', 'abortionist', 'abortive', 'abramovich', 'abroad', 'abrupt', 'absa', 'absence', 'absent', 'absentee', 'absolute', 'absolutely', 'absolution', 'absorb', 'absorbed', 'absorbing', 'absorbs', 'abstain', 'abstentions', 'absurd', 'abtahi', 'abu', 'abundance', 'aburizal', 'abuse', 'abused', 'abuses', 'abusing', 'abusive', 'abysmal', 'ac', 'academic', 'academies', 'academy', 'acc', 'accelerate', 'accelerated', 'accelerating', 'accelerator', 'accept', 'acceptable', 'acceptance', 'acceptances', 'accepted', 'accepting', 'accepts', 'access', 'accessed', 'accessible', 'accessing', 'accession', 'accessories', 'accessory', 'accident', 'accidental', 'accidentally', 'accidently', 'accidents', 'acclaim', 'acclaimed', 'acclimate', 'acclimatise', 'accolade', 'accolades', 'accommodate', 'accommodated', 'accommodation', 'accompanied', 'accompaniment', 'accompany', 'accompanying', 'accomplices', 'accomplish', 'accomplished', 'accomplishment', 'accord', 'accordance', 'according', 'accordingly', 'account', 'accountability', 'accountable', 'accountancy', 'accountant', 'accountants', 'accounted', 'accounting', 'accounts', 'accoustic', 'accra', 'accumulate', 'accumulated', 'accumulates', 'accumulator', 'accuracy', 'accurate', 'accurately', 'accusation', 'accusations', 'accuse', 'accused', 'accuses', 'accusing', 'accustomed', 'ace']\n"
     ]
    }
   ],
   "source": [
    "feature_names = vectorizer.get_feature_names() #palabras de nuestro diccionario usadas en la vectorización\n",
    "\n",
    "print(len(feature_names))\n",
    "print(feature_names[:150])"
   ]
  },
  {
   "cell_type": "code",
   "execution_count": 10,
   "metadata": {},
   "outputs": [],
   "source": [
    "import numpy as np\n",
    "import numpy.ma as ma\n",
    "\n",
    "def write_terms (feature_names, data, vector_data, index):\n",
    "    '''\n",
    "    Escribe los términos presentes en un mensaje representado como bolsa de palabras.\n",
    "    \n",
    "    - feature_names: terminos usados para vectorizar\n",
    "    - data: lista de mensajes original (si data==None no se muestra el mensaje original)\n",
    "    - vector_data: matriz (dispersa) de mensaje vectorizados\n",
    "    - index: posición del mensaje a mostrar\n",
    "    '''\n",
    "    # máscara para seleccionar sólo el mensaje en posición index\n",
    "    mask=vector_data[index,:]>0\n",
    "    \n",
    "    # términos que aparecen en ese mensaje vectorizado\n",
    "    terminos = ma.array(feature_names, mask = ~(mask[0].toarray()))\n",
    "    \n",
    "    # mostrar mensaje original\n",
    "    if data is not None:\n",
    "        print('Mensaje', index, ':', data[index])\n",
    "    \n",
    "    # mostrar términos que aparecen en el mensaje vectorizado\n",
    "    print('Mensaje', index, 'vectorizado:', terminos.compressed(),'\\n')"
   ]
  },
  {
   "cell_type": "code",
   "execution_count": 11,
   "metadata": {},
   "outputs": [
    {
     "name": "stdout",
     "output_type": "stream",
     "text": [
      "Mensaje 0 : warning over us pensions deficit taxpayers may have to bail out the us agency that protects workers  pension funds  leading economists have warned.  with the pension benefit guaranty corporation (pbgc) some £23bn (£12m) in deficit  the financial economists roundtable (fer) wants congress to act. instead of taxpayers having to pick up the bill  the fer wants congressmen to change the pbgc s funding rules. the fer says firms should not have been allowed to reduce the insurance premiums they pay into the pbgc fund. the fer blames this on a 2004 law  in a statement signed by several members  who include nobel economics laureate william sharpe. it said it was  dismayed  at the situation and wants congress to overturn the legislation.  cash-strapped us companies  including those in the airline  car-making and steel industries  had argued in favour of the 2004 rule change  claiming that funding the insurance premiums adequately would force them to have to cut jobs.  with a little firmer hand on the pensions issues in the us  i think that congress could avoid having to turn to the taxpayer and instead turn the obligations back onto the companies that deserve to pay them   said professor dennis logue  dean of price college of business at the university of oklahoma. the pbgc was founded in 1974 to protect workers  retirement rights. its most recent action came last week when it took control of the pilots  pension scheme at united airlines. with united battling bankruptcy  the carrier had wanted to use the money set aside for pensions to finance running costs. the company has an estimated $2.9bn hole in its pilots  pension scheme  which the pbgc will now guarantee.\n",
      "Mensaje 0 vectorizado: ['act' 'action' 'adequately' 'agency' 'airline' 'airlines' 'allowed'\n",
      " 'argued' 'aside' 'avoid' 'bail' 'bankruptcy' 'battling' 'benefit'\n",
      " 'blames' 'business' 'came' 'car' 'carrier' 'cash' 'change' 'claiming'\n",
      " 'college' 'companies' 'company' 'congress' 'congressmen' 'control'\n",
      " 'corporation' 'costs' 'cut' 'dean' 'deficit' 'dennis' 'deserve'\n",
      " 'dismayed' 'economics' 'economists' 'estimated' 'favour' 'fer' 'finance'\n",
      " 'financial' 'firmer' 'firms' 'force' 'founded' 'fund' 'funding' 'funds'\n",
      " 'guarantee' 'guaranty' 'hand' 'having' 'hole' 'include' 'including'\n",
      " 'industries' 'instead' 'insurance' 'issues' 'jobs' 'laureate' 'law'\n",
      " 'leading' 'legislation' 'little' 'logue' 'making' 'members' 'money'\n",
      " 'nobel' 'obligations' 'oklahoma' 'overturn' 'pay' 'pbgc' 'pension'\n",
      " 'pensions' 'pick' 'pilots' 'premiums' 'price' 'professor' 'protect'\n",
      " 'protects' 'recent' 'reduce' 'retirement' 'rights' 'roundtable' 'rule'\n",
      " 'rules' 'running' 's' 'said' 'says' 'scheme' 'set' 'sharpe' 'signed'\n",
      " 'situation' 'statement' 'steel' 'strapped' 'taxpayer' 'taxpayers' 'think'\n",
      " 'took' 'turn' 'united' 'university' 'use' 'wanted' 'wants' 'warned'\n",
      " 'warning' 'week' 'william' 'workers'] \n",
      "\n"
     ]
    }
   ],
   "source": [
    "write_terms(feature_names, train_data['Text'].tolist(), train_vector_data, 0)"
   ]
  },
  {
   "cell_type": "code",
   "execution_count": 12,
   "metadata": {},
   "outputs": [
    {
     "name": "stdout",
     "output_type": "stream",
     "text": [
      "Mensaje 0 : boris opposes mayor apology ken livingstone should  stick to his guns  and not apologise for his  nazi  comment to a jewish reporter  tory mp boris johnson has insisted.  mr johnson also claimed tony blair s intervention in the row was  an attempt to reassure jewish voters . london mayor mr livingstone says he is  standing by  his remarks which likened an evening standard journalist to a  concentration camp guard . but the prime minister says it is time for mr livingstone to say sorry.  labour s mr livingstone has said his comments may have been offensive but were not racist  and said earlier this week he would not apologise even if mr blair asked. later the prime minister said:  a lot of us in politics get angry with journalists from time to time  but in the circumstances  and to the journalist because he was a jewish journalist  yes  he should apologise.   however  mr johnson  who was forced to apologise last year for an article in the magazine he edits about liverpudlians grieving over the death of british hostage ken bigley  said mr blair  should butt out of  the row.  i don t see why the prime minister has to get involved in this   the spectator editor told bbc radio 4 s today programme.  it s a dispute between ken livingstone and a reporter on the evening standard.  mr johnson  mp for henley-on-thames  oxfordshire  said he suspected labour was now trying to reassure jewish voters  because of this curious way in which labour seems to be trying to curry favour with disillusioned muslim voters who may be disillusioned about the war .   ken doesn t think he s got anything to say sorry for and if that s really his feeling  then i think that he should stick to his guns   he said. mr johnson apologised last october for perpetuating an  outdated stereotype  of liverpool in the leader article on the death of mr bigley. the article in the magazine suggested grieving liverpudlians were wallowing in their victim status. it also attributed blame to drunken liverpool football fans for the 1989 hillsborough disaster in which 96 died. mr johnson told today:  it s perfectly true that i got into the grovelling game myself and when i apologised there were some things that i felt i ought to say sorry for ... there were also other things i didn t think i should apologise for   he said.  but here s old ken - he s been crass  he s been insensitive and thuggish and brutal in his language - but i don t think actually if you read what he said  although it was extraordinary and rude  i don t think he was actually anti-semitic.\n",
      "Mensaje 0 vectorizado: ['actually' 'angry' 'anti' 'apologise' 'apologised' 'apology' 'article'\n",
      " 'asked' 'attempt' 'attributed' 'bbc' 'blair' 'blame' 'british' 'brutal'\n",
      " 'butt' 'camp' 'circumstances' 'claimed' 'comment' 'comments'\n",
      " 'concentration' 'crass' 'curry' 'death' 'didn' 'died' 'disaster'\n",
      " 'disillusioned' 'dispute' 'doesn' 'don' 'drunken' 'earlier' 'editor'\n",
      " 'edits' 'evening' 'extraordinary' 'fans' 'favour' 'feeling' 'felt'\n",
      " 'football' 'forced' 'game' 'got' 'guard' 'guns' 'hillsborough' 'hostage'\n",
      " 'insisted' 'intervention' 'involved' 'jewish' 'johnson' 'journalist'\n",
      " 'journalists' 'ken' 'labour' 'language' 'later' 'leader' 'likened'\n",
      " 'liverpool' 'livingstone' 'london' 'lot' 'magazine' 'mayor' 'minister'\n",
      " 'mp' 'mr' 'muslim' 'nazi' 'october' 'offensive' 'old' 'opposes' 'ought'\n",
      " 'outdated' 'oxfordshire' 'perfectly' 'politics' 'prime' 'programme'\n",
      " 'racist' 'radio' 'read' 'really' 'reassure' 'remarks' 'reporter' 'row'\n",
      " 'rude' 's' 'said' 'say' 'says' 'semitic' 'sorry' 'spectator' 'standard'\n",
      " 'standing' 'status' 'stereotype' 'stick' 'suggested' 'suspected' 't'\n",
      " 'thames' 'things' 'think' 'time' 'today' 'told' 'tony' 'tory' 'true'\n",
      " 'trying' 'victim' 'voters' 'war' 'way' 'week' 'year' 'yes'] \n",
      "\n"
     ]
    }
   ],
   "source": [
    "write_terms(feature_names, test_data['Text'].tolist(), test_vector_data, 0)"
   ]
  },
  {
   "cell_type": "markdown",
   "metadata": {},
   "source": [
    "Entrena un clasificador Naive Bayes Multinomial y calcula su tasa de aciertos sobre el conjunto de entrenamiento y el conjunto de test. \n",
    "\n"
   ]
  },
  {
   "cell_type": "code",
   "execution_count": 13,
   "metadata": {},
   "outputs": [
    {
     "name": "stdout",
     "output_type": "stream",
     "text": [
      "Multinomial Naive Bayes, porcentaje de aciertos en entrenamiento: 0.99748322147651\n",
      "Multinomial Naive Bayes, porcentaje de aciertos en test: 0.9798657718120806\n"
     ]
    }
   ],
   "source": [
    "from sklearn.naive_bayes import MultinomialNB\n",
    "\n",
    "mnb_classifier = MultinomialNB()\n",
    "\n",
    "mnb_classifier.fit(train_vector_data, train_data['Category'])\n",
    "\n",
    "mnb_train_predictions = mnb_classifier.predict(train_vector_data)\n",
    "mnb_test_predictions = mnb_classifier.predict(test_vector_data)\n",
    "\n",
    "print(\"Multinomial Naive Bayes, porcentaje de aciertos en entrenamiento:\", np.mean(mnb_train_predictions == train_data['Category']))\n",
    "print(\"Multinomial Naive Bayes, porcentaje de aciertos en test:\", np.mean(mnb_test_predictions == test_data['Category']))"
   ]
  },
  {
   "cell_type": "markdown",
   "metadata": {},
   "source": [
    "A continuación calcula los valores de precisión, exhaustividad y puntuación F1 para cada una de las clases. "
   ]
  },
  {
   "cell_type": "code",
   "execution_count": 14,
   "metadata": {},
   "outputs": [
    {
     "name": "stdout",
     "output_type": "stream",
     "text": [
      "               precision    recall  f1-score   support\n",
      "\n",
      "     business       1.00      0.96      0.98        72\n",
      "entertainment       0.97      0.97      0.97        60\n",
      "     politics       0.98      1.00      0.99        53\n",
      "        sport       1.00      1.00      1.00        62\n",
      "         tech       0.94      0.98      0.96        51\n",
      "\n",
      "     accuracy                           0.98       298\n",
      "    macro avg       0.98      0.98      0.98       298\n",
      " weighted avg       0.98      0.98      0.98       298\n",
      "\n"
     ]
    }
   ],
   "source": [
    "from sklearn.metrics import classification_report, confusion_matrix\n",
    "\n",
    "# NOTA: Aquí elegimos analizar un determinado clasificador y sus predicciones \n",
    "# Por ejemplo el naive bayes\n",
    "classifier=mnb_classifier\n",
    "predictions = mnb_test_predictions\n",
    "\n",
    "#con test_data['Category'].value_counts() se ve la cantidad de cada categoría para ordenarlos en target_names (es alfabético)\n",
    "print(classification_report(test_data['Category'], predictions, target_names=['business', 'entertainment', 'politics','sport', 'tech']))"
   ]
  },
  {
   "cell_type": "markdown",
   "metadata": {},
   "source": [
    "Dibuja la matriz de confusión. Analiza los resultados obtenidos."
   ]
  },
  {
   "cell_type": "code",
   "execution_count": 15,
   "metadata": {
    "scrolled": false
   },
   "outputs": [
    {
     "data": {
      "text/plain": [
       "(array([0.5, 1.5, 2.5, 3.5, 4.5]),\n",
       " [Text(0.5, 0, 'business'),\n",
       "  Text(1.5, 0, 'entertainment'),\n",
       "  Text(2.5, 0, 'politics'),\n",
       "  Text(3.5, 0, 'sport'),\n",
       "  Text(4.5, 0, 'tech')])"
      ]
     },
     "execution_count": 15,
     "metadata": {},
     "output_type": "execute_result"
    },
    {
     "data": {
      "image/png": "[encoded data removed]",
      "text/plain": [
       "<Figure size 1080x720 with 2 Axes>"
      ]
     },
     "metadata": {
      "needs_background": "light"
     },
     "output_type": "display_data"
    }
   ],
   "source": [
    "%matplotlib inline\n",
    "import pandas as pd\n",
    "import seaborn as sn\n",
    "import matplotlib.pyplot as plt\n",
    "\n",
    "conf_matrix = confusion_matrix(test_data['Category'], predictions)\n",
    "conf_matrix_df = pd.DataFrame(conf_matrix, index=['business', 'entertainment', 'politics','sport', 'tech'],\n",
    "                              columns=['business', 'entertainment', 'politics','sport', 'tech'])\n",
    "\n",
    "plt.figure(figsize=(15, 10))\n",
    "sn.heatmap(conf_matrix_df, annot=True, vmin=0, vmax=conf_matrix.max(), fmt='d', cmap=\"YlGnBu\")\n",
    "plt.yticks(rotation=0)\n",
    "plt.xticks(rotation=90)"
   ]
  },
  {
   "cell_type": "markdown",
   "metadata": {},
   "source": [
    "A continuación, entrena un clasificador k-NN con la configuración por defecto y usando la misma vectorización. Analiza los resultados, ¿a qué crees que se deben?"
   ]
  },
  {
   "cell_type": "code",
   "execution_count": 16,
   "metadata": {},
   "outputs": [
    {
     "name": "stdout",
     "output_type": "stream",
     "text": [
      "k-NN, porcentaje de aciertos en entrenamiento: 0.6870805369127517\n",
      "k-NN, porcentaje de aciertos en test: 0.540268456375839\n"
     ]
    }
   ],
   "source": [
    "from sklearn import neighbors\n",
    "\n",
    "knn_classifier = neighbors.KNeighborsClassifier()\n",
    "knn_classifier.fit(train_vector_data, train_data['Category'])\n",
    "\n",
    "knn_train_predictions = knn_classifier.predict(train_vector_data)\n",
    "knn_test_predictions = knn_classifier.predict(test_vector_data)\n",
    "\n",
    "print(\"k-NN, porcentaje de aciertos en entrenamiento:\", np.mean(knn_train_predictions == train_data['Category']))\n",
    "print(\"k-NN, porcentaje de aciertos en test:\", np.mean(knn_test_predictions == test_data['Category']))"
   ]
  },
  {
   "cell_type": "code",
   "execution_count": 17,
   "metadata": {},
   "outputs": [
    {
     "name": "stdout",
     "output_type": "stream",
     "text": [
      "               precision    recall  f1-score   support\n",
      "\n",
      "     business       0.91      0.42      0.57        72\n",
      "entertainment       0.78      0.42      0.54        60\n",
      "     politics       0.94      0.57      0.71        53\n",
      "        sport       0.33      1.00      0.50        62\n",
      "         tech       1.00      0.27      0.43        51\n",
      "\n",
      "     accuracy                           0.54       298\n",
      "    macro avg       0.79      0.53      0.55       298\n",
      " weighted avg       0.78      0.54      0.55       298\n",
      "\n"
     ]
    }
   ],
   "source": [
    "classifier=knn_classifier\n",
    "predictions = knn_test_predictions\n",
    "\n",
    "#con test_data['Category'].value_counts() se ve la cantidad de cada categoría para ordenarlos en target_names (es alfabético)\n",
    "print(classification_report(test_data['Category'], predictions, target_names=['business', 'entertainment', 'politics','sport', 'tech']))"
   ]
  },
  {
   "cell_type": "code",
   "execution_count": 18,
   "metadata": {},
   "outputs": [
    {
     "data": {
      "text/plain": [
       "(array([0.5, 1.5, 2.5, 3.5, 4.5]),\n",
       " [Text(0.5, 0, 'business'),\n",
       "  Text(1.5, 0, 'entertainment'),\n",
       "  Text(2.5, 0, 'politics'),\n",
       "  Text(3.5, 0, 'sport'),\n",
       "  Text(4.5, 0, 'tech')])"
      ]
     },
     "execution_count": 18,
     "metadata": {},
     "output_type": "execute_result"
    },
    {
     "data": {
      "image/png": "[encoded data removed]",
      "text/plain": [
       "<Figure size 1080x720 with 2 Axes>"
      ]
     },
     "metadata": {
      "needs_background": "light"
     },
     "output_type": "display_data"
    }
   ],
   "source": [
    "%matplotlib inline\n",
    "\n",
    "conf_matrix = confusion_matrix(test_data['Category'], predictions)\n",
    "conf_matrix_df = pd.DataFrame(conf_matrix, index=['business', 'entertainment', 'politics','sport', 'tech'],\n",
    "                              columns=['business', 'entertainment', 'politics','sport', 'tech'])\n",
    "\n",
    "plt.figure(figsize=(15, 10))\n",
    "sn.heatmap(conf_matrix_df, annot=True, vmin=0, vmax=conf_matrix.max(), fmt='d', cmap=\"YlGnBu\")\n",
    "plt.yticks(rotation=0)\n",
    "plt.xticks(rotation=90)"
   ]
  },
  {
   "cell_type": "markdown",
   "metadata": {},
   "source": [
    "## 3) Representación basada en word-embeddings\n",
    "\n",
    "La segunda vectorización que vamos a usar representará los mensajes usando word-embeddings. Cada documento se representará como el vector que resulta de promediar los embeddings de cada una de sus palabras. Al igual que en el apartado anterior, usaremos monogramas y las _stop words_ que vienen configuradas por defecto para el inglés. Recuerda usar como vocabulario para vectorizar el vocabulario del fichero con las word-embeddings. \n"
   ]
  },
  {
   "cell_type": "code",
   "execution_count": 19,
   "metadata": {},
   "outputs": [],
   "source": [
    "from gensim.scripts.glove2word2vec import glove2word2vec\n",
    "from gensim.models import KeyedVectors\n",
    "\n",
    "# Traducimos el fichero glove a un fichero con formato word2vec\n",
    "glove_file = 'words.txt'\n",
    "\n",
    "# Gensim 4 puede transformar de glove a word2vec directamente\n",
    "we_model = KeyedVectors.load_word2vec_format(glove_file, binary=False, no_header=True)"
   ]
  },
  {
   "cell_type": "code",
   "execution_count": 20,
   "metadata": {},
   "outputs": [],
   "source": [
    "from sklearn.feature_extraction.text import CountVectorizer\n",
    "from sklearn.feature_extraction.text import TfidfTransformer\n",
    "\n",
    "# En Gensim 4 se pueden obtener de la siguiente manera\n",
    "# we_vocabulary = sorted(model.key_to_index.keys(), key=lambda word: model.get_vecattr(word, \"count\"), reverse=True)\n",
    "we_vocabulary = list(we_model.key_to_index.keys())\n",
    "\n",
    "we_vectorizer = CountVectorizer(vocabulary = we_vocabulary, stop_words='english', binary=False,ngram_range=(1,1), token_pattern=r'(?u)\\b[A-Za-z]+\\b')\n",
    "\n",
    "we_train_vector_data = we_vectorizer.fit_transform(train_data.Text)\n",
    "\n",
    "# Tomamos los textos del conjunto de test y los transformamos en una matriz\n",
    "# de palabras. Al usar \"transform\" toma como referencia únicamente las palabras\n",
    "# encontradas en el conjunto de entrenamiento\n",
    "we_test_vector_data=we_vectorizer.transform(test_data.Text)\n",
    "\n",
    "we_feature_names = we_vectorizer.get_feature_names()"
   ]
  },
  {
   "cell_type": "markdown",
   "metadata": {},
   "source": [
    "Entrena un clasificador Naive Bayes Gaussiano (el Multinomial no admite valores negativos que sí aparecen en los embeddings). Analiza el error por clase y dibuja la matriz de confusión.\n"
   ]
  },
  {
   "cell_type": "code",
   "execution_count": 21,
   "metadata": {},
   "outputs": [],
   "source": [
    "from sklearn.naive_bayes import GaussianNB\n",
    "\n",
    "gnb_classifier = GaussianNB()\n",
    "\n",
    "num_rows=len(train_data['Category'])#1192\n",
    "chunk_size=149 #1192/149 = 8\n",
    "\n",
    "for i in range(0, (num_rows//chunk_size)):\n",
    "    train_chunk = we_train_vector_data[i*chunk_size : (i+1)*chunk_size,:].toarray()\n",
    "    target_chunk = train_data['Category'][i*chunk_size : (i+1)*chunk_size]\n",
    "    gnb_classifier.partial_fit(train_chunk, target_chunk, classes=np.unique(train_data['Category']))"
   ]
  },
  {
   "cell_type": "code",
   "execution_count": 22,
   "metadata": {
    "scrolled": false
   },
   "outputs": [
    {
     "name": "stdout",
     "output_type": "stream",
     "text": [
      "Gaussian Naive Bayes, porcentaje de aciertos en entrenamiento: 1.0\n",
      "Gaussian Naive Bayes, porcentaje de aciertos en test: 0.9093959731543624\n"
     ]
    }
   ],
   "source": [
    "# Creamos los arrays antes para ser más eficiente (crea el array grande y luego lo rellena)\n",
    "gnb_train_predictions=np.zeros_like(train_data['Category'])\n",
    "gnb_test_predictions=np.zeros_like(test_data['Category'])\n",
    "\n",
    "for i in range(0, (num_rows//chunk_size)):\n",
    "    train_chunk = we_train_vector_data[i*chunk_size : (i+1)*chunk_size,:].toarray()\n",
    "    gnb_train_predictions[i*chunk_size : (i+1)*chunk_size] = gnb_classifier.predict(train_chunk)\n",
    "    \n",
    "num_rows=len(test_data['Category'])\n",
    "for i in range(0, (num_rows//chunk_size)): #298/149 = 2\n",
    "    test_chunk = we_test_vector_data[i*chunk_size : (i+1)*chunk_size,:].toarray()\n",
    "    gnb_test_predictions[i*chunk_size : (i+1)*chunk_size] = gnb_classifier.predict(test_chunk)\n",
    "\n",
    "print(\"Gaussian Naive Bayes, porcentaje de aciertos en entrenamiento:\", np.mean(gnb_train_predictions == train_data['Category']))\n",
    "print(\"Gaussian Naive Bayes, porcentaje de aciertos en test:\", np.mean(gnb_test_predictions == test_data['Category']))"
   ]
  },
  {
   "cell_type": "code",
   "execution_count": 23,
   "metadata": {
    "scrolled": true
   },
   "outputs": [
    {
     "name": "stdout",
     "output_type": "stream",
     "text": [
      "               precision    recall  f1-score   support\n",
      "\n",
      "     business       0.94      0.92      0.93        72\n",
      "entertainment       0.90      0.88      0.89        60\n",
      "     politics       0.91      0.94      0.93        53\n",
      "        sport       0.98      0.90      0.94        62\n",
      "         tech       0.81      0.90      0.85        51\n",
      "\n",
      "     accuracy                           0.91       298\n",
      "    macro avg       0.91      0.91      0.91       298\n",
      " weighted avg       0.91      0.91      0.91       298\n",
      "\n"
     ]
    }
   ],
   "source": [
    "classifier=gnb_classifier\n",
    "predictions = gnb_test_predictions\n",
    "\n",
    "#con test_data['Category'].value_counts() se ve la cantidad de cada categoría para ordenarlos en target_names (es alfabético)\n",
    "print(classification_report(test_data['Category'], predictions, target_names=['business', 'entertainment', 'politics','sport', 'tech']))"
   ]
  },
  {
   "cell_type": "code",
   "execution_count": 24,
   "metadata": {},
   "outputs": [
    {
     "data": {
      "text/plain": [
       "(array([0.5, 1.5, 2.5, 3.5, 4.5]),\n",
       " [Text(0.5, 0, 'business'),\n",
       "  Text(1.5, 0, 'entertainment'),\n",
       "  Text(2.5, 0, 'politics'),\n",
       "  Text(3.5, 0, 'sport'),\n",
       "  Text(4.5, 0, 'tech')])"
      ]
     },
     "execution_count": 24,
     "metadata": {},
     "output_type": "execute_result"
    },
    {
     "data": {
      "image/png": "[encoded data removed]",
      "text/plain": [
       "<Figure size 1080x720 with 2 Axes>"
      ]
     },
     "metadata": {
      "needs_background": "light"
     },
     "output_type": "display_data"
    }
   ],
   "source": [
    "%matplotlib inline\n",
    "\n",
    "conf_matrix = confusion_matrix(test_data['Category'], predictions)\n",
    "conf_matrix_df = pd.DataFrame(conf_matrix, index=['business', 'entertainment', 'politics','sport', 'tech'],\n",
    "                              columns=['business', 'entertainment', 'politics','sport', 'tech'])\n",
    "\n",
    "plt.figure(figsize=(15, 10))\n",
    "sn.heatmap(conf_matrix_df, annot=True, vmin=0, vmax=conf_matrix.max(), fmt='d', cmap=\"YlGnBu\")\n",
    "plt.yticks(rotation=0)\n",
    "plt.xticks(rotation=90)"
   ]
  },
  {
   "cell_type": "markdown",
   "metadata": {},
   "source": [
    "Entrena otro clasificador kNN con la nueva vectorización y la configuración por defecto y analiza su error."
   ]
  },
  {
   "cell_type": "code",
   "execution_count": 25,
   "metadata": {
    "scrolled": true
   },
   "outputs": [
    {
     "name": "stdout",
     "output_type": "stream",
     "text": [
      "k-NN, porcentaje de aciertos en entrenamiento: 0.5914429530201343\n",
      "k-NN, porcentaje de aciertos en test: 0.47315436241610737\n"
     ]
    }
   ],
   "source": [
    "we_knn_classifier = neighbors.KNeighborsClassifier()\n",
    "we_knn_classifier.fit(we_train_vector_data, train_data['Category'])\n",
    "\n",
    "we_knn_train_predictions = we_knn_classifier.predict(we_train_vector_data)\n",
    "we_knn_test_predictions = we_knn_classifier.predict(we_test_vector_data)\n",
    "\n",
    "print(\"k-NN, porcentaje de aciertos en entrenamiento:\", np.mean(we_knn_train_predictions == train_data['Category']))\n",
    "print(\"k-NN, porcentaje de aciertos en test:\", np.mean(we_knn_test_predictions == test_data['Category']))"
   ]
  },
  {
   "cell_type": "code",
   "execution_count": 26,
   "metadata": {},
   "outputs": [
    {
     "name": "stdout",
     "output_type": "stream",
     "text": [
      "               precision    recall  f1-score   support\n",
      "\n",
      "     business       0.84      0.29      0.43        72\n",
      "entertainment       0.89      0.42      0.57        60\n",
      "     politics       1.00      0.42      0.59        53\n",
      "        sport       0.29      1.00      0.45        62\n",
      "         tech       1.00      0.22      0.35        51\n",
      "\n",
      "     accuracy                           0.47       298\n",
      "    macro avg       0.81      0.47      0.48       298\n",
      " weighted avg       0.79      0.47      0.48       298\n",
      "\n"
     ]
    }
   ],
   "source": [
    "classifier=we_knn_classifier\n",
    "predictions = we_knn_test_predictions\n",
    "\n",
    "#con test_data['Category'].value_counts() se ve la cantidad de cada categoría para ordenarlos en target_names (es alfabético)\n",
    "print(classification_report(test_data['Category'], predictions, target_names=['business', 'entertainment', 'politics','sport', 'tech']))"
   ]
  },
  {
   "cell_type": "code",
   "execution_count": 27,
   "metadata": {},
   "outputs": [
    {
     "data": {
      "text/plain": [
       "(array([0.5, 1.5, 2.5, 3.5, 4.5]),\n",
       " [Text(0.5, 0, 'business'),\n",
       "  Text(1.5, 0, 'entertainment'),\n",
       "  Text(2.5, 0, 'politics'),\n",
       "  Text(3.5, 0, 'sport'),\n",
       "  Text(4.5, 0, 'tech')])"
      ]
     },
     "execution_count": 27,
     "metadata": {},
     "output_type": "execute_result"
    },
    {
     "data": {
      "image/png": "[encoded data removed]",
      "text/plain": [
       "<Figure size 1080x720 with 2 Axes>"
      ]
     },
     "metadata": {
      "needs_background": "light"
     },
     "output_type": "display_data"
    }
   ],
   "source": [
    "%matplotlib inline\n",
    "\n",
    "conf_matrix = confusion_matrix(test_data['Category'], predictions)\n",
    "conf_matrix_df = pd.DataFrame(conf_matrix, index=['business', 'entertainment', 'politics','sport', 'tech'],\n",
    "                              columns=['business', 'entertainment', 'politics','sport', 'tech'])\n",
    "\n",
    "plt.figure(figsize=(15, 10))\n",
    "sn.heatmap(conf_matrix_df, annot=True, vmin=0, vmax=conf_matrix.max(), fmt='d', cmap=\"YlGnBu\")\n",
    "plt.yticks(rotation=0)\n",
    "plt.xticks(rotation=90)"
   ]
  },
  {
   "cell_type": "markdown",
   "metadata": {},
   "source": [
    "## 4) Análisis comparativo final\n",
    "\n",
    "Hemos entrenado dos clasificadores usando dos vectorizaciones diferentes de los datos. Compara la tasa de acierto de todos ellos y explica a qué crees que se deben las diferencias.\n"
   ]
  },
  {
   "cell_type": "markdown",
   "metadata": {},
   "source": []
  },
  {
   "cell_type": "markdown",
   "metadata": {},
   "source": [
    "Busca un mensaje mal clasificado por el Naive Bayes con vectorización de frecuencias y otro mal clasificado por el k-NN con Word-embeddings. Analiza los vectores de términos de dichos mensajes e intenta razonar por qué ha sido clasificado erróneamente.\n"
   ]
  },
  {
   "cell_type": "code",
   "execution_count": 34,
   "metadata": {},
   "outputs": [
    {
     "name": "stdout",
     "output_type": "stream",
     "text": [
      "35\n"
     ]
    }
   ],
   "source": [
    "for i in range(0, len(test_data['Text'].tolist())):\n",
    "    if test_data['Category'].tolist()[i] != mnb_test_predictions[i]:\n",
    "        print(i)\n",
    "        break"
   ]
  },
  {
   "cell_type": "code",
   "execution_count": 35,
   "metadata": {},
   "outputs": [
    {
     "name": "stdout",
     "output_type": "stream",
     "text": [
      "Mensaje 35 : mcdonald s boss bell dies aged 44 charlie bell  the straight-talking former head of fast-food giant mcdonald s  has died of cancer aged 44.  mr bell was diagnosed with colorectal cancer in may last year  a month after taking over the top job. he resigned in november to fight the illness. joining the company as a 15-year-old part-time worker  mr bell quickly moved through its ranks  becoming australia s youngest store manager at 19. a popular go-getter  he is credited with helping revive mcdonald s sales. mr bell leaves a wife and daughter.  as we mourn his passing  i ask you to keep charlie s family in your hearts and prayers   chief executive james skinner said in a statement.  and remember that in his abbreviated time on this earth  charlie lived life to the fullest.   no matter what cards life dealt  charlie stayed centred on his love for his family and for mcdonald s.   after running the company s australian business in the 1990s  mr bell moved to the us in 1999 to run operations in asia  africa and the middle east. in 2001  he took over the reins in europe  mcdonald s second most important market. he became chief operating officer and president in 2002. mr bell took over as chief executive after his predecessor as ceo  jim cantalupo  died suddenly of a heart attack in april. having worked closely with mr cantalupo  who came out of retirement to turn mcdonald s around  mr bell focused on boosting demand at existing restaurants rather than follow a policy of rapid expansion. he had promised not to let the company get  fat  dumb and happy   and  according to reuters  once told analysts that he would shove a fire hose down the throat of competitors if he saw them drowning. mr bell oversaw mcdonald s  i m lovin  it  advertising campaign and introduced successes such as mccafe  now the biggest coffee shop brand in australia and new zealand. colleagues said that mr bell was proud of his humble beginnings  helping out behind cash tills and clearing tables when visiting restaurants.\n",
      "Mensaje 35 vectorizado: ['according' 'advertising' 'africa' 'aged' 'analysts' 'april' 'asia' 'ask'\n",
      " 'attack' 'australia' 'australian' 'beginnings' 'bell' 'biggest'\n",
      " 'boosting' 'boss' 'brand' 'business' 'came' 'campaign' 'cancer' 'cards'\n",
      " 'cash' 'centred' 'ceo' 'charlie' 'chief' 'clearing' 'closely' 'coffee'\n",
      " 'colleagues' 'company' 'competitors' 'credited' 'daughter' 'dealt'\n",
      " 'demand' 'diagnosed' 'died' 'dies' 'drowning' 'dumb' 'earth' 'east'\n",
      " 'europe' 'executive' 'existing' 'expansion' 'family' 'fast' 'fat' 'fight'\n",
      " 'focused' 'follow' 'food' 'fullest' 'giant' 'happy' 'having' 'head'\n",
      " 'heart' 'hearts' 'helping' 'humble' 'illness' 'important' 'introduced'\n",
      " 'james' 'jim' 'job' 'joining' 'leaves' 'let' 'life' 'lived' 'love' 'm'\n",
      " 'manager' 'market' 'matter' 'mcdonald' 'middle' 'month' 'moved' 'mr'\n",
      " 'new' 'november' 'officer' 'old' 'operating' 'operations' 'oversaw'\n",
      " 'passing' 'policy' 'popular' 'predecessor' 'president' 'promised' 'proud'\n",
      " 'quickly' 'ranks' 'rapid' 'remember' 'resigned' 'restaurants'\n",
      " 'retirement' 'reuters' 'revive' 'run' 'running' 's' 'said' 'sales' 'saw'\n",
      " 'second' 'shop' 'shove' 'skinner' 'statement' 'stayed' 'store' 'straight'\n",
      " 'successes' 'suddenly' 'taking' 'talking' 'throat' 'tills' 'time' 'told'\n",
      " 'took' 'turn' 'visiting' 'wife' 'worked' 'worker' 'year' 'youngest'\n",
      " 'zealand'] \n",
      "\n",
      "Categoria real: business\n",
      "Categoria predicha por Naive Bayes: entertainment\n"
     ]
    }
   ],
   "source": [
    "write_terms(feature_names, test_data['Text'].tolist(), test_vector_data,35)\n",
    "\n",
    "print('Categoria real:', test_data['Category'].tolist()[35])\n",
    "print('Categoria predicha por Naive Bayes:', mnb_test_predictions[35])"
   ]
  },
  {
   "cell_type": "code",
   "execution_count": 31,
   "metadata": {},
   "outputs": [
    {
     "name": "stdout",
     "output_type": "stream",
     "text": [
      "Mensaje 0 : boris opposes mayor apology ken livingstone should  stick to his guns  and not apologise for his  nazi  comment to a jewish reporter  tory mp boris johnson has insisted.  mr johnson also claimed tony blair s intervention in the row was  an attempt to reassure jewish voters . london mayor mr livingstone says he is  standing by  his remarks which likened an evening standard journalist to a  concentration camp guard . but the prime minister says it is time for mr livingstone to say sorry.  labour s mr livingstone has said his comments may have been offensive but were not racist  and said earlier this week he would not apologise even if mr blair asked. later the prime minister said:  a lot of us in politics get angry with journalists from time to time  but in the circumstances  and to the journalist because he was a jewish journalist  yes  he should apologise.   however  mr johnson  who was forced to apologise last year for an article in the magazine he edits about liverpudlians grieving over the death of british hostage ken bigley  said mr blair  should butt out of  the row.  i don t see why the prime minister has to get involved in this   the spectator editor told bbc radio 4 s today programme.  it s a dispute between ken livingstone and a reporter on the evening standard.  mr johnson  mp for henley-on-thames  oxfordshire  said he suspected labour was now trying to reassure jewish voters  because of this curious way in which labour seems to be trying to curry favour with disillusioned muslim voters who may be disillusioned about the war .   ken doesn t think he s got anything to say sorry for and if that s really his feeling  then i think that he should stick to his guns   he said. mr johnson apologised last october for perpetuating an  outdated stereotype  of liverpool in the leader article on the death of mr bigley. the article in the magazine suggested grieving liverpudlians were wallowing in their victim status. it also attributed blame to drunken liverpool football fans for the 1989 hillsborough disaster in which 96 died. mr johnson told today:  it s perfectly true that i got into the grovelling game myself and when i apologised there were some things that i felt i ought to say sorry for ... there were also other things i didn t think i should apologise for   he said.  but here s old ken - he s been crass  he s been insensitive and thuggish and brutal in his language - but i don t think actually if you read what he said  although it was extraordinary and rude  i don t think he was actually anti-semitic.\n",
      "Mensaje 0 vectorizado: ['actually' 'angry' 'apology' 'apologise' 'apologised' 'article' 'asked'\n",
      " 'attempt' 'attributed' 'blame' 'brutal' 'circumstances' 'claimed'\n",
      " 'comment' 'comments' 'concentration' 'crass' 'curious' 'didn' 'died'\n",
      " 'disaster' 'disillusioned' 'dispute' 'doesn' 'drunken' 'earlier' 'editor'\n",
      " 'edits' 'evening' 'extraordinary' 'fans' 'favour' 'feeling' 'football'\n",
      " 'forced' 'game' 'got' 'grieving' 'grovelling' 'guard' 'guns' 'hostage'\n",
      " 'year' 'yes' 'insensitive' 'insisted' 'intervention' 'involved'\n",
      " 'journalist' 'journalists' 'labour' 'language' 'later' 'leader' 'likened'\n",
      " 'magazine' 'minister' 'offensive' 'opposes' 'ought' 'outdated'\n",
      " 'perfectly' 'perpetuating' 'politics' 'prime' 'programme' 'racist'\n",
      " 'really' 'reassure' 'remarks' 'reporter' 's' 'said' 'says' 'sorry'\n",
      " 'standard' 'status' 'stereotype' 'stick' 'suggested' 'suspected' 'things'\n",
      " 'think' 'thuggish' 'today' 'told' 'trying' 'true' 'victim' 'voters' 'way'\n",
      " 'wallowing' 'week'] \n",
      "\n",
      "Categoria real: politics\n",
      "Categoria predicha por k-NN: sport\n"
     ]
    }
   ],
   "source": [
    "write_terms(we_feature_names, test_data['Text'].tolist(), we_test_vector_data, 0)\n",
    "\n",
    "print('Categoria real:', test_data['Category'].tolist()[0])\n",
    "print('Categoria predicha por k-NN:', we_knn_test_predictions[0])"
   ]
  },
  {
   "cell_type": "markdown",
   "metadata": {},
   "source": [
    "Para el Naive Bayes con vectorización de frecuencias, elige dos clases donde el clasificador no haya funcionado bien y analiza las palabras más relevantes para clasificar una noticia como de dichas clases. Razona si lo que ves crees que influye en la posible confusión a la hora de clasificar entre dichas clases."
   ]
  },
  {
   "cell_type": "code",
   "execution_count": null,
   "metadata": {},
   "outputs": [],
   "source": []
  }
 ],
 "metadata": {
  "kernelspec": {
   "display_name": "Python 3",
   "language": "python",
   "name": "python3"
  },
  "language_info": {
   "codemirror_mode": {
    "name": "ipython",
    "version": 3
   },
   "file_extension": ".py",
   "mimetype": "text/x-python",
   "name": "python",
   "nbconvert_exporter": "python",
   "pygments_lexer": "ipython3",
   "version": "3.7.11"
  }
 },
 "nbformat": 4,
 "nbformat_minor": 2
}
