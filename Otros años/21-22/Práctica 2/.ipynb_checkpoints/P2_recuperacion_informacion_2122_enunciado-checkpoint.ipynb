{
 "cells": [
  {
   "cell_type": "markdown",
   "metadata": {
    "id": "jpd0gkGnpzXT"
   },
   "source": [
    "# Práctica 2: Procesamiento del Lenguaje Natural\n",
    "\n",
    "__Fecha de entrega: 17 de abril de 2022__\n",
    "\n",
    "El objetivo de esta práctica es aplicar los conceptos teóricos vistos en clase en el módulo de PLN. La práctica consta de 2 notebooks que se entregarán simultáneamente en la tarea de entrega habilitada en el Campus  Virtual.\n",
    "\n",
    "Lo más importante en esta práctica no es el código Python, sino el análisis de los datos y modelos que construyas y las explicaciones razonadas de cada una de las decisiones que tomes. __No se valorarán trozos de código o gráficas sin ningún tipo de contexto o explicación__.\n",
    "\n",
    "Finalmente, recuerda establecer el parámetro `random_state` en todas las funciones que tomen decisiones aleatorias para que los resultados sean reproducibles (los resultados no varíen entre ejecuciones)."
   ]
  },
  {
   "cell_type": "code",
   "execution_count": 3,
   "metadata": {
    "id": "IBx1oG6bpzXY"
   },
   "outputs": [],
   "source": [
    "RANDOM_STATE = 133"
   ]
  },
  {
   "cell_type": "markdown",
   "metadata": {
    "id": "TkJPtLPRpzXa"
   },
   "source": [
    "# Apartado 2: Recuperación de información"
   ]
  },
  {
   "cell_type": "markdown",
   "metadata": {
    "id": "RWQ9sB-ApzXc"
   },
   "source": [
    "__Número de grupo: XX__\n",
    "\n",
    "__Nombres de los estudiantes: XXX y XXX__"
   ]
  },
  {
   "cell_type": "markdown",
   "metadata": {
    "id": "W1iFIS_EpzXc"
   },
   "source": [
    "## 1) Carga del conjunto de datos\n",
    "\n",
    "El fichero `BBC News.csv` contiene noticias clasificadas en 5 categorías diferentes. \n",
    "\n",
    "Carga los datos en un dataframe teniendo en cuenta que la columna `ArticleId` es un identificador de la noticia y por lo tanto no lo vamos a usar. \n",
    "\n",
    "Estudia el tamaño del conjunto de datos y la proporción de noticias que pertenecen a cada una de las categorías.\n",
    "\n",
    "Crea una partición estratificada de los datos dejando el 80% para entrenamiento y el 20% restante para test usando la función `train_test_split` de sklearn. "
   ]
  },
  {
   "cell_type": "code",
   "execution_count": 4,
   "metadata": {
    "id": "ufbBvGcnpzXe"
   },
   "outputs": [],
   "source": [
    "import pandas as pd\n",
    "import numpy as np\n",
    "\n",
    "file = 'BBC News.csv'\n",
    "csv = pd.read_csv(file, sep=',')\n",
    "df = pd.DataFrame(csv, columns = ['Text','Category']) #importar csv sin ArticleId"
   ]
  },
  {
   "cell_type": "code",
   "execution_count": 5,
   "metadata": {},
   "outputs": [
    {
     "data": {
      "text/plain": [
       "sport            346\n",
       "business         336\n",
       "politics         274\n",
       "entertainment    273\n",
       "tech             261\n",
       "Name: Category, dtype: int64"
      ]
     },
     "execution_count": 5,
     "metadata": {},
     "output_type": "execute_result"
    }
   ],
   "source": [
    "# Estudia el tamaño del conjunto de datos y la proporción de noticias que pertenecen a cada una de las categorías.\n",
    "#------------------------------------------------------------------------------\n",
    "\n",
    "df['Category'].value_counts() #contar veces que aparece cada valor "
   ]
  },
  {
   "cell_type": "code",
   "execution_count": 6,
   "metadata": {},
   "outputs": [
    {
     "name": "stdout",
     "output_type": "stream",
     "text": [
      "                                                   Text  Category\n",
      "0     warning over us pensions deficit taxpayers may...  business\n",
      "1     collins calls for chambers return world 100m c...     sport\n",
      "2     safety alert as gm recalls cars the world s bi...  business\n",
      "3     jp morgan admits us slavery links thousands of...  business\n",
      "4     clarke to press on with id cards new home secr...  politics\n",
      "...                                                 ...       ...\n",
      "1187  us in eu tariff chaos trade row the us has ask...  business\n",
      "1188  benitez  to launch morientes bid  liverpool ma...     sport\n",
      "1189  progress on new internet domains by early 2005...      tech\n",
      "1190  mauresmo opens with victory in la amelie maure...     sport\n",
      "1191  henman decides to quit davis cup tim henman ha...     sport\n",
      "\n",
      "[1192 rows x 2 columns]\n",
      "                                                  Text       Category\n",
      "0    boris opposes mayor apology ken livingstone sh...       politics\n",
      "1    wenger signs new deal arsenal manager arsene w...          sport\n",
      "2    telewest to challenge sky plus cable firm tele...           tech\n",
      "3    concern over rfid tags consumers are very conc...           tech\n",
      "4    mobiles  not media players yet  mobiles are no...           tech\n",
      "..                                                 ...            ...\n",
      "293  nintendo adds media playing to ds nintendo is ...           tech\n",
      "294  will tory tax cuts lift spirits  michael howar...       politics\n",
      "295  yachvili savours france comeback france scrum-...          sport\n",
      "296  police praise  courageous  ozzy rock star ozzy...  entertainment\n",
      "297  iran budget seeks state sell-offs iran s presi...       business\n",
      "\n",
      "[298 rows x 2 columns]\n"
     ]
    }
   ],
   "source": [
    "# Crea una partición estratificada de los datos dejando el 80% para entrenamiento y el 20% restante para test\n",
    "# usando la función `train_test_split` de sklearn. \n",
    "#------------------------------------------------------------------------------\n",
    "\n",
    "from sklearn.model_selection import train_test_split\n",
    "\n",
    "train_data, test_data = train_test_split(df, test_size=0.2,random_state=RANDOM_STATE) #mezclo y cojo el 20% para prueba\n",
    "\n",
    "#Como los indices no se corresponden a la posicion de la lista y sufrimos el riesgo de acceder\n",
    "#a una posicion vacía, los reajustamos con un dataframe nuevo\n",
    "\n",
    "aux = {'Text': train_data.Text.tolist(), \n",
    "        'Category': train_data.Category.tolist()}\n",
    "train_data = pd.DataFrame(aux, columns=['Text', 'Category'])\n",
    "\n",
    "aux = {'Text': test_data.Text.tolist(),\n",
    "        'Category': test_data.Category.tolist()}\n",
    "test_data = pd.DataFrame(aux, columns=['Text', 'Category'])\n",
    "\n",
    "print(train_data) #entrenamiento\n",
    "print(test_data) #prueba"
   ]
  },
  {
   "cell_type": "markdown",
   "metadata": {
    "id": "3Fx5hJC7pzXf"
   },
   "source": [
    "## 2) Representación basada en bolsa de palabras y tf-idf\n",
    "\n",
    "La primera vectorización que vamos a usar representará los mensajes usando el modelo de bolsa de palabras, monogramas y el valor tf-idf de cada palabra. Usa como _stop words_ las que vienen configuradas por defecto para el inglés.\n",
    "\n",
    "Aplica la vectorización a los conjuntos de mensajes de entrenamiento y test. Muestra algún mensaje tanto en su formato de texto original como en la versión vectorizada. ¿Qué palabras se han eliminado y por qué?"
   ]
  },
  {
   "cell_type": "code",
   "execution_count": 7,
   "metadata": {
    "id": "wKdL2-VSpzXg"
   },
   "outputs": [],
   "source": [
    "from sklearn.feature_extraction.text import CountVectorizer\n",
    "   \n",
    "vectorizer = CountVectorizer(stop_words='english', binary=False, ngram_range=(1,1), token_pattern=r'(?u)\\b[A-Za-z]+\\b') \n",
    "\n",
    "# Tomamos los textos del conjunto de entrenamiento y los transformamos en \n",
    "# una matriz de datos (palabras) según el diccionario estándar\n",
    "train_vector_data=vectorizer.fit_transform(train_data.Text)\n",
    "\n",
    "# Tomamos los textos del conjunto de test y los transformamos en una matriz\n",
    "# de palabras. Al usar \"transform\" toma como referencia únicamente las palabras\n",
    "# encontradas en el conjunto de entrenamiento\n",
    "test_vector_data=vectorizer.transform(test_data.Text)\n",
    "\n",
    "feature_names = vectorizer.get_feature_names()"
   ]
  },
  {
   "cell_type": "code",
   "execution_count": 8,
   "metadata": {},
   "outputs": [],
   "source": [
    "from sklearn.feature_extraction.text import TfidfTransformer \n",
    "\n",
    "tfidftrans = TfidfTransformer()\n",
    "\n",
    "train_preprocessed = tfidftrans.fit_transform(train_vector_data)\n",
    "test_preprocessed = tfidftrans.transform(test_vector_data)"
   ]
  },
  {
   "cell_type": "code",
   "execution_count": 9,
   "metadata": {},
   "outputs": [],
   "source": [
    "import numpy as np\n",
    "import numpy.ma as ma\n",
    "\n",
    "def write_terms (feature_names, data, vector_data, index):\n",
    "    '''\n",
    "    Escribe los términos presentes en un mensaje representado como bolsa de palabras.\n",
    "    \n",
    "    - feature_names: terminos usados para vectorizar\n",
    "    - data: lista de mensajes original (si data==None no se muestra el mensaje original)\n",
    "    - vector_data: matriz (dispersa) de mensaje vectorizados\n",
    "    - index: posición del mensaje a mostrar\n",
    "    '''\n",
    "    # máscara para seleccionar sólo el mensaje en posición index\n",
    "    mask=vector_data[index,:]>0\n",
    "    \n",
    "    # términos que aparecen en ese mensaje vectorizado\n",
    "    terminos = ma.array(feature_names, mask = ~(mask[0].toarray()))\n",
    "    \n",
    "    # mostrar mensaje original\n",
    "    if data is not None:\n",
    "        print('Mensaje', index, ':', data[index])\n",
    "    \n",
    "    # mostrar términos que aparecen en el mensaje vectorizado\n",
    "    print('Mensaje', index, 'vectorizado:', terminos.compressed(),'\\n')"
   ]
  },
  {
   "cell_type": "code",
   "execution_count": 10,
   "metadata": {},
   "outputs": [
    {
     "name": "stdout",
     "output_type": "stream",
     "text": [
      "Mensaje 0 : warning over us pensions deficit taxpayers may have to bail out the us agency that protects workers  pension funds  leading economists have warned.  with the pension benefit guaranty corporation (pbgc) some £23bn (£12m) in deficit  the financial economists roundtable (fer) wants congress to act. instead of taxpayers having to pick up the bill  the fer wants congressmen to change the pbgc s funding rules. the fer says firms should not have been allowed to reduce the insurance premiums they pay into the pbgc fund. the fer blames this on a 2004 law  in a statement signed by several members  who include nobel economics laureate william sharpe. it said it was  dismayed  at the situation and wants congress to overturn the legislation.  cash-strapped us companies  including those in the airline  car-making and steel industries  had argued in favour of the 2004 rule change  claiming that funding the insurance premiums adequately would force them to have to cut jobs.  with a little firmer hand on the pensions issues in the us  i think that congress could avoid having to turn to the taxpayer and instead turn the obligations back onto the companies that deserve to pay them   said professor dennis logue  dean of price college of business at the university of oklahoma. the pbgc was founded in 1974 to protect workers  retirement rights. its most recent action came last week when it took control of the pilots  pension scheme at united airlines. with united battling bankruptcy  the carrier had wanted to use the money set aside for pensions to finance running costs. the company has an estimated $2.9bn hole in its pilots  pension scheme  which the pbgc will now guarantee.\n",
      "Mensaje 0 vectorizado: ['act' 'action' 'adequately' 'agency' 'airline' 'airlines' 'allowed'\n",
      " 'argued' 'aside' 'avoid' 'bail' 'bankruptcy' 'battling' 'benefit'\n",
      " 'blames' 'business' 'came' 'car' 'carrier' 'cash' 'change' 'claiming'\n",
      " 'college' 'companies' 'company' 'congress' 'congressmen' 'control'\n",
      " 'corporation' 'costs' 'cut' 'dean' 'deficit' 'dennis' 'deserve'\n",
      " 'dismayed' 'economics' 'economists' 'estimated' 'favour' 'fer' 'finance'\n",
      " 'financial' 'firmer' 'firms' 'force' 'founded' 'fund' 'funding' 'funds'\n",
      " 'guarantee' 'guaranty' 'hand' 'having' 'hole' 'include' 'including'\n",
      " 'industries' 'instead' 'insurance' 'issues' 'jobs' 'laureate' 'law'\n",
      " 'leading' 'legislation' 'little' 'logue' 'making' 'members' 'money'\n",
      " 'nobel' 'obligations' 'oklahoma' 'overturn' 'pay' 'pbgc' 'pension'\n",
      " 'pensions' 'pick' 'pilots' 'premiums' 'price' 'professor' 'protect'\n",
      " 'protects' 'recent' 'reduce' 'retirement' 'rights' 'roundtable' 'rule'\n",
      " 'rules' 'running' 's' 'said' 'says' 'scheme' 'set' 'sharpe' 'signed'\n",
      " 'situation' 'statement' 'steel' 'strapped' 'taxpayer' 'taxpayers' 'think'\n",
      " 'took' 'turn' 'united' 'university' 'use' 'wanted' 'wants' 'warned'\n",
      " 'warning' 'week' 'william' 'workers'] \n",
      "\n"
     ]
    }
   ],
   "source": [
    "# Muestra algún mensaje tanto en su formato de texto original como en la versión vectorizada. ¿Qué palabras se han eliminado y por qué?\n",
    "#------------------------------------------------------------------------------\n",
    "\n",
    "write_terms(feature_names, train_data['Text'], train_preprocessed, 0)"
   ]
  },
  {
   "cell_type": "code",
   "execution_count": 12,
   "metadata": {},
   "outputs": [],
   "source": [
    "# Calcula la precisión@5 de cada una de las clases usando como consultas los documentos de la partición de test y la similitud del coseno.\n",
    "# Vamos a considerar que un documento recuperado es relevante cuando pertenezca a la misma clase que la consulta.\n",
    "#------------------------------------------------------------------------------\n",
    "\n",
    "from sklearn.metrics.pairwise import cosine_similarity\n",
    "\n",
    "def knn(query, X_train, k):\n",
    "    '''Devuelve los índices de los k documentos de entrenamiento más similares a la consulta usando \n",
    "    la similitud del coseno.\n",
    "    \n",
    "    Parámetros:\n",
    "    - query: documento consulta vectorizado\n",
    "    - X_train: documentos de entrenamiento vectorizados\n",
    "    - k: número de documentos a recuperar\n",
    "    \n",
    "    Devuelve:\n",
    "    - índices de los k documentos más similares a la consulta.\n",
    "    '''\n",
    "    \n",
    "    # Necesitamos un vector de dimensión (1, X). Si se pasa un vector de dimensión X, transformarlo\n",
    "    if len(query.shape) == 1:\n",
    "        query = query.reshape(1, -1)\n",
    "\n",
    "    simil = cosine_similarity(query, X_train)\n",
    "    simil_idx = np.argsort(simil.flatten())\n",
    "    simil_idx = simil_idx[::-1]\n",
    "    return simil_idx[:k]"
   ]
  },
  {
   "cell_type": "code",
   "execution_count": 13,
   "metadata": {},
   "outputs": [],
   "source": [
    "def precision_at_k(y_selected, y_real, k):\n",
    "    '''Devuelve la precisión @k de los documentos seleccionados.\n",
    "    \n",
    "    Parametros:\n",
    "    - y_selected: etiquetas de los documentos seleccionados (se usan los k primeros)\n",
    "    - y_real: etiqueta de la categoría correcta\n",
    "    - k: número de documentos que se tienen en cuenta\n",
    "    \n",
    "    Devuelve:\n",
    "    - Precisión@k\n",
    "    '''\n",
    "    \n",
    "    return np.sum(y_selected[:k] == y_real) / k * 100"
   ]
  },
  {
   "cell_type": "code",
   "execution_count": 14,
   "metadata": {},
   "outputs": [],
   "source": [
    "def mean_precisions_per_class(X_train, y_train, X_test, y_test, k):\n",
    "    '''Devuelve las precision@k media para cada una de las classes.\n",
    "    \n",
    "    Parámetros:\n",
    "    - X_train: documentos de entrenamiento vectorizados.\n",
    "    - y_train: etiquetas de los documentos de entrenamiento.\n",
    "    - X_test: documentos vectorizados que se usan como consultas\n",
    "    - y_test: etiquetas de los documentos que se usan como consultas\n",
    "    - k: número de documentos considerados a recuperar por la consulta\n",
    "    \n",
    "    Devuelve:\n",
    "    - Diccionario clase -> precisión en tanto por ciento.\n",
    "    '''\n",
    "    \n",
    "    # diccionario categoría -> lista de precisiones\n",
    "    y_precisions = {y: [] for y in np.unique(y_test)}\n",
    "    \n",
    "    # Calcular precision@k para cada consulta\n",
    "    for x_query, y_query in zip(X_test, y_test):\n",
    "        idx = knn(x_query, X_train, k)\n",
    "        y_selected = np.take(y_train, idx)\n",
    "        precision = precision_at_k(y_selected, y_query, k)\n",
    "        y_precisions[y_query].append(precision)\n",
    "        \n",
    "    # Calcular medias\n",
    "    for y in y_precisions:\n",
    "        y_precisions[y] = np.mean(y_precisions[y])\n",
    "    \n",
    "    return y_precisions"
   ]
  },
  {
   "cell_type": "code",
   "execution_count": 16,
   "metadata": {},
   "outputs": [
    {
     "data": {
      "text/plain": [
       "{'business': 83.88888888888889,\n",
       " 'entertainment': 78.33333333333333,\n",
       " 'politics': 87.9245283018868,\n",
       " 'sport': 97.74193548387096,\n",
       " 'tech': 87.84313725490196}"
      ]
     },
     "execution_count": 16,
     "metadata": {},
     "output_type": "execute_result"
    }
   ],
   "source": [
    "p5 = mean_precisions_per_class(train_preprocessed, train_data['Category'], test_preprocessed, test_data['Category'], 5)\n",
    "    \n",
    "p5"
   ]
  },
  {
   "cell_type": "code",
   "execution_count": 20,
   "metadata": {},
   "outputs": [
    {
     "data": {
      "text/plain": [
       "<AxesSubplot:xlabel='target'>"
      ]
     },
     "execution_count": 20,
     "metadata": {},
     "output_type": "execute_result"
    },
    {
     "data": {
      "image/png": "[encoded data removed]",
      "text/plain": [
       "<Figure size 432x288 with 1 Axes>"
      ]
     },
     "metadata": {
      "needs_background": "light"
     },
     "output_type": "display_data"
    }
   ],
   "source": [
    "# Dibuja los resultados en un diagrama de barras y comenta las clases en las que se comporta mejor y peor.\n",
    "# ¿Crees que los resultados son buenos?\n",
    "#------------------------------------------------------------------------------\n",
    "\n",
    "import pandas as pd\n",
    "\n",
    "df_p5 = pd.DataFrame.from_dict(p5, orient='index', columns=['precision@5'])\n",
    "\n",
    "df_p5[\"target\"] = ['business', 'entertainment', 'politics','sport', 'tech']\n",
    "\n",
    "d = df_p5.set_index(\"target\")\n",
    "\n",
    "d.plot.bar()"
   ]
  },
  {
   "cell_type": "markdown",
   "metadata": {},
   "source": [
    "EXPLICAR MOVIDAS"
   ]
  },
  {
   "cell_type": "markdown",
   "metadata": {
    "id": "lH7sldldpzXi"
   },
   "source": [
    "## 3) Representación basada en word-embeddings y tf-idf\n",
    "\n",
    "La segunda vectorización que vamos a usar representará los mensajes usando usando word-embeddings usando como los pesos tf-idf de cada palabra. Al igual que en el apartado anterior, usaremos monogramas y las _stop words_ que vienen configuradas por defecto para el inglés. Recuerda usar como vocabulario para vectorizar el vocabulario del fichero con las word-embeddings.\n",
    "\n",
    "Aplica la vectorización a los conjuntos de mensajes de entrenamiento y test.\n"
   ]
  },
  {
   "cell_type": "code",
   "execution_count": 21,
   "metadata": {},
   "outputs": [],
   "source": [
    "from gensim.scripts.glove2word2vec import glove2word2vec\n",
    "from gensim.models import KeyedVectors\n",
    "\n",
    "# Traducimos el fichero glove a un fichero con formato word2vec\n",
    "glove_file = 'words.txt'\n",
    "\n",
    "# Gensim 4 puede transformar de glove a word2vec directamente\n",
    "we_model = KeyedVectors.load_word2vec_format(glove_file, binary=False, no_header=True)"
   ]
  },
  {
   "cell_type": "code",
   "execution_count": 22,
   "metadata": {},
   "outputs": [],
   "source": [
    "from sklearn.feature_extraction.text import CountVectorizer\n",
    "from sklearn.feature_extraction.text import TfidfTransformer\n",
    "\n",
    "# En Gensim 4 se pueden obtener de la siguiente manera\n",
    "# we_vocabulary = sorted(model.key_to_index.keys(), key=lambda word: model.get_vecattr(word, \"count\"), reverse=True)\n",
    "we_vocabulary = list(we_model.key_to_index.keys())\n",
    "\n",
    "we_vectorizer = CountVectorizer(vocabulary = we_vocabulary, stop_words='english', binary=False,ngram_range=(1,1), token_pattern=r'(?u)\\b[A-Za-z]+\\b')\n",
    "\n",
    "we_train_vector_data = we_vectorizer.fit_transform(train_data.Text)\n",
    "\n",
    "# Tomamos los textos del conjunto de test y los transformamos en una matriz\n",
    "# de palabras. Al usar \"transform\" toma como referencia únicamente las palabras\n",
    "# encontradas en el conjunto de entrenamiento\n",
    "we_test_vector_data=we_vectorizer.transform(test_data.Text)\n",
    "\n",
    "we_feature_names = we_vectorizer.get_feature_names()"
   ]
  },
  {
   "cell_type": "code",
   "execution_count": 23,
   "metadata": {},
   "outputs": [],
   "source": [
    "we_tfidftrans = TfidfTransformer()\n",
    "\n",
    "we_train_preprocessed = we_tfidftrans.fit_transform(we_train_vector_data)\n",
    "we_test_preprocessed = we_tfidftrans.transform(we_test_vector_data)"
   ]
  },
  {
   "cell_type": "markdown",
   "metadata": {},
   "source": [
    "Calcula la precisión@5 de cada una de las clases usando como consultas los documentos de la partición de test y la similitud del coseno. Vamos a considerar que un documento recuperado es relevante cuando pertenezca a la misma clase que la consulta.\n",
    "\n",
    "Dibuja los resultados en un diagrama de barras y compara los resultados con los del apartado anterior."
   ]
  },
  {
   "cell_type": "code",
   "execution_count": 24,
   "metadata": {},
   "outputs": [
    {
     "data": {
      "text/plain": [
       "{'business': 87.77777777777777,\n",
       " 'entertainment': 81.66666666666667,\n",
       " 'politics': 85.66037735849056,\n",
       " 'sport': 96.7741935483871,\n",
       " 'tech': 84.70588235294117}"
      ]
     },
     "execution_count": 24,
     "metadata": {},
     "output_type": "execute_result"
    }
   ],
   "source": [
    "p5 = mean_precisions_per_class(we_train_preprocessed, train_data['Category'], we_test_preprocessed, test_data['Category'], 5)\n",
    "    \n",
    "p5"
   ]
  },
  {
   "cell_type": "code",
   "execution_count": 25,
   "metadata": {},
   "outputs": [
    {
     "data": {
      "text/plain": [
       "<AxesSubplot:xlabel='target'>"
      ]
     },
     "execution_count": 25,
     "metadata": {},
     "output_type": "execute_result"
    },
    {
     "data": {
      "image/png": "[encoded data removed]",
      "text/plain": [
       "<Figure size 432x288 with 1 Axes>"
      ]
     },
     "metadata": {
      "needs_background": "light"
     },
     "output_type": "display_data"
    }
   ],
   "source": [
    "df_p5 = pd.DataFrame.from_dict(p5, orient='index', columns=['precision@5'])\n",
    "\n",
    "df_p5[\"target\"] = ['business', 'entertainment', 'politics','sport', 'tech']\n",
    "\n",
    "d = df_p5.set_index(\"target\")\n",
    "\n",
    "d.plot.bar()"
   ]
  },
  {
   "cell_type": "markdown",
   "metadata": {
    "id": "d-J6GYut4DGu"
   },
   "source": [
    "## 4) Análisis de errores\n",
    "\n",
    "Vamos a investigar los resultados para entender mejor dónde están fallando los procesos de recuperación. Sigue los siguientes pasos.\n",
    "\n",
    "\n",
    "1. Identifica la categoría de noticias donde la precisión media haya mejorado más al incorporar word-embeddings\n",
    "2. Para dicha categoría, identifica la consulta donde la precisión haya mejorado más al usar word-embeddings\n",
    "3. Muestra el texto original de la consulta y los términos que aparecen en las dos vectorizaciones tf-idf que usamos (recuerda que usamos diccionarios distintos para las vectorizaciones bolsa de palabras y word-embeddings).\n",
    "4. Identifica las noticias recuperadas para dicha consulta para las dos aproximaciones y sus categorías (TF-IDF puro y con word-embeddings)\n",
    "5. Muestra la intersección de términos entre la consulta y la primera noticia mal recuperada usando TF-IDF puro.\n",
    "6. Muestra la intersección de términos entre la consulta y la última noticia bien recuperada usando word-embeddings.\n",
    "7. A la luz de todo lo anterior, razona sobre por qué crees que el TF-IDF no fue capaz de clasificar bien la noticia y el word-embedding sí.\n",
    "\n",
    "\n",
    "Puedes usar el código que calcula la intersección de términos que ponemos a continuación"
   ]
  },
  {
   "cell_type": "code",
   "execution_count": 98,
   "metadata": {},
   "outputs": [],
   "source": [
    "def precisions_per_class(X_train, y_train, X_test, y_test, k):\n",
    "    '''Devuelve las precision@k para cada una de las classes.\n",
    "    \n",
    "    Parámetros:\n",
    "    - X_train: documentos de entrenamiento vectorizados.\n",
    "    - y_train: etiquetas de los documentos de entrenamiento.\n",
    "    - X_test: documentos vectorizados que se usan como consultas\n",
    "    - y_test: etiquetas de los documentos que se usan como consultas\n",
    "    - k: número de documentos considerados a recuperar por la consulta\n",
    "    \n",
    "    Devuelve:\n",
    "    - Diccionario clase -> [[indice noticia,precision]].\n",
    "    '''\n",
    "    \n",
    "    # diccionario categoría -> lista de precisiones\n",
    "    y_precisions = {y: [] for y in np.unique(y_test)}\n",
    "    \n",
    "    index = 0 #contamos las noticias para obtener los indices\n",
    "    \n",
    "    # Calcular precision@k para cada consulta\n",
    "    for x_query, y_query in zip(X_test, y_test):\n",
    "        idx = knn(x_query, X_train, k)\n",
    "        y_selected = np.take(y_train, idx)\n",
    "        precision = [index,precision_at_k(y_selected, y_query, k)] \n",
    "        y_precisions[y_query].append(precision)\n",
    "        index+=1\n",
    "    \n",
    "    return y_precisions"
   ]
  },
  {
   "cell_type": "code",
   "execution_count": 99,
   "metadata": {},
   "outputs": [
    {
     "name": "stdout",
     "output_type": "stream",
     "text": [
      "35 : 0.0 60.0\n",
      "50 : 60.0 100.0\n",
      "58 : 80.0 100.0\n",
      "65 : 80.0 100.0\n",
      "80 : 80.0 100.0\n",
      "100 : 60.0 100.0\n",
      "113 : 60.0 100.0\n",
      "123 : 80.0 100.0\n",
      "151 : 80.0 100.0\n",
      "172 : 80.0 100.0\n",
      "192 : 80.0 100.0\n",
      "262 : 40.0 60.0\n",
      "269 : 0.0 20.0\n",
      "281 : 40.0 100.0\n",
      "285 : 40.0 60.0\n",
      "297 : 60.0 100.0\n"
     ]
    }
   ],
   "source": [
    "pre = precisions_per_class(train_preprocessed, train_data['Category'], test_preprocessed, test_data['Category'], 5)\n",
    "we_pre = precisions_per_class(we_train_preprocessed, train_data['Category'], we_test_preprocessed, test_data['Category'], 5)\n",
    "\n",
    "for i in range(0, len(pre['business'])):\n",
    "    if (pre['business'][i][1] < we_pre['business'][i][1]): #el segundo elemento es la precision\n",
    "        print(pre['business'][i][0], ':',pre['business'][i][1],we_pre['business'][i][1])"
   ]
  },
  {
   "cell_type": "markdown",
   "metadata": {},
   "source": [
    "<font color='blue'>Hay varias consultas con un incremento del 60% en la precisión, por lo que tomaremos la primera encontrada al pasar de no tener ninguna similitud a una del 60% (i = 35)</font>"
   ]
  },
  {
   "cell_type": "code",
   "execution_count": 71,
   "metadata": {
    "id": "RUat8DCRLYs1"
   },
   "outputs": [],
   "source": [
    "#3. Muestra el texto original de la consulta y los términos que aparecen en las dos vectorizaciones tf-idf que usamos\n",
    "#(recuerda que usamos diccionarios distintos para las vectorizaciones bolsa de palabras y word-embeddings).\n",
    "\n",
    "def terms_in_message(feature_names,vector_data,index):\n",
    "    '''\n",
    "    Devuelve un conjunto los términos presentes en un mensaje representado como bolsa de palabras.\n",
    "    \n",
    "    - feature_names: terminos usados para vectorizar\n",
    "    - vector_data: matriz (dispersa) de mensaje vectorizados\n",
    "    - index: posición del mensaje a mostrar\n",
    "    '''\n",
    "    mensaje=vector_data[index,:]>0\n",
    "    terminos_presentes = ma.array(feature_names, mask = ~(mensaje[0].toarray()))\n",
    "\n",
    "    return set(terminos_presentes.compressed())"
   ]
  },
  {
   "cell_type": "code",
   "execution_count": 118,
   "metadata": {},
   "outputs": [
    {
     "name": "stdout",
     "output_type": "stream",
     "text": [
      "Mensaje:\n",
      " mcdonald s boss bell dies aged 44 charlie bell  the straight-talking former head of fast-food giant mcdonald s  has died of cancer aged 44.  mr bell was diagnosed with colorectal cancer in may last year  a month after taking over the top job. he resigned in november to fight the illness. joining the company as a 15-year-old part-time worker  mr bell quickly moved through its ranks  becoming australia s youngest store manager at 19. a popular go-getter  he is credited with helping revive mcdonald s sales. mr bell leaves a wife and daughter.  as we mourn his passing  i ask you to keep charlie s family in your hearts and prayers   chief executive james skinner said in a statement.  and remember that in his abbreviated time on this earth  charlie lived life to the fullest.   no matter what cards life dealt  charlie stayed centred on his love for his family and for mcdonald s.   after running the company s australian business in the 1990s  mr bell moved to the us in 1999 to run operations in asia  africa and the middle east. in 2001  he took over the reins in europe  mcdonald s second most important market. he became chief operating officer and president in 2002. mr bell took over as chief executive after his predecessor as ceo  jim cantalupo  died suddenly of a heart attack in april. having worked closely with mr cantalupo  who came out of retirement to turn mcdonald s around  mr bell focused on boosting demand at existing restaurants rather than follow a policy of rapid expansion. he had promised not to let the company get  fat  dumb and happy   and  according to reuters  once told analysts that he would shove a fire hose down the throat of competitors if he saw them drowning. mr bell oversaw mcdonald s  i m lovin  it  advertising campaign and introduced successes such as mccafe  now the biggest coffee shop brand in australia and new zealand. colleagues said that mr bell was proud of his humble beginnings  helping out behind cash tills and clearing tables when visiting restaurants.\n",
      "\n",
      "Bolsa de palabras: ['according', 'advertising', 'africa', 'aged', 'analysts', 'april', 'asia', 'ask', 'attack', 'australia', 'australian', 'beginnings', 'bell', 'biggest', 'boosting', 'boss', 'brand', 'business', 'came', 'campaign', 'cancer', 'cards', 'cash', 'centred', 'ceo', 'charlie', 'chief', 'clearing', 'closely', 'coffee', 'colleagues', 'company', 'competitors', 'credited', 'daughter', 'dealt', 'demand', 'diagnosed', 'died', 'dies', 'drowning', 'dumb', 'earth', 'east', 'europe', 'executive', 'existing', 'expansion', 'family', 'fast', 'fat', 'fight', 'focused', 'follow', 'food', 'fullest', 'giant', 'happy', 'having', 'head', 'heart', 'hearts', 'helping', 'humble', 'illness', 'important', 'introduced', 'james', 'jim', 'job', 'joining', 'leaves', 'let', 'life', 'lived', 'love', 'm', 'manager', 'market', 'matter', 'mcdonald', 'middle', 'month', 'moved', 'mr', 'new', 'november', 'officer', 'old', 'operating', 'operations', 'oversaw', 'passing', 'policy', 'popular', 'predecessor', 'president', 'promised', 'proud', 'quickly', 'ranks', 'rapid', 'remember', 'resigned', 'restaurants', 'retirement', 'reuters', 'revive', 'run', 'running', 's', 'said', 'sales', 'saw', 'second', 'shop', 'shove', 'skinner', 'statement', 'stayed', 'store', 'straight', 'successes', 'suddenly', 'taking', 'talking', 'throat', 'tills', 'time', 'told', 'took', 'turn', 'visiting', 'wife', 'worked', 'worker', 'year', 'youngest', 'zealand']\n",
      "\n",
      "Word-embeddings: ['abbreviated', 'according', 'advertising', 'aged', 'analysts', 'attack', 'beginnings', 'biggest', 'boosting', 'business', 'campaign', 'cards', 'centred', 'chief', 'clearing', 'closely', 'colleagues', 'company', 'competitors', 'credited', 'daughter', 'dealt', 'demand', 'diagnosed', 'died', 'drowning', 'dumb', 'executive', 'existing', 'expansion', 'fight', 'focused', 'follow', 'food', 'fullest', 'giant', 'having', 'head', 'heart', 'hearts', 'helping', 'illness', 'important', 'introduced', 'joining', 'leaves', 'let', 'lived', 'm', 'manager', 'matter', 'month', 'mourn', 'moved', 'officer', 'operating', 'operations', 'oversaw', 'passing', 'policy', 'popular', 'prayers', 'predecessor', 'president', 'promised', 'quickly', 'ranks', 'rapid', 'reins', 'remember', 'resigned', 'restaurants', 'retirement', 'revive', 'run', 'running', 's', 'said', 'sales', 'second', 'shop', 'shove', 'statement', 'stayed', 'store', 'straight', 'successes', 'suddenly', 'tables', 'taking', 'talking', 'throat', 'tills', 'told', 'took', 'turn', 'visiting', 'wife', 'worked', 'worker', 'year', 'youngest']\n"
     ]
    }
   ],
   "source": [
    "print('Mensaje:\\n',test_data.Text.tolist()[35])\n",
    "\n",
    "print('\\nBolsa de palabras:', sorted(terms_in_message(feature_names,test_preprocessed,35)))\n",
    "print('\\nWord-embeddings:',sorted(terms_in_message(we_feature_names,we_test_preprocessed,35)))\n"
   ]
  },
  {
   "cell_type": "code",
   "execution_count": 119,
   "metadata": {},
   "outputs": [
    {
     "name": "stdout",
     "output_type": "stream",
     "text": [
      "TF-IDF puro:\n",
      "890 politics\n",
      "432 entertainment\n",
      "425 sport\n",
      "92 politics\n",
      "1159 politics\n",
      "\n",
      "TF-IDF con Word-embeddings:\n",
      "492 business\n",
      "1068 entertainment\n",
      "652 entertainment\n",
      "219 business\n",
      "230 business\n"
     ]
    }
   ],
   "source": [
    "#4. Identifica las noticias recuperadas para dicha consulta para las dos aproximaciones y sus categorías (TF-IDF puro y con word-embeddings)\n",
    "tf_noti = knn(test_preprocessed[35], train_preprocessed, 5)\n",
    "we_noti = knn(we_test_preprocessed[35], we_train_preprocessed, 5)\n",
    "\n",
    "print('TF-IDF puro:')\n",
    "for elem in tf_noti:\n",
    "    print(elem, train_data.Category.tolist()[elem])\n",
    "    \n",
    "\n",
    "print('\\nTF-IDF con Word-embeddings:')\n",
    "for elem in we_noti:\n",
    "    print(elem, train_data.Category.tolist()[elem])"
   ]
  },
  {
   "cell_type": "code",
   "execution_count": 130,
   "metadata": {},
   "outputs": [
    {
     "data": {
      "text/plain": [
       "['bell', 'chief', 'mr', 's', 'said']"
      ]
     },
     "execution_count": 130,
     "metadata": {},
     "output_type": "execute_result"
    }
   ],
   "source": [
    "#5. Muestra la intersección de términos entre la consulta y la primera noticia mal recuperada usando TF-IDF puro.\n",
    "test_terms = sorted(terms_in_message(feature_names,test_preprocessed,35))\n",
    "train_terms = sorted(terms_in_message(feature_names,train_preprocessed,890))\n",
    "\n",
    "inter = []\n",
    "for elem in train_terms:\n",
    "    if elem in test_terms:\n",
    "        inter.append(elem)\n",
    "\n",
    "inter"
   ]
  },
  {
   "cell_type": "code",
   "execution_count": 125,
   "metadata": {},
   "outputs": [
    {
     "data": {
      "text/plain": [
       "['biggest',\n",
       " 'boosting',\n",
       " 'business',\n",
       " 'demand',\n",
       " 'giant',\n",
       " 'popular',\n",
       " 's',\n",
       " 'said',\n",
       " 'sales',\n",
       " 'year']"
      ]
     },
     "execution_count": 125,
     "metadata": {},
     "output_type": "execute_result"
    }
   ],
   "source": [
    "#6. Muestra la intersección de términos entre la consulta y la última noticia bien recuperada usando word-embeddings.\n",
    "\n",
    "we_test_terms = sorted(terms_in_message(we_feature_names,we_test_preprocessed,35))\n",
    "we_train_terms = sorted(terms_in_message(we_feature_names,we_train_preprocessed,230))\n",
    "\n",
    "we_inter = []\n",
    "for elem in we_train_terms:\n",
    "    if elem in we_test_terms:\n",
    "        we_inter.append(elem)\n",
    "\n",
    "we_inter"
   ]
  },
  {
   "cell_type": "code",
   "execution_count": null,
   "metadata": {},
   "outputs": [],
   "source": [
    "#7. A la luz de todo lo anterior, razona sobre por qué crees que el TF-IDF no fue capaz de clasificar bien la noticia y el word-embedding sí."
   ]
  }
 ],
 "metadata": {
  "colab": {
   "name": "P2_recuperacion_informacion_2122_enunciado.ipynb",
   "provenance": []
  },
  "kernelspec": {
   "display_name": "Python 3",
   "language": "python",
   "name": "python3"
  },
  "language_info": {
   "codemirror_mode": {
    "name": "ipython",
    "version": 3
   },
   "file_extension": ".py",
   "mimetype": "text/x-python",
   "name": "python",
   "nbconvert_exporter": "python",
   "pygments_lexer": "ipython3",
   "version": "3.7.11"
  }
 },
 "nbformat": 4,
 "nbformat_minor": 1
}
