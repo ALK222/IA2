{
 "cells": [
  {
   "cell_type": "markdown",
   "metadata": {},
   "source": [
    "# Práctica 2: Procesamiento del Lenguaje Natural\n",
    "\n",
    "__Fecha de entrega: 3 de abril de 2022__\n",
    "\n",
    "El objetivo de esta práctica es aplicar los conceptos teóricos vistos en clase en el módulo de PLN. La práctica consta de 2 notebooks que se entregarán simultáneamente en la tarea de entrega habilitada en el Campus  Virtual.\n",
    "\n",
    "Lo más importante en esta práctica no es el código Python, sino el análisis de los datos y modelos que construyas y las explicaciones razonadas de cada una de las decisiones que tomes. __No se valorarán trozos de código o gráficas sin ningún tipo de contexto o explicación__.\n",
    "\n",
    "Finalmente, recuerda establecer el parámetro `random_state` en todas las funciones que tomen decisiones aleatorias para que los resultados sean reproducibles (los resultados no varíen entre ejecuciones)."
   ]
  },
  {
   "cell_type": "code",
   "execution_count": 1,
   "metadata": {},
   "outputs": [],
   "source": [
    "RANDOM_STATE = 133"
   ]
  },
  {
   "cell_type": "markdown",
   "metadata": {},
   "source": [
    "# Apartado 1: Clasificador de noticias"
   ]
  },
  {
   "cell_type": "markdown",
   "metadata": {},
   "source": [
    "## 1) Carga del conjunto de datos\n",
    "\n",
    "El fichero `BBC News.csv` contiene noticias clasificadas en 5 categorías diferentes. \n",
    "\n",
    "Carga los datos en un dataframe teniendo en cuenta que la columna `ArticleId` es un identificador de la noticia y por lo tanto no debes usarlo para clasificar. \n",
    "\n",
    "Estudia el tamaño del conjunto de datos y la proporción de noticias que pertenecen a cada una de las categorías. Indica si debemos tenerlo en cuenta de alguna forma al analizar los modelos que construyamos.\n",
    "\n",
    "Muestra un mensaje cualquiera y explica si lo habrías clasificado en la clase correcta tras leerlo.\n",
    "\n",
    "Crea una partición de los datos dejando el 80% para entrenamiento y el 20% restante para test usando la función `train_test_split` de sklearn. "
   ]
  },
  {
   "cell_type": "code",
   "execution_count": 2,
   "metadata": {},
   "outputs": [],
   "source": [
    "import pandas as pd\n",
    "import numpy as np\n",
    "\n",
    "file = 'BBC News.csv'\n",
    "csv = pd.read_csv(file, sep=',')\n",
    "df = pd.DataFrame(csv, columns = ['Text','Category']) #importar csv sin ArticleId"
   ]
  },
  {
   "cell_type": "code",
   "execution_count": 3,
   "metadata": {},
   "outputs": [
    {
     "data": {
      "text/plain": [
       "sport            346\n",
       "business         336\n",
       "politics         274\n",
       "entertainment    273\n",
       "tech             261\n",
       "Name: Category, dtype: int64"
      ]
     },
     "execution_count": 3,
     "metadata": {},
     "output_type": "execute_result"
    }
   ],
   "source": [
    "# Estudia el tamaño del conjunto de datos y la proporción de noticias que pertenecen a cada una de las categorías.\n",
    "# Indica si debemos tenerlo en cuenta de alguna forma al analizar los modelos que construyamos.\n",
    "#------------------------------------------------------------------------------\n",
    "\n",
    "df['Category'].value_counts() #cuenta las veces que aparece cada valor "
   ]
  },
  {
   "cell_type": "markdown",
   "metadata": {},
   "source": [
    "Hay una diferencia de 85 noticias entre la categoría de deportes y de tecnología. Teniendo en cuenta que es un tercio más de noticias pero son dos categorías bastante con vocabularios distintos, no debería suponer un gran problema."
   ]
  },
  {
   "cell_type": "code",
   "execution_count": 4,
   "metadata": {},
   "outputs": [
    {
     "name": "stdout",
     "output_type": "stream",
     "text": [
      "what high-definition will do to dvds first it was the humble home video  then it was the dvd  and now hollywood is preparing for the next revolution in home entertainment - high-definition.  high-definition gives incredible  3d-like pictures and surround sound. the dvd disks and the gear to play them will not be out for another year or so  and there at are still a number of issues to be sorted out. but when high-definition films do come out on the new format dvds  it will profoundly change home entertainment. for rick dean  director of business development for digital content company thx  a high-definition future is an exciting prospect. he has worked on the star wars dvd trilogy  finding nemo  the incredibles and indiana jones.  there was a time not so long ago when the film world and the video world were two completely separate worlds   he told the bbc news website.   the technology we are dealing with now means they are very much conjoined.  the film that we see in theatres is coming from the same digital file that we take the home video master   he says. but currently  putting a master feature film onto dvd requires severe compression because current dvd technology cannot hold as much as high-definition films demand.  as much as you compress the picture data rate wise  you also take qualities away from the picture that we fight so hard to keep in the master   he explains.  i would love to be able to show people what projects that we worked on really look like in the high-def world and i find it very exciting.   high-definition dvds can hold up to six times more data than the dvds we are used to. it will take time though to persuade people who spent money on dvd players to buy the different players and displays required to watch high-definition dvds in 18 months  time. mr dean is confident though:  i think if they see real hd [high-definition]  not some heavily compressed version of it  there is such a remarkable difference.  i have heard comments from people who say the images pop off the screen.   high-definition will mean some changes for those working behind the scenes too. on the whole  producing films for high-definition dvds will be easier in some ways because less compression is needed. equally  it may mean hollywood studios ask for more to be put onto the average dvd.  when we master movies right now  our data rates are running at about 1.2 gigabits per second   says mr dean.  our dvds that we put out today have to be squashed down to about five or six megabits per second.  that s a huge amount of compression that has to be applied - about 98%. so if you have anything that allows more space  you don t have to compress so hard.  studios could fit a lot more marketing material  games  and features  onto high-capacity dvds. currently  an entire dvd project can take up to three months  says mr dean. although the step of down-converting will be bypassed  this will realistically only save a day s work  says mr dean. one of the most time consuming elements is building dvd navigation and menu systems. on the fairly complex star wars disks  making sure the menu buttons worked took 45 human hours alone. if studios want to cash in on the extra space  it could mean extra human hours  for which someone has to pay.  if the decision on the studio side is that they are going to put a lot more on these disks  it could be more expensive because of all the extra navigation that is required.  and if studios do focus on delivering more  added value content   thinks mr dean  ultimately it could mean that they will want more money for it. those costs could filter down to the price ticket on a high-definition dvd. but if the consumer is not willing to pay a premium price  studios will listen  thinks mr dean.  high-definition throws up other challenge to film makers and dvd production alike. more clarity on screen means film makers have to make doubly sure that attention to detail is meticulous.  when we did the first hd version of star wars episode i  everybody was very sun-tanned  but that was make-up.  in the hd version of episode i  all these make-up lines showed up   explains mr dean. the restoration of the older star wars episodes revealed some interesting items too.   there are scans of a corridor [on the death star] and fairly plainly in one of those shots  there is a file cabinet stuck behind one of the doorways.  you never used to be able to see it because things are just blurred enough during the pan that you just didn t see it.  what high-definition revolution ultimately means is that the line between home entertainment and cinema worlds will blur. with home theatre systems turning living rooms into cinemas  this line blurs even further. it could also mean that how we get films  and in what format  will widen.  in the future we are going to look towards file delivery over ip [internet protocol - broadband]  giving a dvd-like experience from the set-top box to the hard drive   says mr dean. but that is some time off for most  and for now  people still like to show off something physical in their bookshelves.\n",
      "tech\n"
     ]
    }
   ],
   "source": [
    "#Muestra un mensaje cualquiera y explica si lo habrías clasificado en la clase correcta tras leerlo.\n",
    "#------------------------------------------------------------------------------\n",
    "\n",
    "print(df.Text[63])\n",
    "print(df.Category[63])"
   ]
  },
  {
   "cell_type": "markdown",
   "metadata": {},
   "source": [
    "El artículo habla del avance que supone la alta definición desde un enfoque técnico, por lo que encaja en la sección de tecnología."
   ]
  },
  {
   "cell_type": "code",
   "execution_count": 5,
   "metadata": {},
   "outputs": [
    {
     "name": "stdout",
     "output_type": "stream",
     "text": [
      "                                                   Text  Category\n",
      "0     warning over us pensions deficit taxpayers may...  business\n",
      "1     collins calls for chambers return world 100m c...     sport\n",
      "2     safety alert as gm recalls cars the world s bi...  business\n",
      "3     jp morgan admits us slavery links thousands of...  business\n",
      "4     clarke to press on with id cards new home secr...  politics\n",
      "...                                                 ...       ...\n",
      "1187  us in eu tariff chaos trade row the us has ask...  business\n",
      "1188  benitez  to launch morientes bid  liverpool ma...     sport\n",
      "1189  progress on new internet domains by early 2005...      tech\n",
      "1190  mauresmo opens with victory in la amelie maure...     sport\n",
      "1191  henman decides to quit davis cup tim henman ha...     sport\n",
      "\n",
      "[1192 rows x 2 columns]\n",
      "                                                  Text       Category\n",
      "0    boris opposes mayor apology ken livingstone sh...       politics\n",
      "1    wenger signs new deal arsenal manager arsene w...          sport\n",
      "2    telewest to challenge sky plus cable firm tele...           tech\n",
      "3    concern over rfid tags consumers are very conc...           tech\n",
      "4    mobiles  not media players yet  mobiles are no...           tech\n",
      "..                                                 ...            ...\n",
      "293  nintendo adds media playing to ds nintendo is ...           tech\n",
      "294  will tory tax cuts lift spirits  michael howar...       politics\n",
      "295  yachvili savours france comeback france scrum-...          sport\n",
      "296  police praise  courageous  ozzy rock star ozzy...  entertainment\n",
      "297  iran budget seeks state sell-offs iran s presi...       business\n",
      "\n",
      "[298 rows x 2 columns]\n"
     ]
    }
   ],
   "source": [
    "# Crea una partición de los datos dejando el 80% para entrenamiento y el 20% restante para test\n",
    "# usando la función `train_test_split` de sklearn. \n",
    "#------------------------------------------------------------------------------\n",
    "\n",
    "from sklearn.model_selection import train_test_split\n",
    "\n",
    "train_data, test_data = train_test_split(df, test_size=0.2,random_state=RANDOM_STATE) #mezclo y cojo el 20% para prueba\n",
    "\n",
    "#Como los indices no se corresponden a la posicion de la lista y sufrimos el riesgo de acceder\n",
    "#a una posicion vacía, los reajustamos con un dataframe nuevo\n",
    "\n",
    "aux = {'Text': train_data.Text.tolist(), \n",
    "        'Category': train_data.Category.tolist()}\n",
    "train_data = pd.DataFrame(aux, columns=['Text', 'Category'])\n",
    "\n",
    "aux = {'Text': test_data.Text.tolist(),\n",
    "        'Category': test_data.Category.tolist()}\n",
    "test_data = pd.DataFrame(aux, columns=['Text', 'Category'])\n",
    "\n",
    "print(train_data) #entrenamiento\n",
    "print(test_data) #prueba"
   ]
  },
  {
   "cell_type": "markdown",
   "metadata": {},
   "source": [
    "## 2) Representación basada en bolsa de palabras y frecuencia de aparición\n",
    "\n",
    "La primera vectorización que vamos a usar representará los mensajes usando el modelo de bolsa de palabras, monogramas y la frecuencia de aparición de cada palabra. Usa como _stop words_ las que vienen configuradas por defecto para el inglés.\n",
    "\n",
    "Aplica la vectorización a los conjuntos de mensajes de entrenamiento y test. Muestra algún mensaje tanto en su formato de texto original como en la versión vectorizada. ¿Qué palabras se han eliminado y por qué?\n",
    "\n",
    "Entrena un clasificador Naive Bayes Multinomial y calcula su tasa de aciertos sobre el conjunto de entrenamiento y el conjunto de test. A continuación calcula los valores de precisión, exhaustividad y puntuación F1 para cada una de las clases. Dibuja la matriz de confusión. Analiza los resultados obtenidos.\n",
    "\n",
    "A continuación, entrena un clasificador k-NN con la configuración por defecto y usando la misma vectorización. Analiza los resultados, ¿a qué crees que se deben?"
   ]
  },
  {
   "cell_type": "code",
   "execution_count": 6,
   "metadata": {},
   "outputs": [],
   "source": [
    "from sklearn.feature_extraction.text import CountVectorizer\n",
    "from sklearn.feature_extraction.text import TfidfTransformer\n",
    "\n",
    "# Aprovecharemos para quitar las palabras que contengas caracteres que no sean letras.\n",
    "vectorizer = CountVectorizer(stop_words='english', binary=False,ngram_range=(1,1), token_pattern=r'(?u)\\b[A-Za-z]+\\b') "
   ]
  },
  {
   "cell_type": "code",
   "execution_count": 10,
   "metadata": {},
   "outputs": [],
   "source": [
    "# Aplica la vectorización a los conjuntos de mensajes de entrenamiento y test.\n",
    "#------------------------------------------------------------------------------\n",
    "\n",
    "# Tomamos los textos del conjunto de entrenamiento y los transformamos en \n",
    "# una matriz de datos (palabras) según el diccionario estándar\n",
    "train_vector_data=vectorizer.fit_transform(train_data.Text)\n",
    "\n",
    "# Hacemos lo mismo con el conjunto de test.\n",
    "# Al usar \"transform\" toma como referencia únicamente las palabras\n",
    "# encontradas en el conjunto de entrenamiento\n",
    "test_vector_data=vectorizer.transform(test_data.Text)\n",
    "\n",
    "# Guardamos las palabras de nuestro diccionario usadas en la vectorización\n",
    "feature_names = vectorizer.get_feature_names() "
   ]
  },
  {
   "cell_type": "code",
   "execution_count": 11,
   "metadata": {},
   "outputs": [],
   "source": [
    "import numpy as np\n",
    "import numpy.ma as ma\n",
    "\n",
    "def write_terms (feature_names, data, vector_data, index):\n",
    "    '''\n",
    "    Escribe los términos presentes en un mensaje representado como bolsa de palabras.\n",
    "    \n",
    "    - feature_names: terminos usados para vectorizar\n",
    "    - data: lista de mensajes original (si data==None no se muestra el mensaje original)\n",
    "    - vector_data: matriz (dispersa) de mensaje vectorizados\n",
    "    - index: posición del mensaje a mostrar\n",
    "    '''\n",
    "    # máscara para seleccionar sólo el mensaje en posición index\n",
    "    mask=vector_data[index,:]>0\n",
    "    \n",
    "    # términos que aparecen en ese mensaje vectorizado\n",
    "    terminos = ma.array(feature_names, mask = ~(mask[0].toarray()))\n",
    "    \n",
    "    # mostrar mensaje original\n",
    "    if data is not None:\n",
    "        print('Mensaje', index, ':', data[index])\n",
    "    \n",
    "    # mostrar términos que aparecen en el mensaje vectorizado\n",
    "    print('Mensaje', index, 'vectorizado:', terminos.compressed(),'\\n')"
   ]
  },
  {
   "cell_type": "code",
   "execution_count": 12,
   "metadata": {},
   "outputs": [
    {
     "name": "stdout",
     "output_type": "stream",
     "text": [
      "Mensaje 38 : eminem beats elvis to number one rapper eminem has denied elvis his fourth number one of the year  after his song  like toy soldiers  stormed to the top of the singles charts.  the track claimed the top spot ahead of the king s latest re-release  are you lonesome tonight. it is the fifth in a series of 18 reissues to mark the 70th anniversary of presley s birth. almost here  the duet from former westlife star brian mcfadden and delta goodrem  went in at number three.  like toy soldiers  from eminem s encore album  is sampled from martika s 1980s hit toy soldiers. it takes a swipe at hip-hop feuds and follows the success of just lose it. last week s number one  elvis s it s now or never  slipped 13 places to number 14  but all five of his re-released songs are in the top 40. one world project tsunami fundraiser  grief never grows old  slipped four places to number eight. featuring cliff richard and boy george  the song was written by former dj mike read. in the album charts  athlete s latest offering tourist claimed the top spot  toppling the chemical brother s push the button down  which fell to number six.\n",
      "Mensaje 38 vectorizado: ['ahead' 'album' 'anniversary' 'athlete' 'beats' 'birth' 'boy' 'brian'\n",
      " 'brother' 'button' 'charts' 'chemical' 'claimed' 'cliff' 'delta' 'denied'\n",
      " 'dj' 'duet' 'elvis' 'eminem' 'encore' 'featuring' 'fell' 'feuds' 'fifth'\n",
      " 'follows' 'fourth' 'fundraiser' 'george' 'goodrem' 'grief' 'grows' 'hip'\n",
      " 'hit' 'hop' 'just' 'king' 'latest' 'like' 'lonesome' 'lose' 'mark'\n",
      " 'martika' 'mcfadden' 'mike' 'number' 'offering' 'old' 'places' 'presley'\n",
      " 'project' 'push' 'rapper' 'read' 'reissues' 'release' 'released'\n",
      " 'richard' 's' 'sampled' 'series' 'singles' 'slipped' 'soldiers' 'song'\n",
      " 'songs' 'spot' 'star' 'stormed' 'success' 'swipe' 'takes' 'tonight'\n",
      " 'toppling' 'tourist' 'toy' 'track' 'tsunami' 'week' 'went' 'westlife'\n",
      " 'world' 'written' 'year'] \n",
      "\n"
     ]
    }
   ],
   "source": [
    "# Muestra algún mensaje tanto en su formato de texto original como en la versión vectorizada.\n",
    "# ¿Qué palabras se han eliminado y por qué?\n",
    "#------------------------------------------------------------------------------\n",
    "write_terms(feature_names, train_data.Text, train_vector_data,38)"
   ]
  },
  {
   "cell_type": "markdown",
   "metadata": {},
   "source": [
    "Se han eliminado preposiciones y determinantes. Sin embargo, recupera palabras como 's', probablemente porque lo trata como si se refiriese a la letra, cuando realmente es el resultado de perder la tilde en una contracción. Por ejemplo: \"it's now or never\" se queda como \"it s now or never\"."
   ]
  },
  {
   "cell_type": "code",
   "execution_count": 13,
   "metadata": {},
   "outputs": [
    {
     "name": "stdout",
     "output_type": "stream",
     "text": [
      "Multinomial Naive Bayes, porcentaje de aciertos en entrenamiento: 0.99748322147651\n",
      "Multinomial Naive Bayes, porcentaje de aciertos en test: 0.9798657718120806\n"
     ]
    }
   ],
   "source": [
    "# Entrena un clasificador Naive Bayes Multinomial y calcula su tasa de aciertos sobre el conjunto de entrenamiento y el conjunto de test.\n",
    "#------------------------------------------------------------------------------\n",
    "\n",
    "from sklearn.naive_bayes import MultinomialNB\n",
    "\n",
    "mnb_classifier = MultinomialNB()\n",
    "\n",
    "mnb_classifier.fit(train_vector_data, train_data['Category']) #entrenamos el clasificador\n",
    "\n",
    "mnb_train_predictions = mnb_classifier.predict(train_vector_data) #pedimos predicciones del conjunto de entrenamiento\n",
    "mnb_test_predictions = mnb_classifier.predict(test_vector_data) #pedimos predicciones del conjunto de test\n",
    "\n",
    "print(\"Multinomial Naive Bayes, porcentaje de aciertos en entrenamiento:\", np.mean(mnb_train_predictions == train_data['Category']))\n",
    "print(\"Multinomial Naive Bayes, porcentaje de aciertos en test:\", np.mean(mnb_test_predictions == test_data['Category']))"
   ]
  },
  {
   "cell_type": "code",
   "execution_count": 14,
   "metadata": {},
   "outputs": [
    {
     "data": {
      "text/plain": [
       "business         72\n",
       "sport            62\n",
       "entertainment    60\n",
       "politics         53\n",
       "tech             51\n",
       "Name: Category, dtype: int64"
      ]
     },
     "execution_count": 14,
     "metadata": {},
     "output_type": "execute_result"
    }
   ],
   "source": [
    "# A continuación calcula los valores de precisión, exhaustividad y puntuación F1 para cada una de las clases.\n",
    "#------------------------------------------------------------------------------\n",
    "\n",
    "#Con test_data['Category'].value_counts() se ve la cantidad de cada categoría\n",
    "#para ordenarlos correctamente a la hora de usar classification_report.\n",
    "test_data['Category'].value_counts()"
   ]
  },
  {
   "cell_type": "code",
   "execution_count": 12,
   "metadata": {},
   "outputs": [
    {
     "name": "stdout",
     "output_type": "stream",
     "text": [
      "               precision    recall  f1-score   support\n",
      "\n",
      "     business       1.00      0.96      0.98        72\n",
      "entertainment       0.97      0.97      0.97        60\n",
      "     politics       0.98      1.00      0.99        53\n",
      "        sport       1.00      1.00      1.00        62\n",
      "         tech       0.94      0.98      0.96        51\n",
      "\n",
      "     accuracy                           0.98       298\n",
      "    macro avg       0.98      0.98      0.98       298\n",
      " weighted avg       0.98      0.98      0.98       298\n",
      "\n"
     ]
    }
   ],
   "source": [
    "#En el output de esta celda se puede ver que las cantidades en support cuadran en categoría con las de arriba.\n",
    "target_names = ['business', 'entertainment', 'politics','sport', 'tech']\n",
    "\n",
    "from sklearn.metrics import classification_report, confusion_matrix\n",
    "\n",
    "predictions = mnb_test_predictions #creamos una variable auxiliar para las predicciones\n",
    "\n",
    "print(classification_report(test_data['Category'], predictions, target_names=target_names))"
   ]
  },
  {
   "cell_type": "code",
   "execution_count": 13,
   "metadata": {},
   "outputs": [
    {
     "data": {
      "text/plain": [
       "(array([0.5, 1.5, 2.5, 3.5, 4.5]),\n",
       " [Text(0.5, 0, 'business'),\n",
       "  Text(1.5, 0, 'entertainment'),\n",
       "  Text(2.5, 0, 'politics'),\n",
       "  Text(3.5, 0, 'sport'),\n",
       "  Text(4.5, 0, 'tech')])"
      ]
     },
     "execution_count": 13,
     "metadata": {},
     "output_type": "execute_result"
    },
    {
     "data": {
      "image/png": "[encoded data removed]",
      "text/plain": [
       "<Figure size 1080x720 with 2 Axes>"
      ]
     },
     "metadata": {
      "needs_background": "light"
     },
     "output_type": "display_data"
    }
   ],
   "source": [
    "# Dibuja la matriz de confusión.\n",
    "# Analiza los resultados obtenidos.\n",
    "#------------------------------------------------------------------------------\n",
    "\n",
    "%matplotlib inline\n",
    "import pandas as pd\n",
    "import seaborn as sn\n",
    "import matplotlib.pyplot as plt\n",
    "\n",
    "conf_matrix = confusion_matrix(test_data['Category'], predictions) #creamos la matriz de confusion\n",
    "conf_matrix_df = pd.DataFrame(conf_matrix, index=target_names,\n",
    "                              columns=target_names)\n",
    "\n",
    "plt.figure(figsize=(15, 10))\n",
    "sn.heatmap(conf_matrix_df, annot=True, vmin=0, vmax=conf_matrix.max(), fmt='d', cmap=\"YlGnBu\")\n",
    "plt.yticks(rotation=0)\n",
    "plt.xticks(rotation=0)"
   ]
  },
  {
   "cell_type": "markdown",
   "metadata": {},
   "source": [
    "Podemos observar que el clasificador hace un muy buen trabajo. La categoría deportiva, por ejemplo, está perfectamente clasificada, y solo ha habido un artículo colocado erróneamente en la de política. Falta algo de precisión en la tecnológica, con tres falsos positivos, y otros tres pertenecientes a la de economía precichos como de otras categorías, aunque la precisión es perfecta."
   ]
  },
  {
   "cell_type": "code",
   "execution_count": 14,
   "metadata": {},
   "outputs": [
    {
     "name": "stdout",
     "output_type": "stream",
     "text": [
      "k-NN, porcentaje de aciertos en entrenamiento: 0.6870805369127517\n",
      "k-NN, porcentaje de aciertos en test: 0.540268456375839\n"
     ]
    }
   ],
   "source": [
    "# A continuación, entrena un clasificador k-NN con la configuración por defecto y usando la misma vectorización.\n",
    "#------------------------------------------------------------------------------\n",
    "\n",
    "from sklearn import neighbors\n",
    "\n",
    "knn_classifier = neighbors.KNeighborsClassifier()\n",
    "knn_classifier.fit(train_vector_data, train_data['Category'])\n",
    "\n",
    "knn_train_predictions = knn_classifier.predict(train_vector_data)\n",
    "knn_test_predictions = knn_classifier.predict(test_vector_data)\n",
    "\n",
    "print(\"k-NN, porcentaje de aciertos en entrenamiento:\", np.mean(knn_train_predictions == train_data['Category']))\n",
    "print(\"k-NN, porcentaje de aciertos en test:\", np.mean(knn_test_predictions == test_data['Category']))"
   ]
  },
  {
   "cell_type": "code",
   "execution_count": 15,
   "metadata": {},
   "outputs": [
    {
     "name": "stdout",
     "output_type": "stream",
     "text": [
      "               precision    recall  f1-score   support\n",
      "\n",
      "     business       0.91      0.42      0.57        72\n",
      "entertainment       0.78      0.42      0.54        60\n",
      "     politics       0.94      0.57      0.71        53\n",
      "        sport       0.33      1.00      0.50        62\n",
      "         tech       1.00      0.27      0.43        51\n",
      "\n",
      "     accuracy                           0.54       298\n",
      "    macro avg       0.79      0.53      0.55       298\n",
      " weighted avg       0.78      0.54      0.55       298\n",
      "\n"
     ]
    }
   ],
   "source": [
    "# Analiza los resultados, ¿a qué crees que se deben?\n",
    "#------------------------------------------------------------------------------\n",
    "\n",
    "predictions = knn_test_predictions\n",
    "\n",
    "print(classification_report(test_data['Category'], predictions, target_names=target_names))"
   ]
  },
  {
   "cell_type": "code",
   "execution_count": 16,
   "metadata": {},
   "outputs": [
    {
     "data": {
      "text/plain": [
       "(array([0.5, 1.5, 2.5, 3.5, 4.5]),\n",
       " [Text(0.5, 0, 'business'),\n",
       "  Text(1.5, 0, 'entertainment'),\n",
       "  Text(2.5, 0, 'politics'),\n",
       "  Text(3.5, 0, 'sport'),\n",
       "  Text(4.5, 0, 'tech')])"
      ]
     },
     "execution_count": 16,
     "metadata": {},
     "output_type": "execute_result"
    },
    {
     "data": {
      "image/png": "[encoded data removed]",
      "text/plain": [
       "<Figure size 1080x720 with 2 Axes>"
      ]
     },
     "metadata": {
      "needs_background": "light"
     },
     "output_type": "display_data"
    }
   ],
   "source": [
    "%matplotlib inline\n",
    "\n",
    "conf_matrix = confusion_matrix(test_data['Category'], predictions)\n",
    "conf_matrix_df = pd.DataFrame(conf_matrix, index=target_names,\n",
    "                              columns=target_names)\n",
    "\n",
    "plt.figure(figsize=(15, 10))\n",
    "sn.heatmap(conf_matrix_df, annot=True, vmin=0, vmax=conf_matrix.max(), fmt='d', cmap=\"YlGnBu\")\n",
    "plt.yticks(rotation=0)\n",
    "plt.xticks(rotation=90)"
   ]
  },
  {
   "cell_type": "markdown",
   "metadata": {},
   "source": [
    "Los resultados obtenidos son mucho peores e irregulares que con Naive Bayes, con categorías como la deportiva con una precisión bajísima pero con una exhaustividad perfecta, siendo el caso opuesto la tecnológica. El resto de categorías siguen el mismo patrón que la tecnológica.\n",
    "\n",
    "Si observamos la cantidad de articulos del conjunto de entrenamiento..."
   ]
  },
  {
   "cell_type": "code",
   "execution_count": 17,
   "metadata": {},
   "outputs": [
    {
     "data": {
      "text/plain": [
       "sport            284\n",
       "business         264\n",
       "politics         221\n",
       "entertainment    213\n",
       "tech             210\n",
       "Name: Category, dtype: int64"
      ]
     },
     "execution_count": 17,
     "metadata": {},
     "output_type": "execute_result"
    }
   ],
   "source": [
    "train_data['Category'].value_counts()"
   ]
  },
  {
   "cell_type": "markdown",
   "metadata": {},
   "source": [
    "Hay una diferencia tremenda entre los artículos tecnológicos y los económicos con el resto, por lo que se puede sospechar un sobreaprendizaje. Al relacionar k-NN la frecuencia con la que varias palabras se incluyen enun mismo texto, algunas como \"team\", \"win\" o incluso \"buy\" pueden haberse asociado erroneamente junto a otras más comunes con el resto de artículos y así haberlos arrastrado a esta categoría."
   ]
  },
  {
   "cell_type": "markdown",
   "metadata": {},
   "source": [
    "## 3) Representación basada en word-embeddings\n",
    "\n",
    "La segunda vectorización que vamos a usar representará los mensajes usando word-embeddings. Cada documento se representará como el vector que resulta de promediar los embeddings de cada una de sus palabras. Al igual que en el apartado anterior, usaremos monogramas y las _stop words_ que vienen configuradas por defecto para el inglés. Recuerda usar como vocabulario para vectorizar el vocabulario del fichero con las word-embeddings. \n",
    "\n",
    "Entrena un clasificador Naive Bayes Gaussiano (el Multinomial no admite valores negativos que sí aparecen en los embeddings). Analiza el error por clase y dibuja la matriz de confusión.\n",
    "\n",
    "Entrena otro clasificador kNN con la nueva vectorización y la configuración por defecto y analiza su error."
   ]
  },
  {
   "cell_type": "code",
   "execution_count": 18,
   "metadata": {},
   "outputs": [],
   "source": [
    "from gensim.scripts.glove2word2vec import glove2word2vec\n",
    "from gensim.models import KeyedVectors\n",
    "\n",
    "# Traducimos el fichero glove a un fichero con formato word2vec\n",
    "glove_file = 'words.txt'\n",
    "\n",
    "we_model = KeyedVectors.load_word2vec_format(glove_file, binary=False, no_header=True)"
   ]
  },
  {
   "cell_type": "code",
   "execution_count": 19,
   "metadata": {},
   "outputs": [],
   "source": [
    "from sklearn.feature_extraction.text import CountVectorizer\n",
    "from sklearn.feature_extraction.text import TfidfTransformer\n",
    "\n",
    "we_vocabulary = list(we_model.key_to_index.keys())\n",
    "\n",
    "we_vectorizer = CountVectorizer(vocabulary = we_vocabulary, stop_words='english', binary=False,ngram_range=(1,1), token_pattern=r'(?u)\\b[A-Za-z]+\\b')\n",
    "\n",
    "#vectorizamos con el vocabulario transformado\n",
    "we_train_vector_data = we_vectorizer.fit_transform(train_data.Text)\n",
    "we_test_vector_data=we_vectorizer.transform(test_data.Text)\n",
    "\n",
    "we_feature_names = we_vectorizer.get_feature_names() #obtenemos las palabras usadas"
   ]
  },
  {
   "cell_type": "code",
   "execution_count": 20,
   "metadata": {},
   "outputs": [],
   "source": [
    "# Entrena un clasificador Naive Bayes Gaussiano (el Multinomial no admite valores negativos que sí aparecen en los embeddings).\n",
    "#------------------------------------------------------------------------------\n",
    "\n",
    "from sklearn.naive_bayes import GaussianNB\n",
    "\n",
    "gnb_classifier = GaussianNB() #Naive Bayes gaussiano\n",
    "\n",
    "#Para que no se sature, partimos el conjunto de entrenamiento en bloques\n",
    "#que contengan una cantidad de vectores divisible entre el número total.\n",
    "#En nuestro caso tenemos 1192 artículos, por lo que podemos crear 8 bloques\n",
    "#con 149 vectores cada uno.\n",
    "\n",
    "num_rows=len(train_data['Category']) \n",
    "chunk_size=149 #tamaño del bloque\n",
    "\n",
    "for i in range(0, (num_rows//chunk_size)): #1192/149 = 8 bloques\n",
    "    train_chunk = we_train_vector_data[i*chunk_size : (i+1)*chunk_size,:].toarray() #bloque con los vectores\n",
    "    target_chunk = train_data['Category'][i*chunk_size : (i+1)*chunk_size] #bloque con las categorías\n",
    "    gnb_classifier.partial_fit(train_chunk, target_chunk, classes=np.unique(train_data['Category'])) #entrenamiento parcial"
   ]
  },
  {
   "cell_type": "code",
   "execution_count": 21,
   "metadata": {},
   "outputs": [
    {
     "name": "stdout",
     "output_type": "stream",
     "text": [
      "Gaussian Naive Bayes, porcentaje de aciertos en entrenamiento: 1.0\n",
      "Gaussian Naive Bayes, porcentaje de aciertos en test: 0.9093959731543624\n"
     ]
    }
   ],
   "source": [
    "# Creamos los arrays antes para ser más eficiente (crea el array grande y luego lo rellena con ceros)\n",
    "gnb_train_predictions=np.zeros_like(train_data['Category'])\n",
    "gnb_test_predictions=np.zeros_like(test_data['Category'])\n",
    "\n",
    "for i in range(0, (num_rows//chunk_size)): #predecimos el conjunto de entrenamiento\n",
    "    train_chunk = we_train_vector_data[i*chunk_size : (i+1)*chunk_size,:].toarray() #cogemos una seccion\n",
    "    gnb_train_predictions[i*chunk_size : (i+1)*chunk_size] = gnb_classifier.predict(train_chunk) #predecimos esa sección\n",
    "\n",
    "    \n",
    "#En nuestro caso, el conjunto de test está formado por 298 vectores,\n",
    "#número también divisible entre 149, por lo que no hace falta cambiar\n",
    "#el tamaño del bloque.\n",
    "num_rows=len(test_data['Category'])\n",
    "\n",
    "for i in range(0, (num_rows//chunk_size)): #298/149 = 2 bloques\n",
    "    test_chunk = we_test_vector_data[i*chunk_size : (i+1)*chunk_size,:].toarray()\n",
    "    gnb_test_predictions[i*chunk_size : (i+1)*chunk_size] = gnb_classifier.predict(test_chunk)\n",
    "\n",
    "print(\"Gaussian Naive Bayes, porcentaje de aciertos en entrenamiento:\", np.mean(gnb_train_predictions == train_data['Category']))\n",
    "print(\"Gaussian Naive Bayes, porcentaje de aciertos en test:\", np.mean(gnb_test_predictions == test_data['Category']))"
   ]
  },
  {
   "cell_type": "code",
   "execution_count": 22,
   "metadata": {},
   "outputs": [
    {
     "name": "stdout",
     "output_type": "stream",
     "text": [
      "               precision    recall  f1-score   support\n",
      "\n",
      "     business       0.94      0.92      0.93        72\n",
      "entertainment       0.90      0.88      0.89        60\n",
      "     politics       0.91      0.94      0.93        53\n",
      "        sport       0.98      0.90      0.94        62\n",
      "         tech       0.81      0.90      0.85        51\n",
      "\n",
      "     accuracy                           0.91       298\n",
      "    macro avg       0.91      0.91      0.91       298\n",
      " weighted avg       0.91      0.91      0.91       298\n",
      "\n"
     ]
    }
   ],
   "source": [
    "# Analiza el error por clase y dibuja la matriz de confusión.\n",
    "#------------------------------------------------------------------------------\n",
    "\n",
    "predictions = gnb_test_predictions #predicciones del conjunto de test\n",
    "\n",
    "print(classification_report(test_data['Category'], predictions, target_names=target_names))"
   ]
  },
  {
   "cell_type": "code",
   "execution_count": 23,
   "metadata": {},
   "outputs": [
    {
     "data": {
      "text/plain": [
       "(array([0.5, 1.5, 2.5, 3.5, 4.5]),\n",
       " [Text(0.5, 0, 'business'),\n",
       "  Text(1.5, 0, 'entertainment'),\n",
       "  Text(2.5, 0, 'politics'),\n",
       "  Text(3.5, 0, 'sport'),\n",
       "  Text(4.5, 0, 'tech')])"
      ]
     },
     "execution_count": 23,
     "metadata": {},
     "output_type": "execute_result"
    },
    {
     "data": {
      "image/png": "[encoded data removed]",
      "text/plain": [
       "<Figure size 1080x720 with 2 Axes>"
      ]
     },
     "metadata": {
      "needs_background": "light"
     },
     "output_type": "display_data"
    }
   ],
   "source": [
    "%matplotlib inline\n",
    "\n",
    "conf_matrix = confusion_matrix(test_data['Category'], predictions)\n",
    "conf_matrix_df = pd.DataFrame(conf_matrix, index=target_names,\n",
    "                              columns=target_names)\n",
    "\n",
    "plt.figure(figsize=(15, 10))\n",
    "sn.heatmap(conf_matrix_df, annot=True, vmin=0, vmax=conf_matrix.max(), fmt='d', cmap=\"YlGnBu\")\n",
    "plt.yticks(rotation=0)\n",
    "plt.xticks(rotation=90)"
   ]
  },
  {
   "cell_type": "markdown",
   "metadata": {},
   "source": [
    "Respecto al Naive Bayes sin word-embeddings, observamos que las predicciones sobre el conjunto de entrenamiento son perfectas, pero en el conjunto de test han bajado al 90%. No hay una gran diferencia ni en la precisión ni en la exhaustividad de las distintas clases, si acaso la más destacable es la de tecnología, cuya precisión alcanza poco más del 80%.\n",
    "\n",
    "Cabe decir que esos artículos mal clasificados como tecnológicos son sobre todo de entretenimiento y de economía, algo lógico teniendo en cuenta que es donde más relación se va a encontrar entre términos usados y sinónimos. En la de entretenimiento hay tres artículos mal clasificados que realmente pertenecen a la deportiva, y se puede aplicar el mismo argumento de antes."
   ]
  },
  {
   "cell_type": "code",
   "execution_count": 24,
   "metadata": {},
   "outputs": [
    {
     "name": "stdout",
     "output_type": "stream",
     "text": [
      "k-NN, porcentaje de aciertos en entrenamiento: 0.5914429530201343\n",
      "k-NN, porcentaje de aciertos en test: 0.47315436241610737\n"
     ]
    }
   ],
   "source": [
    "# Entrena otro clasificador kNN con la nueva vectorización y la configuración por defecto y analiza su error.\n",
    "#------------------------------------------------------------------------------\n",
    "\n",
    "we_knn_classifier = neighbors.KNeighborsClassifier()\n",
    "we_knn_classifier.fit(we_train_vector_data, train_data['Category']) #entrenamos el clasificador\n",
    "\n",
    "we_knn_train_predictions = we_knn_classifier.predict(we_train_vector_data) #predecimos el conjunto de entrenamiento\n",
    "we_knn_test_predictions = we_knn_classifier.predict(we_test_vector_data) #predecimos el conjunto de test\n",
    "\n",
    "print(\"k-NN, porcentaje de aciertos en entrenamiento:\", np.mean(we_knn_train_predictions == train_data['Category']))\n",
    "print(\"k-NN, porcentaje de aciertos en test:\", np.mean(we_knn_test_predictions == test_data['Category']))"
   ]
  },
  {
   "cell_type": "code",
   "execution_count": 27,
   "metadata": {},
   "outputs": [
    {
     "name": "stdout",
     "output_type": "stream",
     "text": [
      "               precision    recall  f1-score   support\n",
      "\n",
      "     business       0.84      0.29      0.43        72\n",
      "entertainment       0.89      0.42      0.57        60\n",
      "     politics       1.00      0.42      0.59        53\n",
      "        sport       0.29      1.00      0.45        62\n",
      "         tech       1.00      0.22      0.35        51\n",
      "\n",
      "     accuracy                           0.47       298\n",
      "    macro avg       0.81      0.47      0.48       298\n",
      " weighted avg       0.79      0.47      0.48       298\n",
      "\n"
     ]
    }
   ],
   "source": [
    "predictions = we_knn_test_predictions\n",
    "\n",
    "print(classification_report(test_data['Category'], predictions, target_names=target_names))"
   ]
  },
  {
   "cell_type": "code",
   "execution_count": 28,
   "metadata": {},
   "outputs": [
    {
     "data": {
      "text/plain": [
       "(array([0.5, 1.5, 2.5, 3.5, 4.5]),\n",
       " [Text(0.5, 0, 'business'),\n",
       "  Text(1.5, 0, 'entertainment'),\n",
       "  Text(2.5, 0, 'politics'),\n",
       "  Text(3.5, 0, 'sport'),\n",
       "  Text(4.5, 0, 'tech')])"
      ]
     },
     "execution_count": 28,
     "metadata": {},
     "output_type": "execute_result"
    },
    {
     "data": {
      "image/png": "[encoded data removed]",
      "text/plain": [
       "<Figure size 1080x720 with 2 Axes>"
      ]
     },
     "metadata": {
      "needs_background": "light"
     },
     "output_type": "display_data"
    }
   ],
   "source": [
    "%matplotlib inline\n",
    "\n",
    "conf_matrix = confusion_matrix(test_data['Category'], predictions)\n",
    "conf_matrix_df = pd.DataFrame(conf_matrix, index=target_names,\n",
    "                              columns=target_names)\n",
    "\n",
    "plt.figure(figsize=(15, 10))\n",
    "sn.heatmap(conf_matrix_df, annot=True, vmin=0, vmax=conf_matrix.max(), fmt='d', cmap=\"YlGnBu\")\n",
    "plt.yticks(rotation=0)\n",
    "plt.xticks(rotation=90)"
   ]
  },
  {
   "cell_type": "markdown",
   "metadata": {},
   "source": [
    "De nuevo, vemos como el uso de word-embeddings ha empeorado los resultados. La precisión se sigue manteniendo alta en todas las categorías menos en la deportiva, que vuelve a tener una exhaustividad perfecta pero cuenta con muchos más textos clasificados erróneamente en esta categoría. De nuevo, puede tratarse de un problema de sobreaprendizaje, ya que este error no se manifiesta solo en las predicciones del conjunto de test, sino también en las del conjunto de entrenamiento. "
   ]
  },
  {
   "cell_type": "markdown",
   "metadata": {},
   "source": [
    "## 4) Análisis comparativo final\n",
    "\n",
    "Hemos entrenado dos clasificadores usando dos vectorizaciones diferentes de los datos. Compara la tasa de acierto de todos ellos y explica a qué crees que se deben las diferencias.\n",
    "\n",
    "Busca un mensaje mal clasificado por el Naive Bayes con vectorización de frecuencias y otro mal clasificado por el k-NN con Word-embeddings. Analiza los vectores de términos de dichos mensajes e intenta razonar por qué ha sido clasificado erróneamente.\n",
    "\n",
    "Para el Naive Bayes con vectorización de frecuencias, elige dos clases donde el clasificador no haya funcionado bien y analiza las palabras más relevantes para clasificar una noticia como de dichas clases. Razona si lo que ves crees que influye en la posible confusión a la hora de clasificar entre dichas clases."
   ]
  },
  {
   "cell_type": "code",
   "execution_count": 29,
   "metadata": {},
   "outputs": [
    {
     "name": "stdout",
     "output_type": "stream",
     "text": [
      "Multinomial Naive Bayes, porcentaje de aciertos en entrenamiento: 0.99748322147651\n",
      "Multinomial Naive Bayes, porcentaje de aciertos en test: 0.9798657718120806\n",
      "\n",
      "k-NN, porcentaje de aciertos en entrenamiento: 0.6870805369127517\n",
      "k-NN, porcentaje de aciertos en test: 0.540268456375839\n",
      "\n",
      "Gaussian Naive Bayes, porcentaje de aciertos en entrenamiento: 1.0\n",
      "Gaussian Naive Bayes, porcentaje de aciertos en test: 0.9093959731543624\n",
      "\n",
      "k-NN con word-embeddings, porcentaje de aciertos en entrenamiento: 0.5914429530201343\n",
      "k-NN con word-embeddings, porcentaje de aciertos en test: 0.47315436241610737\n"
     ]
    }
   ],
   "source": [
    "print(\"Multinomial Naive Bayes, porcentaje de aciertos en entrenamiento:\", np.mean(mnb_train_predictions == train_data['Category']))\n",
    "print(\"Multinomial Naive Bayes, porcentaje de aciertos en test:\", np.mean(mnb_test_predictions == test_data['Category']))\n",
    "\n",
    "print(\"\\nk-NN, porcentaje de aciertos en entrenamiento:\", np.mean(knn_train_predictions == train_data['Category']))\n",
    "print(\"k-NN, porcentaje de aciertos en test:\", np.mean(knn_test_predictions == test_data['Category']))\n",
    "\n",
    "print(\"\\nGaussian Naive Bayes, porcentaje de aciertos en entrenamiento:\", np.mean(gnb_train_predictions == train_data['Category']))\n",
    "print(\"Gaussian Naive Bayes, porcentaje de aciertos en test:\", np.mean(gnb_test_predictions == test_data['Category']))\n",
    "\n",
    "print(\"\\nk-NN con word-embeddings, porcentaje de aciertos en entrenamiento:\", np.mean(we_knn_train_predictions == train_data['Category']))\n",
    "print(\"k-NN con word-embeddings, porcentaje de aciertos en test:\", np.mean(we_knn_test_predictions == test_data['Category']))"
   ]
  },
  {
   "cell_type": "markdown",
   "metadata": {},
   "source": [
    "En conjunto, se observa que el Naive Bayes ha funcionado mucho mejor que el k-NN, y que el uso de word-embeddings ha desmejorado las predicciones en todos los casos con la excepción del conjunto de entrenamiento en el gaussiano.\n",
    "\n",
    "Una de las causas más probables por las que k-NN no funcione tan bien sea por la naturaleza de los mensajes. Al tratarse de artículos periodísticos, es normal que haya expresiones o ciertos conjuntos de palabras que se repitan a lo largo de todos los artículos Además, si hay muchos textos de una categoría concreta, puede ser que esté asociando los términos más específicos con otros que son más comunes con el resto, lo que arrastrará a otros textos a ser mal clasificados.\n",
    "\n",
    "Para las word-embeddings, al funcionar con analogías y con textos grandes (los vectores contienen bastantes palabras), puede estar sucediendo que aquellas palabras claves y representativas de una categoría concreta se vean diluidas por el resto o que no se reconozcan como tal. este puede ser el caso de palabras como \"match\" y \"game\", que en ciertos contextos significan lo mismo y pueden confundir si se refiere a un partido de fútbol y a un videojuego, por ejemplo. "
   ]
  },
  {
   "cell_type": "code",
   "execution_count": 32,
   "metadata": {},
   "outputs": [
    {
     "name": "stdout",
     "output_type": "stream",
     "text": [
      "Naive Bayes: noticia 35\n",
      "Categoria real: business\n",
      "Categoria predicha: entertainment \n",
      "\n",
      "k-NN con Word-embeddings: noticia 0\n",
      "Categoria real: politics\n",
      "Categoria predicha por k-NN: sport\n"
     ]
    }
   ],
   "source": [
    "# Busca un mensaje mal clasificado por el Naive Bayes con vectorización de frecuencias\n",
    "# y otro mal clasificado por el k-NN con Word-embeddings. \n",
    "#------------------------------------------------------------------------------\n",
    "\n",
    "for i in range(0, len(test_data['Text'])): #buscamos en el conjunto de test\n",
    "    if test_data['Category'][i] != mnb_test_predictions[i]: #si la categoría real no es la predicha\n",
    "        print('Naive Bayes: noticia',i)\n",
    "        print('Categoria real:', test_data['Category'][i])\n",
    "        print('Categoria predicha:', mnb_test_predictions[i],'\\n')\n",
    "        break #paramos la búsqueda\n",
    "\n",
    "for i in range(0, len(test_data['Text'])):\n",
    "    if test_data['Category'][i] != we_knn_test_predictions[i]:\n",
    "        print('k-NN con Word-embeddings: noticia',i)\n",
    "        print('Categoria real:', test_data['Category'][i])\n",
    "        print('Categoria predicha por k-NN:', we_knn_test_predictions[i])\n",
    "        break"
   ]
  },
  {
   "cell_type": "code",
   "execution_count": 40,
   "metadata": {},
   "outputs": [
    {
     "name": "stdout",
     "output_type": "stream",
     "text": [
      "Mensaje 35 : mcdonald s boss bell dies aged 44 charlie bell  the straight-talking former head of fast-food giant mcdonald s  has died of cancer aged 44.  mr bell was diagnosed with colorectal cancer in may last year  a month after taking over the top job. he resigned in november to fight the illness. joining the company as a 15-year-old part-time worker  mr bell quickly moved through its ranks  becoming australia s youngest store manager at 19. a popular go-getter  he is credited with helping revive mcdonald s sales. mr bell leaves a wife and daughter.  as we mourn his passing  i ask you to keep charlie s family in your hearts and prayers   chief executive james skinner said in a statement.  and remember that in his abbreviated time on this earth  charlie lived life to the fullest.   no matter what cards life dealt  charlie stayed centred on his love for his family and for mcdonald s.   after running the company s australian business in the 1990s  mr bell moved to the us in 1999 to run operations in asia  africa and the middle east. in 2001  he took over the reins in europe  mcdonald s second most important market. he became chief operating officer and president in 2002. mr bell took over as chief executive after his predecessor as ceo  jim cantalupo  died suddenly of a heart attack in april. having worked closely with mr cantalupo  who came out of retirement to turn mcdonald s around  mr bell focused on boosting demand at existing restaurants rather than follow a policy of rapid expansion. he had promised not to let the company get  fat  dumb and happy   and  according to reuters  once told analysts that he would shove a fire hose down the throat of competitors if he saw them drowning. mr bell oversaw mcdonald s  i m lovin  it  advertising campaign and introduced successes such as mccafe  now the biggest coffee shop brand in australia and new zealand. colleagues said that mr bell was proud of his humble beginnings  helping out behind cash tills and clearing tables when visiting restaurants.\n",
      "Mensaje 35 vectorizado: ['according' 'advertising' 'africa' 'aged' 'analysts' 'april' 'asia' 'ask'\n",
      " 'attack' 'australia' 'australian' 'beginnings' 'bell' 'biggest'\n",
      " 'boosting' 'boss' 'brand' 'business' 'came' 'campaign' 'cancer' 'cards'\n",
      " 'cash' 'centred' 'ceo' 'charlie' 'chief' 'clearing' 'closely' 'coffee'\n",
      " 'colleagues' 'company' 'competitors' 'credited' 'daughter' 'dealt'\n",
      " 'demand' 'diagnosed' 'died' 'dies' 'drowning' 'dumb' 'earth' 'east'\n",
      " 'europe' 'executive' 'existing' 'expansion' 'family' 'fast' 'fat' 'fight'\n",
      " 'focused' 'follow' 'food' 'fullest' 'giant' 'happy' 'having' 'head'\n",
      " 'heart' 'hearts' 'helping' 'humble' 'illness' 'important' 'introduced'\n",
      " 'james' 'jim' 'job' 'joining' 'leaves' 'let' 'life' 'lived' 'love' 'm'\n",
      " 'manager' 'market' 'matter' 'mcdonald' 'middle' 'month' 'moved' 'mr'\n",
      " 'new' 'november' 'officer' 'old' 'operating' 'operations' 'oversaw'\n",
      " 'passing' 'policy' 'popular' 'predecessor' 'president' 'promised' 'proud'\n",
      " 'quickly' 'ranks' 'rapid' 'remember' 'resigned' 'restaurants'\n",
      " 'retirement' 'reuters' 'revive' 'run' 'running' 's' 'said' 'sales' 'saw'\n",
      " 'second' 'shop' 'shove' 'skinner' 'statement' 'stayed' 'store' 'straight'\n",
      " 'successes' 'suddenly' 'taking' 'talking' 'throat' 'tills' 'time' 'told'\n",
      " 'took' 'turn' 'visiting' 'wife' 'worked' 'worker' 'year' 'youngest'\n",
      " 'zealand'] \n",
      "\n",
      "Categoria real: business\n",
      "Categoria predicha: entertainment \n",
      "\n"
     ]
    }
   ],
   "source": [
    "# Analiza los vectores de términos de dichos mensajes e intenta razonar por qué ha sido clasificado erróneamente.\n",
    "#------------------------------------------------------------------------------\n",
    "\n",
    "write_terms(feature_names, test_data.Text, test_vector_data,35)\n",
    "print('Categoria real:', test_data['Category'][35])\n",
    "print('Categoria predicha:', mnb_test_predictions[35],'\\n')"
   ]
  },
  {
   "cell_type": "markdown",
   "metadata": {},
   "source": [
    "El texto habla de la muerte de un ex-director de McDonalds. Aunque habla de su recorrido en la empresa, también se tocan temas personales y se menciona a su familia. Palabras como \"family\", \"wife\", \"love\", \"dumb\", \"cards\" o \"daughter\" no son propias de un artículo sobre una empresa. Hay otras como \"market\", \"worker\", \"manager\", \"business\" o \"company\", pero estas pueden también aplicarse a otros contextos más fácilmente."
   ]
  },
  {
   "cell_type": "code",
   "execution_count": 42,
   "metadata": {},
   "outputs": [
    {
     "name": "stdout",
     "output_type": "stream",
     "text": [
      "Mensaje 0 : boris opposes mayor apology ken livingstone should  stick to his guns  and not apologise for his  nazi  comment to a jewish reporter  tory mp boris johnson has insisted.  mr johnson also claimed tony blair s intervention in the row was  an attempt to reassure jewish voters . london mayor mr livingstone says he is  standing by  his remarks which likened an evening standard journalist to a  concentration camp guard . but the prime minister says it is time for mr livingstone to say sorry.  labour s mr livingstone has said his comments may have been offensive but were not racist  and said earlier this week he would not apologise even if mr blair asked. later the prime minister said:  a lot of us in politics get angry with journalists from time to time  but in the circumstances  and to the journalist because he was a jewish journalist  yes  he should apologise.   however  mr johnson  who was forced to apologise last year for an article in the magazine he edits about liverpudlians grieving over the death of british hostage ken bigley  said mr blair  should butt out of  the row.  i don t see why the prime minister has to get involved in this   the spectator editor told bbc radio 4 s today programme.  it s a dispute between ken livingstone and a reporter on the evening standard.  mr johnson  mp for henley-on-thames  oxfordshire  said he suspected labour was now trying to reassure jewish voters  because of this curious way in which labour seems to be trying to curry favour with disillusioned muslim voters who may be disillusioned about the war .   ken doesn t think he s got anything to say sorry for and if that s really his feeling  then i think that he should stick to his guns   he said. mr johnson apologised last october for perpetuating an  outdated stereotype  of liverpool in the leader article on the death of mr bigley. the article in the magazine suggested grieving liverpudlians were wallowing in their victim status. it also attributed blame to drunken liverpool football fans for the 1989 hillsborough disaster in which 96 died. mr johnson told today:  it s perfectly true that i got into the grovelling game myself and when i apologised there were some things that i felt i ought to say sorry for ... there were also other things i didn t think i should apologise for   he said.  but here s old ken - he s been crass  he s been insensitive and thuggish and brutal in his language - but i don t think actually if you read what he said  although it was extraordinary and rude  i don t think he was actually anti-semitic.\n",
      "Mensaje 0 vectorizado: ['actually' 'angry' 'anti' 'apologise' 'apologised' 'apology' 'article'\n",
      " 'asked' 'attempt' 'attributed' 'bbc' 'blair' 'blame' 'british' 'brutal'\n",
      " 'butt' 'camp' 'circumstances' 'claimed' 'comment' 'comments'\n",
      " 'concentration' 'crass' 'curry' 'death' 'didn' 'died' 'disaster'\n",
      " 'disillusioned' 'dispute' 'doesn' 'don' 'drunken' 'earlier' 'editor'\n",
      " 'edits' 'evening' 'extraordinary' 'fans' 'favour' 'feeling' 'felt'\n",
      " 'football' 'forced' 'game' 'got' 'guard' 'guns' 'hillsborough' 'hostage'\n",
      " 'insisted' 'intervention' 'involved' 'jewish' 'johnson' 'journalist'\n",
      " 'journalists' 'ken' 'labour' 'language' 'later' 'leader' 'likened'\n",
      " 'liverpool' 'livingstone' 'london' 'lot' 'magazine' 'mayor' 'minister'\n",
      " 'mp' 'mr' 'muslim' 'nazi' 'october' 'offensive' 'old' 'opposes' 'ought'\n",
      " 'outdated' 'oxfordshire' 'perfectly' 'politics' 'prime' 'programme'\n",
      " 'racist' 'radio' 'read' 'really' 'reassure' 'remarks' 'reporter' 'row'\n",
      " 'rude' 's' 'said' 'say' 'says' 'semitic' 'sorry' 'spectator' 'standard'\n",
      " 'standing' 'status' 'stereotype' 'stick' 'suggested' 'suspected' 't'\n",
      " 'thames' 'things' 'think' 'time' 'today' 'told' 'tony' 'tory' 'true'\n",
      " 'trying' 'victim' 'voters' 'war' 'way' 'week' 'year' 'yes'] \n",
      "\n",
      "Categoria real: politics\n",
      "Categoria predicha: sport\n"
     ]
    }
   ],
   "source": [
    "write_terms(feature_names, test_data.Text, test_vector_data,0)\n",
    "print('Categoria real:', test_data['Category'][0])\n",
    "print('Categoria predicha:', we_knn_test_predictions[0])"
   ]
  },
  {
   "cell_type": "markdown",
   "metadata": {},
   "source": [
    "Podemos ver que el vector contiene palabras como \"football\", \"game\", \"liverpool\", \"london\", \"spectator\", \"fans\" o \"camp\" (que puede asociarse a \"field\" y por tanto referirse al terreno de juego), y que fácilmente pueden asociarse entre sí para dar a entender que habla de un partido de fútbol. Sin embargo, también se encuentra otro grupo de palabras como \"nazi\", \"muslim\", \"semitic\", \"tory\", \"war\", \"politics\", \"prime\" o \"mayor\", por lo que no es de extrañar, al igual que en el artículo anterior, que no supiera discernir entre una categoría u otra.\n",
    "\n",
    "En ambos casos las versiones vectorizadas mezclan palabras relevantes para dos categorías distintas, además de contener una gran cantidad de ruido con términos como \"said\", \"think\", \"things\" o \"year\", palabras muy comunes en ambas."
   ]
  },
  {
   "cell_type": "code",
   "execution_count": 43,
   "metadata": {},
   "outputs": [],
   "source": [
    "# Para el Naive Bayes con vectorización de frecuencias, elige dos clases donde el clasificador no haya funcionado bien\n",
    "# y analiza las palabras más relevantes para clasificar una noticia como de dichas clases.\n",
    "# Razona si lo que ves crees que influye en la posible confusión a la hora de clasificar entre dichas clases.\n",
    "#------------------------------------------------------------------------------\n",
    "\n",
    "def print_top20_features_per_class_in_NB(vectorizer, clf, class_labels):\n",
    "    \"\"\"Prints features with the highest coefficient values, per class\"\"\"\n",
    "    feature_names = vectorizer.get_feature_names()\n",
    "    print(\"Top 20 features per class\\n\")\n",
    "    for i, class_label in enumerate(class_labels):\n",
    "        top20 = np.argsort(clf.feature_log_prob_[i])[-20:]\n",
    "        reversed_top = top20[::-1]\n",
    "        \n",
    "        print(\"%s: %s\" % (class_label,\n",
    "              \" / \".join(feature_names[j] for j in reversed_top)),'\\n')\n",
    "        \n",
    "        #Descomentar para ver el índice de los términos en el diccionario\n",
    "        #print(\"%s \" % (\" / \".join(str(j) for j in reversed_top)),'\\n')"
   ]
  },
  {
   "cell_type": "code",
   "execution_count": 44,
   "metadata": {},
   "outputs": [
    {
     "name": "stdout",
     "output_type": "stream",
     "text": [
      "Top 20 features per class\n",
      "\n",
      "business: s / said / year / mr / new / market / growth / company / economy / firm / government / bank / economic / oil / years / world / shares / sales / business / companies \n",
      "\n",
      "entertainment: s / film / said / best / year / music / new / awards / band / uk / actor / t / director / award / won / films / star / album / number / years \n",
      "\n",
      "politics: said / mr / s / labour / government / election / blair / people / party / minister / brown / new / uk / told / howard / plans / public / prime / year / tax \n",
      "\n",
      "sport: s / said / game / england / t / year / time / win / world / cup / new / team / players / m / final / match / good / play / half / o \n",
      "\n",
      "tech: said / s / people / mobile / new / mr / technology / users / net / software / use / phone / music / year / microsoft / digital / service / make / like / computer \n",
      "\n"
     ]
    }
   ],
   "source": [
    "print_top20_features_per_class_in_NB(vectorizer,mnb_classifier,target_names)  "
   ]
  },
  {
   "cell_type": "markdown",
   "metadata": {},
   "source": [
    "En general, vemos que en el top de palabras de cada categoría se encuentran \"said\", \"new\", \"year\" y \"s\" entre las primeras. Si observamos las categorías \"entertainment\" y \"tech\", el resto de palabras son únicas a excepción de \"music\". La razón por la que funciona tan bien este clasificador es porque tiene en cuenta la frecuencia de cada categoría y de que una palabra aparezca en la misma, calculando así la probabilidad de que aparezca en cada clase. Por ello, no se ve tan influído por palabras muy comunes entre todas ellas, ya que el uso de una palabra como \"said\" es muy alto en todas ellas y se acaba compensando.\n",
    "\n",
    "Sin embargo, el contexto de las noticias es muy importante, ya que relatan hechos sucedidos a principios de siglo. Pese a que tiene mucho más sentido clasificar \"music\" dentro de la categoría de entretenimiento, en esos años también hubo una revolución tecnológica respecto a los reproductores portátiles como el iPod y los teléfonos móviles. Siendo este el caso, no es de extrañar que haya una gran cantidad de noticias al respecto en esta categoría y por tanto un término tan identificativo pueda confundirlo."
   ]
  }
 ],
 "metadata": {
  "kernelspec": {
   "display_name": "Python 3",
   "language": "python",
   "name": "python3"
  },
  "language_info": {
   "codemirror_mode": {
    "name": "ipython",
    "version": 3
   },
   "file_extension": ".py",
   "mimetype": "text/x-python",
   "name": "python",
   "nbconvert_exporter": "python",
   "pygments_lexer": "ipython3",
   "version": "3.7.11"
  }
 },
 "nbformat": 4,
 "nbformat_minor": 2
}
